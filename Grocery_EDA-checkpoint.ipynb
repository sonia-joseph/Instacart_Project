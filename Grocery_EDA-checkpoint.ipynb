{
 "cells": [
  {
   "cell_type": "markdown",
   "id": "7abe05b9",
   "metadata": {},
   "source": [
    "# EDA Project: Instacart Shopping Trends Analysis\n",
    "This is a project that aims to understand the shopping behavior of customers who shop for groceries at Instacart. \n",
    "To understand the source data better I opened it on Notes and realized that rather than the standard ','which is the typical separator for csv files, the separator in this case is ';' which would need to be incorporated when reading the file. I also noted that various numerical values like aisle and days since prior order are entered as rational numbers and not integers.\n",
    "In the following series of code we will read in the files using the appropriate arguments and call info on them to get a sense of the missing values."
   ]
  },
  {
   "cell_type": "code",
   "execution_count": 2,
   "id": "fbf1adab",
   "metadata": {},
   "outputs": [],
   "source": [
    "import pandas as pd\n",
    "from matplotlib import pyplot as plt\n",
    "#read in the instacart_orders file\n",
    "orders = pd.read_csv( 'https://www.dropbox.com/scl/fi/lremdww25nj8sqpa7ebqn/instacart_orders.csv?rlkey=lelsxbc7ppqhrdylc0omxt2o8&dl=1', sep=';')\n",
    "#read in the products file\n",
    "products = pd.read_csv('https://www.dropbox.com/scl/fi/tp8wjsndxtoxficgnvdaf/products.csv?rlkey=cs2q3sxdvmlfsa05shnm9hw4q&dl=1', sep=';')\n",
    "#read in the aisles file\n",
    "aisles = pd.read_csv('https://www.dropbox.com/scl/fi/3l4fc1bi84frnrqptqofh/aisles.csv?rlkey=sn7j4bcai046lev66g20moz65&dl=1', sep=';')\n",
    "#read in department file\n",
    "departments = pd.read_csv('https://www.dropbox.com/scl/fi/ljbrv0o41s9vznreptxcs/departments.csv?rlkey=ud7hmcvno0hnucpr650m2806j&dl=1',sep=';')\n",
    "#read in product file\n",
    "order_products = pd.read_csv( 'https://www.dropbox.com/scl/fi/enej8zjr78g7j2ksm4u01/order_products.csv?rlkey=91sxutcgvqsp3pqx4i3eqxch6&dl=1', sep=';')"
   ]
  },
  {
   "cell_type": "code",
   "execution_count": 3,
   "id": "6fc81694",
   "metadata": {},
   "outputs": [
    {
     "name": "stdout",
     "output_type": "stream",
     "text": [
      "<class 'pandas.core.frame.DataFrame'>\n",
      "RangeIndex: 478967 entries, 0 to 478966\n",
      "Data columns (total 6 columns):\n",
      " #   Column                  Non-Null Count   Dtype  \n",
      "---  ------                  --------------   -----  \n",
      " 0   order_id                478967 non-null  int64  \n",
      " 1   user_id                 478967 non-null  int64  \n",
      " 2   order_number            478967 non-null  int64  \n",
      " 3   order_dow               478967 non-null  int64  \n",
      " 4   order_hour_of_day       478967 non-null  int64  \n",
      " 5   days_since_prior_order  450148 non-null  float64\n",
      "dtypes: float64(1), int64(5)\n",
      "memory usage: 21.9 MB\n"
     ]
    },
    {
     "data": {
      "text/html": [
       "<div>\n",
       "<style scoped>\n",
       "    .dataframe tbody tr th:only-of-type {\n",
       "        vertical-align: middle;\n",
       "    }\n",
       "\n",
       "    .dataframe tbody tr th {\n",
       "        vertical-align: top;\n",
       "    }\n",
       "\n",
       "    .dataframe thead th {\n",
       "        text-align: right;\n",
       "    }\n",
       "</style>\n",
       "<table border=\"1\" class=\"dataframe\">\n",
       "  <thead>\n",
       "    <tr style=\"text-align: right;\">\n",
       "      <th></th>\n",
       "      <th>order_id</th>\n",
       "      <th>user_id</th>\n",
       "      <th>order_number</th>\n",
       "      <th>order_dow</th>\n",
       "      <th>order_hour_of_day</th>\n",
       "      <th>days_since_prior_order</th>\n",
       "    </tr>\n",
       "  </thead>\n",
       "  <tbody>\n",
       "    <tr>\n",
       "      <th>0</th>\n",
       "      <td>1515936</td>\n",
       "      <td>183418</td>\n",
       "      <td>11</td>\n",
       "      <td>6</td>\n",
       "      <td>13</td>\n",
       "      <td>30.0</td>\n",
       "    </tr>\n",
       "    <tr>\n",
       "      <th>1</th>\n",
       "      <td>1690866</td>\n",
       "      <td>163593</td>\n",
       "      <td>5</td>\n",
       "      <td>5</td>\n",
       "      <td>12</td>\n",
       "      <td>9.0</td>\n",
       "    </tr>\n",
       "    <tr>\n",
       "      <th>2</th>\n",
       "      <td>1454967</td>\n",
       "      <td>39980</td>\n",
       "      <td>4</td>\n",
       "      <td>5</td>\n",
       "      <td>19</td>\n",
       "      <td>2.0</td>\n",
       "    </tr>\n",
       "    <tr>\n",
       "      <th>3</th>\n",
       "      <td>1768857</td>\n",
       "      <td>82516</td>\n",
       "      <td>56</td>\n",
       "      <td>0</td>\n",
       "      <td>20</td>\n",
       "      <td>10.0</td>\n",
       "    </tr>\n",
       "    <tr>\n",
       "      <th>4</th>\n",
       "      <td>3007858</td>\n",
       "      <td>196724</td>\n",
       "      <td>2</td>\n",
       "      <td>4</td>\n",
       "      <td>12</td>\n",
       "      <td>17.0</td>\n",
       "    </tr>\n",
       "  </tbody>\n",
       "</table>\n",
       "</div>"
      ],
      "text/plain": [
       "   order_id  user_id  order_number  order_dow  order_hour_of_day  \\\n",
       "0   1515936   183418            11          6                 13   \n",
       "1   1690866   163593             5          5                 12   \n",
       "2   1454967    39980             4          5                 19   \n",
       "3   1768857    82516            56          0                 20   \n",
       "4   3007858   196724             2          4                 12   \n",
       "\n",
       "   days_since_prior_order  \n",
       "0                    30.0  \n",
       "1                     9.0  \n",
       "2                     2.0  \n",
       "3                    10.0  \n",
       "4                    17.0  "
      ]
     },
     "metadata": {},
     "output_type": "display_data"
    },
    {
     "name": "stdout",
     "output_type": "stream",
     "text": [
      "<class 'pandas.core.frame.DataFrame'>\n",
      "RangeIndex: 49694 entries, 0 to 49693\n",
      "Data columns (total 4 columns):\n",
      " #   Column         Non-Null Count  Dtype \n",
      "---  ------         --------------  ----- \n",
      " 0   product_id     49694 non-null  int64 \n",
      " 1   product_name   48436 non-null  object\n",
      " 2   aisle_id       49694 non-null  int64 \n",
      " 3   department_id  49694 non-null  int64 \n",
      "dtypes: int64(3), object(1)\n",
      "memory usage: 1.5+ MB\n"
     ]
    },
    {
     "data": {
      "text/html": [
       "<div>\n",
       "<style scoped>\n",
       "    .dataframe tbody tr th:only-of-type {\n",
       "        vertical-align: middle;\n",
       "    }\n",
       "\n",
       "    .dataframe tbody tr th {\n",
       "        vertical-align: top;\n",
       "    }\n",
       "\n",
       "    .dataframe thead th {\n",
       "        text-align: right;\n",
       "    }\n",
       "</style>\n",
       "<table border=\"1\" class=\"dataframe\">\n",
       "  <thead>\n",
       "    <tr style=\"text-align: right;\">\n",
       "      <th></th>\n",
       "      <th>product_id</th>\n",
       "      <th>product_name</th>\n",
       "      <th>aisle_id</th>\n",
       "      <th>department_id</th>\n",
       "    </tr>\n",
       "  </thead>\n",
       "  <tbody>\n",
       "    <tr>\n",
       "      <th>0</th>\n",
       "      <td>1</td>\n",
       "      <td>Chocolate Sandwich Cookies</td>\n",
       "      <td>61</td>\n",
       "      <td>19</td>\n",
       "    </tr>\n",
       "    <tr>\n",
       "      <th>1</th>\n",
       "      <td>2</td>\n",
       "      <td>All-Seasons Salt</td>\n",
       "      <td>104</td>\n",
       "      <td>13</td>\n",
       "    </tr>\n",
       "    <tr>\n",
       "      <th>2</th>\n",
       "      <td>3</td>\n",
       "      <td>Robust Golden Unsweetened Oolong Tea</td>\n",
       "      <td>94</td>\n",
       "      <td>7</td>\n",
       "    </tr>\n",
       "    <tr>\n",
       "      <th>3</th>\n",
       "      <td>4</td>\n",
       "      <td>Smart Ones Classic Favorites Mini Rigatoni Wit...</td>\n",
       "      <td>38</td>\n",
       "      <td>1</td>\n",
       "    </tr>\n",
       "    <tr>\n",
       "      <th>4</th>\n",
       "      <td>5</td>\n",
       "      <td>Green Chile Anytime Sauce</td>\n",
       "      <td>5</td>\n",
       "      <td>13</td>\n",
       "    </tr>\n",
       "  </tbody>\n",
       "</table>\n",
       "</div>"
      ],
      "text/plain": [
       "   product_id                                       product_name  aisle_id  \\\n",
       "0           1                         Chocolate Sandwich Cookies        61   \n",
       "1           2                                   All-Seasons Salt       104   \n",
       "2           3               Robust Golden Unsweetened Oolong Tea        94   \n",
       "3           4  Smart Ones Classic Favorites Mini Rigatoni Wit...        38   \n",
       "4           5                          Green Chile Anytime Sauce         5   \n",
       "\n",
       "   department_id  \n",
       "0             19  \n",
       "1             13  \n",
       "2              7  \n",
       "3              1  \n",
       "4             13  "
      ]
     },
     "metadata": {},
     "output_type": "display_data"
    },
    {
     "name": "stdout",
     "output_type": "stream",
     "text": [
      "<class 'pandas.core.frame.DataFrame'>\n",
      "RangeIndex: 134 entries, 0 to 133\n",
      "Data columns (total 2 columns):\n",
      " #   Column    Non-Null Count  Dtype \n",
      "---  ------    --------------  ----- \n",
      " 0   aisle_id  134 non-null    int64 \n",
      " 1   aisle     134 non-null    object\n",
      "dtypes: int64(1), object(1)\n",
      "memory usage: 2.2+ KB\n"
     ]
    },
    {
     "data": {
      "text/html": [
       "<div>\n",
       "<style scoped>\n",
       "    .dataframe tbody tr th:only-of-type {\n",
       "        vertical-align: middle;\n",
       "    }\n",
       "\n",
       "    .dataframe tbody tr th {\n",
       "        vertical-align: top;\n",
       "    }\n",
       "\n",
       "    .dataframe thead th {\n",
       "        text-align: right;\n",
       "    }\n",
       "</style>\n",
       "<table border=\"1\" class=\"dataframe\">\n",
       "  <thead>\n",
       "    <tr style=\"text-align: right;\">\n",
       "      <th></th>\n",
       "      <th>aisle_id</th>\n",
       "      <th>aisle</th>\n",
       "    </tr>\n",
       "  </thead>\n",
       "  <tbody>\n",
       "    <tr>\n",
       "      <th>0</th>\n",
       "      <td>1</td>\n",
       "      <td>prepared soups salads</td>\n",
       "    </tr>\n",
       "    <tr>\n",
       "      <th>1</th>\n",
       "      <td>2</td>\n",
       "      <td>specialty cheeses</td>\n",
       "    </tr>\n",
       "    <tr>\n",
       "      <th>2</th>\n",
       "      <td>3</td>\n",
       "      <td>energy granola bars</td>\n",
       "    </tr>\n",
       "    <tr>\n",
       "      <th>3</th>\n",
       "      <td>4</td>\n",
       "      <td>instant foods</td>\n",
       "    </tr>\n",
       "    <tr>\n",
       "      <th>4</th>\n",
       "      <td>5</td>\n",
       "      <td>marinades meat preparation</td>\n",
       "    </tr>\n",
       "  </tbody>\n",
       "</table>\n",
       "</div>"
      ],
      "text/plain": [
       "   aisle_id                       aisle\n",
       "0         1       prepared soups salads\n",
       "1         2           specialty cheeses\n",
       "2         3         energy granola bars\n",
       "3         4               instant foods\n",
       "4         5  marinades meat preparation"
      ]
     },
     "metadata": {},
     "output_type": "display_data"
    },
    {
     "name": "stdout",
     "output_type": "stream",
     "text": [
      "<class 'pandas.core.frame.DataFrame'>\n",
      "RangeIndex: 21 entries, 0 to 20\n",
      "Data columns (total 2 columns):\n",
      " #   Column         Non-Null Count  Dtype \n",
      "---  ------         --------------  ----- \n",
      " 0   department_id  21 non-null     int64 \n",
      " 1   department     21 non-null     object\n",
      "dtypes: int64(1), object(1)\n",
      "memory usage: 468.0+ bytes\n"
     ]
    },
    {
     "data": {
      "text/html": [
       "<div>\n",
       "<style scoped>\n",
       "    .dataframe tbody tr th:only-of-type {\n",
       "        vertical-align: middle;\n",
       "    }\n",
       "\n",
       "    .dataframe tbody tr th {\n",
       "        vertical-align: top;\n",
       "    }\n",
       "\n",
       "    .dataframe thead th {\n",
       "        text-align: right;\n",
       "    }\n",
       "</style>\n",
       "<table border=\"1\" class=\"dataframe\">\n",
       "  <thead>\n",
       "    <tr style=\"text-align: right;\">\n",
       "      <th></th>\n",
       "      <th>department_id</th>\n",
       "      <th>department</th>\n",
       "    </tr>\n",
       "  </thead>\n",
       "  <tbody>\n",
       "    <tr>\n",
       "      <th>0</th>\n",
       "      <td>1</td>\n",
       "      <td>frozen</td>\n",
       "    </tr>\n",
       "    <tr>\n",
       "      <th>1</th>\n",
       "      <td>2</td>\n",
       "      <td>other</td>\n",
       "    </tr>\n",
       "    <tr>\n",
       "      <th>2</th>\n",
       "      <td>3</td>\n",
       "      <td>bakery</td>\n",
       "    </tr>\n",
       "    <tr>\n",
       "      <th>3</th>\n",
       "      <td>4</td>\n",
       "      <td>produce</td>\n",
       "    </tr>\n",
       "    <tr>\n",
       "      <th>4</th>\n",
       "      <td>5</td>\n",
       "      <td>alcohol</td>\n",
       "    </tr>\n",
       "  </tbody>\n",
       "</table>\n",
       "</div>"
      ],
      "text/plain": [
       "   department_id department\n",
       "0              1     frozen\n",
       "1              2      other\n",
       "2              3     bakery\n",
       "3              4    produce\n",
       "4              5    alcohol"
      ]
     },
     "metadata": {},
     "output_type": "display_data"
    },
    {
     "name": "stdout",
     "output_type": "stream",
     "text": [
      "<class 'pandas.core.frame.DataFrame'>\n",
      "RangeIndex: 4545007 entries, 0 to 4545006\n",
      "Data columns (total 4 columns):\n",
      " #   Column             Non-Null Count    Dtype  \n",
      "---  ------             --------------    -----  \n",
      " 0   order_id           4545007 non-null  int64  \n",
      " 1   product_id         4545007 non-null  int64  \n",
      " 2   add_to_cart_order  4544171 non-null  float64\n",
      " 3   reordered          4545007 non-null  int64  \n",
      "dtypes: float64(1), int64(3)\n",
      "memory usage: 138.7 MB\n"
     ]
    },
    {
     "data": {
      "text/html": [
       "<div>\n",
       "<style scoped>\n",
       "    .dataframe tbody tr th:only-of-type {\n",
       "        vertical-align: middle;\n",
       "    }\n",
       "\n",
       "    .dataframe tbody tr th {\n",
       "        vertical-align: top;\n",
       "    }\n",
       "\n",
       "    .dataframe thead th {\n",
       "        text-align: right;\n",
       "    }\n",
       "</style>\n",
       "<table border=\"1\" class=\"dataframe\">\n",
       "  <thead>\n",
       "    <tr style=\"text-align: right;\">\n",
       "      <th></th>\n",
       "      <th>order_id</th>\n",
       "      <th>product_id</th>\n",
       "      <th>add_to_cart_order</th>\n",
       "      <th>reordered</th>\n",
       "    </tr>\n",
       "  </thead>\n",
       "  <tbody>\n",
       "    <tr>\n",
       "      <th>0</th>\n",
       "      <td>2141543</td>\n",
       "      <td>11440</td>\n",
       "      <td>17.0</td>\n",
       "      <td>0</td>\n",
       "    </tr>\n",
       "    <tr>\n",
       "      <th>1</th>\n",
       "      <td>567889</td>\n",
       "      <td>1560</td>\n",
       "      <td>1.0</td>\n",
       "      <td>1</td>\n",
       "    </tr>\n",
       "    <tr>\n",
       "      <th>2</th>\n",
       "      <td>2261212</td>\n",
       "      <td>26683</td>\n",
       "      <td>1.0</td>\n",
       "      <td>1</td>\n",
       "    </tr>\n",
       "    <tr>\n",
       "      <th>3</th>\n",
       "      <td>491251</td>\n",
       "      <td>8670</td>\n",
       "      <td>35.0</td>\n",
       "      <td>1</td>\n",
       "    </tr>\n",
       "    <tr>\n",
       "      <th>4</th>\n",
       "      <td>2571142</td>\n",
       "      <td>1940</td>\n",
       "      <td>5.0</td>\n",
       "      <td>1</td>\n",
       "    </tr>\n",
       "  </tbody>\n",
       "</table>\n",
       "</div>"
      ],
      "text/plain": [
       "   order_id  product_id  add_to_cart_order  reordered\n",
       "0   2141543       11440               17.0          0\n",
       "1    567889        1560                1.0          1\n",
       "2   2261212       26683                1.0          1\n",
       "3    491251        8670               35.0          1\n",
       "4   2571142        1940                5.0          1"
      ]
     },
     "metadata": {},
     "output_type": "display_data"
    }
   ],
   "source": [
    "#call info on the different files\n",
    "orders.info()\n",
    "display(orders.head(5))\n",
    "products.info()\n",
    "display(products.head(5))\n",
    "aisles.info()\n",
    "display(aisles.head(5))\n",
    "departments.info()\n",
    "display(departments.head(5))\n",
    "order_products.info(show_counts=True)\n",
    "display(order_products.head(5))"
   ]
  },
  {
   "cell_type": "markdown",
   "id": "b0193f7e",
   "metadata": {},
   "source": [
    "After reading the files, it appears that largely the columns are in the right category, except perhaps days_since_prior_order on the instacart_orders file and add_to_cart_order in the order_products file which would ideally be categorized as integers. At first glance, there are no missing values in the aisle and department files. In the remaining files, the missing/null values seem largely confined to one column in each. \n",
    "Days since prior order has roughly 20,000 missing values in the instacart file, less than 10% of the records.\n",
    "2.5% of the data in the product_names column in the products file is missing.\n",
    "And 836 records in the add_to_cart_order column in the order_products file is missing, which is quite negligible considering that the file stores 4545007 orders. \n",
    "The bigger issue may be the lack of documentation of which day of the week 0-6 number values corresponds to. Assumptions will need to be made based on purchase volume or frequency on these days. For example, hig purchase volume or frequency indicates a weekend day especially if it does not drop during working hours.\n",
    "Another way would be to assume that in standard calendars and business settings, days of the week usually range sunday to saturday. Using this system, sunday=0, monday=1, tuesday=2, wednesday=3, thursday=4, friday=5, saturday=6.\n",
    "**in the light of later analysis this has been corrected to reflect saturday=0 and sunday =1**"
   ]
  },
  {
   "cell_type": "markdown",
   "id": "07357848-dc64-4156-9cc3-01ff4365226d",
   "metadata": {},
   "source": [
    "## Data Pre-Processing"
   ]
  },
  {
   "cell_type": "markdown",
   "id": "f179f0a9",
   "metadata": {},
   "source": [
    "### `orders` data frame"
   ]
  },
  {
   "cell_type": "code",
   "execution_count": 7,
   "id": "b99297a5-405a-463d-8535-9adc3da4ad74",
   "metadata": {},
   "outputs": [
    {
     "data": {
      "text/plain": [
       "15"
      ]
     },
     "execution_count": 7,
     "metadata": {},
     "output_type": "execute_result"
    }
   ],
   "source": [
    "# Check for duplicated orders\n",
    "orders.duplicated().sum()"
   ]
  },
  {
   "cell_type": "code",
   "execution_count": 8,
   "id": "0d44de5d",
   "metadata": {},
   "outputs": [
    {
     "name": "stdout",
     "output_type": "stream",
     "text": [
      "Number of orders placed on wednesday at 2:00 AM is: 2078\n"
     ]
    }
   ],
   "source": [
    "# Check for all orders placed Wednesday at 2:00 AM\n",
    "wed_10 = orders[(orders['order_dow'] == 4) & (orders['order_hour_of_day'] == 2)]\n",
    "print(f\"Number of orders placed on wednesday at 2:00 AM is: {wed_10['order_number'].sum()}\")"
   ]
  },
  {
   "cell_type": "code",
   "execution_count": 9,
   "id": "480563c7",
   "metadata": {},
   "outputs": [],
   "source": [
    "# Remove duplicate orders\n",
    "orders = orders.drop_duplicates()"
   ]
  },
  {
   "cell_type": "code",
   "execution_count": 10,
   "id": "0b2396a2",
   "metadata": {},
   "outputs": [
    {
     "data": {
      "text/plain": [
       "0"
      ]
     },
     "execution_count": 10,
     "metadata": {},
     "output_type": "execute_result"
    }
   ],
   "source": [
    "# Double check for duplicate rows\n",
    "orders.duplicated().sum()"
   ]
  },
  {
   "cell_type": "code",
   "execution_count": 11,
   "id": "f6113ef1",
   "metadata": {},
   "outputs": [
    {
     "data": {
      "text/plain": [
       "0"
      ]
     },
     "execution_count": 11,
     "metadata": {},
     "output_type": "execute_result"
    }
   ],
   "source": [
    "# Double check for duplicate order IDs only\n",
    "orders['order_id'].duplicated().sum()"
   ]
  },
  {
   "cell_type": "markdown",
   "id": "5e8905ae",
   "metadata": {},
   "source": [
    "In this case given the nature of the data recorded, rows that are identical should be removed since they represent copies of the same purchase which could alter the results of any analysis. It would also make sense to check whether any of the order_id values are repeated since these should be a unique identifier. If any of these repeat, we should inspect the other columns and consolidate them or eliminate them as needed.\n",
    "I have started by checking the number of duplicated rows using duplicated()with sum() on orders to get a count of the duplicate rows. There were 15 duplicate rows. These were removed using drop_duplicates() and the result checked by calling duplicated() with sum() on the orders() daframe again. In this case, the result was 0, which means the duplicate rows were successfully removed.\n",
    "Next, we needed to see if order_ids have been duplicated (these should theoretically be unique identifiers for the purchase). This was checked by calling duplicated on the order_id column of the orders data frame. The result of this operation was 0 implying that order ids have not been duplicated in the orders data frame."
   ]
  },
  {
   "cell_type": "markdown",
   "id": "45e6bc46",
   "metadata": {},
   "source": [
    "### `products` data frame"
   ]
  },
  {
   "cell_type": "code",
   "execution_count": 14,
   "id": "5f526b5b-8175-46fa-a0fd-441767d50e64",
   "metadata": {},
   "outputs": [
    {
     "data": {
      "text/plain": [
       "0"
      ]
     },
     "execution_count": 14,
     "metadata": {},
     "output_type": "execute_result"
    }
   ],
   "source": [
    "# Check for fully duplicate rows\n",
    "products.duplicated().sum()"
   ]
  },
  {
   "cell_type": "code",
   "execution_count": 15,
   "id": "88daa4f4",
   "metadata": {},
   "outputs": [
    {
     "data": {
      "text/plain": [
       "0"
      ]
     },
     "execution_count": 15,
     "metadata": {},
     "output_type": "execute_result"
    }
   ],
   "source": [
    "# Check for just duplicate product IDs\n",
    "products['product_id'].duplicated().sum()"
   ]
  },
  {
   "cell_type": "code",
   "execution_count": 16,
   "id": "c773f0bf",
   "metadata": {},
   "outputs": [
    {
     "data": {
      "text/plain": [
       "1361"
      ]
     },
     "execution_count": 16,
     "metadata": {},
     "output_type": "execute_result"
    }
   ],
   "source": [
    "# Check for just duplicate product names (convert names to lowercase to compare better)\n",
    "products['product_name'] = products['product_name'].str.lower()\n",
    "products['product_name'].duplicated().sum()"
   ]
  },
  {
   "cell_type": "code",
   "execution_count": 17,
   "id": "01efd02e",
   "metadata": {},
   "outputs": [
    {
     "name": "stdout",
     "output_type": "stream",
     "text": [
      "103\n"
     ]
    },
    {
     "data": {
      "text/plain": [
       "product_name\n",
       "green tea with ginseng and honey            2\n",
       "chili with beans                            1\n",
       "ibuprofen tablets 200 mg                    1\n",
       "blanc de noirs                              1\n",
       "original bbq sauce                          1\n",
       "                                           ..\n",
       "muenster cheese slices                      1\n",
       "potatoes o'brien with onions and peppers    1\n",
       "beef chili with beans                       1\n",
       "candy bar                                   1\n",
       "burrito- steak & cheese                     1\n",
       "Name: count, Length: 103, dtype: int64"
      ]
     },
     "metadata": {},
     "output_type": "display_data"
    },
    {
     "data": {
      "text/html": [
       "<div>\n",
       "<style scoped>\n",
       "    .dataframe tbody tr th:only-of-type {\n",
       "        vertical-align: middle;\n",
       "    }\n",
       "\n",
       "    .dataframe tbody tr th {\n",
       "        vertical-align: top;\n",
       "    }\n",
       "\n",
       "    .dataframe thead th {\n",
       "        text-align: right;\n",
       "    }\n",
       "</style>\n",
       "<table border=\"1\" class=\"dataframe\">\n",
       "  <thead>\n",
       "    <tr style=\"text-align: right;\">\n",
       "      <th></th>\n",
       "      <th>product_id</th>\n",
       "      <th>product_name</th>\n",
       "      <th>aisle_id</th>\n",
       "      <th>department_id</th>\n",
       "    </tr>\n",
       "  </thead>\n",
       "  <tbody>\n",
       "    <tr>\n",
       "      <th>2058</th>\n",
       "      <td>2059</td>\n",
       "      <td>biotin 1000 mcg</td>\n",
       "      <td>47</td>\n",
       "      <td>11</td>\n",
       "    </tr>\n",
       "    <tr>\n",
       "      <th>5455</th>\n",
       "      <td>5456</td>\n",
       "      <td>green tea with ginseng and honey</td>\n",
       "      <td>96</td>\n",
       "      <td>20</td>\n",
       "    </tr>\n",
       "    <tr>\n",
       "      <th>5558</th>\n",
       "      <td>5559</td>\n",
       "      <td>cream of mushroom soup</td>\n",
       "      <td>69</td>\n",
       "      <td>15</td>\n",
       "    </tr>\n",
       "    <tr>\n",
       "      <th>7558</th>\n",
       "      <td>7559</td>\n",
       "      <td>cinnamon rolls with icing</td>\n",
       "      <td>105</td>\n",
       "      <td>13</td>\n",
       "    </tr>\n",
       "    <tr>\n",
       "      <th>9037</th>\n",
       "      <td>9038</td>\n",
       "      <td>american cheese slices</td>\n",
       "      <td>21</td>\n",
       "      <td>16</td>\n",
       "    </tr>\n",
       "    <tr>\n",
       "      <th>10410</th>\n",
       "      <td>10411</td>\n",
       "      <td>cauliflower head</td>\n",
       "      <td>83</td>\n",
       "      <td>4</td>\n",
       "    </tr>\n",
       "    <tr>\n",
       "      <th>12820</th>\n",
       "      <td>12821</td>\n",
       "      <td>pumpkin spice</td>\n",
       "      <td>53</td>\n",
       "      <td>16</td>\n",
       "    </tr>\n",
       "    <tr>\n",
       "      <th>14961</th>\n",
       "      <td>14962</td>\n",
       "      <td>hearts of palm</td>\n",
       "      <td>81</td>\n",
       "      <td>15</td>\n",
       "    </tr>\n",
       "    <tr>\n",
       "      <th>15659</th>\n",
       "      <td>15660</td>\n",
       "      <td>cream of tartar</td>\n",
       "      <td>104</td>\n",
       "      <td>13</td>\n",
       "    </tr>\n",
       "    <tr>\n",
       "      <th>16484</th>\n",
       "      <td>16485</td>\n",
       "      <td>lasagna with meat sauce</td>\n",
       "      <td>38</td>\n",
       "      <td>1</td>\n",
       "    </tr>\n",
       "    <tr>\n",
       "      <th>16990</th>\n",
       "      <td>16991</td>\n",
       "      <td>vitamin d3 2000 iu</td>\n",
       "      <td>47</td>\n",
       "      <td>11</td>\n",
       "    </tr>\n",
       "    <tr>\n",
       "      <th>17320</th>\n",
       "      <td>17321</td>\n",
       "      <td>dulce de leche caramel ice cream</td>\n",
       "      <td>37</td>\n",
       "      <td>1</td>\n",
       "    </tr>\n",
       "    <tr>\n",
       "      <th>18760</th>\n",
       "      <td>18761</td>\n",
       "      <td>balsamic vinegar of modena</td>\n",
       "      <td>19</td>\n",
       "      <td>13</td>\n",
       "    </tr>\n",
       "    <tr>\n",
       "      <th>18816</th>\n",
       "      <td>18817</td>\n",
       "      <td>diced peeled tomatoes in tomato juice</td>\n",
       "      <td>81</td>\n",
       "      <td>15</td>\n",
       "    </tr>\n",
       "    <tr>\n",
       "      <th>19042</th>\n",
       "      <td>19043</td>\n",
       "      <td>fresh scent dishwasher detergent with dawn</td>\n",
       "      <td>74</td>\n",
       "      <td>17</td>\n",
       "    </tr>\n",
       "    <tr>\n",
       "      <th>19510</th>\n",
       "      <td>19511</td>\n",
       "      <td>half and half</td>\n",
       "      <td>53</td>\n",
       "      <td>16</td>\n",
       "    </tr>\n",
       "    <tr>\n",
       "      <th>19813</th>\n",
       "      <td>19814</td>\n",
       "      <td>green tea with ginseng and honey</td>\n",
       "      <td>94</td>\n",
       "      <td>7</td>\n",
       "    </tr>\n",
       "    <tr>\n",
       "      <th>19941</th>\n",
       "      <td>19942</td>\n",
       "      <td>aged balsamic vinegar of modena</td>\n",
       "      <td>19</td>\n",
       "      <td>13</td>\n",
       "    </tr>\n",
       "    <tr>\n",
       "      <th>20363</th>\n",
       "      <td>20364</td>\n",
       "      <td>matzo ball mix</td>\n",
       "      <td>33</td>\n",
       "      <td>6</td>\n",
       "    </tr>\n",
       "    <tr>\n",
       "      <th>22590</th>\n",
       "      <td>22591</td>\n",
       "      <td>chipotle peppers in adobo sauce</td>\n",
       "      <td>30</td>\n",
       "      <td>6</td>\n",
       "    </tr>\n",
       "  </tbody>\n",
       "</table>\n",
       "</div>"
      ],
      "text/plain": [
       "       product_id                                product_name  aisle_id  \\\n",
       "2058         2059                             biotin 1000 mcg        47   \n",
       "5455         5456            green tea with ginseng and honey        96   \n",
       "5558         5559                      cream of mushroom soup        69   \n",
       "7558         7559                   cinnamon rolls with icing       105   \n",
       "9037         9038                      american cheese slices        21   \n",
       "10410       10411                            cauliflower head        83   \n",
       "12820       12821                               pumpkin spice        53   \n",
       "14961       14962                              hearts of palm        81   \n",
       "15659       15660                             cream of tartar       104   \n",
       "16484       16485                     lasagna with meat sauce        38   \n",
       "16990       16991                          vitamin d3 2000 iu        47   \n",
       "17320       17321            dulce de leche caramel ice cream        37   \n",
       "18760       18761                  balsamic vinegar of modena        19   \n",
       "18816       18817       diced peeled tomatoes in tomato juice        81   \n",
       "19042       19043  fresh scent dishwasher detergent with dawn        74   \n",
       "19510       19511                               half and half        53   \n",
       "19813       19814            green tea with ginseng and honey        94   \n",
       "19941       19942             aged balsamic vinegar of modena        19   \n",
       "20363       20364                              matzo ball mix        33   \n",
       "22590       22591             chipotle peppers in adobo sauce        30   \n",
       "\n",
       "       department_id  \n",
       "2058              11  \n",
       "5455              20  \n",
       "5558              15  \n",
       "7558              13  \n",
       "9037              16  \n",
       "10410              4  \n",
       "12820             16  \n",
       "14961             15  \n",
       "15659             13  \n",
       "16484              1  \n",
       "16990             11  \n",
       "17320              1  \n",
       "18760             13  \n",
       "18816             15  \n",
       "19042             17  \n",
       "19510             16  \n",
       "19813              7  \n",
       "19941             13  \n",
       "20363              6  \n",
       "22590              6  "
      ]
     },
     "metadata": {},
     "output_type": "display_data"
    }
   ],
   "source": [
    "# Check for duplicate product names that aren't missing\n",
    "#First we create a new data series called duplicates that collects the values in column product_name after removing missing(na)values\n",
    "\n",
    "duplicates = products['product_name'].dropna().duplicated()\n",
    "\n",
    "#When I first ran this code it failed and I realized it was because the indexing had changed with the creation of the new series\n",
    "\n",
    "#We re-index the new series so that the index values match the index of the original data frame\n",
    "\n",
    "#We need to fill missing values that have been removed, it will be filled with False\n",
    "\n",
    "duplicates_with_index = duplicates.reindex(products.index, fill_value=False)\n",
    "\n",
    "#We now have a filter to get the product names that have been duplicated which is a series that returns True for duplicated rows\n",
    "#We filter the original data frame on this boolean series to find the rows with duplicated product names from products\n",
    "\n",
    "products_with_duplicates = products[duplicates_with_index]\n",
    "\n",
    "#print the number of product names that are duplicated\n",
    "\n",
    "print(products_with_duplicates['product_name'].nunique())\n",
    "display(products_with_duplicates['product_name'].value_counts())\n",
    "\n",
    "#print a random sample of the data frame that contains duplicate product name rows\n",
    "\n",
    "display(products_with_duplicates.head(20))"
   ]
  },
  {
   "cell_type": "code",
   "execution_count": 18,
   "id": "8fea6d22",
   "metadata": {},
   "outputs": [
    {
     "data": {
      "text/html": [
       "<div>\n",
       "<style scoped>\n",
       "    .dataframe tbody tr th:only-of-type {\n",
       "        vertical-align: middle;\n",
       "    }\n",
       "\n",
       "    .dataframe tbody tr th {\n",
       "        vertical-align: top;\n",
       "    }\n",
       "\n",
       "    .dataframe thead th {\n",
       "        text-align: right;\n",
       "    }\n",
       "</style>\n",
       "<table border=\"1\" class=\"dataframe\">\n",
       "  <thead>\n",
       "    <tr style=\"text-align: right;\">\n",
       "      <th></th>\n",
       "      <th>product_id</th>\n",
       "      <th>product_name</th>\n",
       "      <th>aisle_id</th>\n",
       "      <th>department_id</th>\n",
       "    </tr>\n",
       "  </thead>\n",
       "  <tbody>\n",
       "    <tr>\n",
       "      <th>2037</th>\n",
       "      <td>2038</td>\n",
       "      <td>green tea with ginseng and honey</td>\n",
       "      <td>94</td>\n",
       "      <td>7</td>\n",
       "    </tr>\n",
       "    <tr>\n",
       "      <th>5455</th>\n",
       "      <td>5456</td>\n",
       "      <td>green tea with ginseng and honey</td>\n",
       "      <td>96</td>\n",
       "      <td>20</td>\n",
       "    </tr>\n",
       "    <tr>\n",
       "      <th>19813</th>\n",
       "      <td>19814</td>\n",
       "      <td>green tea with ginseng and honey</td>\n",
       "      <td>94</td>\n",
       "      <td>7</td>\n",
       "    </tr>\n",
       "  </tbody>\n",
       "</table>\n",
       "</div>"
      ],
      "text/plain": [
       "       product_id                      product_name  aisle_id  department_id\n",
       "2037         2038  green tea with ginseng and honey        94              7\n",
       "5455         5456  green tea with ginseng and honey        96             20\n",
       "19813       19814  green tea with ginseng and honey        94              7"
      ]
     },
     "metadata": {},
     "output_type": "display_data"
    },
    {
     "data": {
      "text/html": [
       "<div>\n",
       "<style scoped>\n",
       "    .dataframe tbody tr th:only-of-type {\n",
       "        vertical-align: middle;\n",
       "    }\n",
       "\n",
       "    .dataframe tbody tr th {\n",
       "        vertical-align: top;\n",
       "    }\n",
       "\n",
       "    .dataframe thead th {\n",
       "        text-align: right;\n",
       "    }\n",
       "</style>\n",
       "<table border=\"1\" class=\"dataframe\">\n",
       "  <thead>\n",
       "    <tr style=\"text-align: right;\">\n",
       "      <th></th>\n",
       "      <th>product_id</th>\n",
       "      <th>product_name</th>\n",
       "      <th>aisle_id</th>\n",
       "      <th>department_id</th>\n",
       "    </tr>\n",
       "  </thead>\n",
       "  <tbody>\n",
       "    <tr>\n",
       "      <th>41</th>\n",
       "      <td>42</td>\n",
       "      <td>biotin 1000 mcg</td>\n",
       "      <td>47</td>\n",
       "      <td>11</td>\n",
       "    </tr>\n",
       "    <tr>\n",
       "      <th>2058</th>\n",
       "      <td>2059</td>\n",
       "      <td>biotin 1000 mcg</td>\n",
       "      <td>47</td>\n",
       "      <td>11</td>\n",
       "    </tr>\n",
       "  </tbody>\n",
       "</table>\n",
       "</div>"
      ],
      "text/plain": [
       "      product_id     product_name  aisle_id  department_id\n",
       "41            42  biotin 1000 mcg        47             11\n",
       "2058        2059  biotin 1000 mcg        47             11"
      ]
     },
     "metadata": {},
     "output_type": "display_data"
    },
    {
     "data": {
      "text/html": [
       "<div>\n",
       "<style scoped>\n",
       "    .dataframe tbody tr th:only-of-type {\n",
       "        vertical-align: middle;\n",
       "    }\n",
       "\n",
       "    .dataframe tbody tr th {\n",
       "        vertical-align: top;\n",
       "    }\n",
       "\n",
       "    .dataframe thead th {\n",
       "        text-align: right;\n",
       "    }\n",
       "</style>\n",
       "<table border=\"1\" class=\"dataframe\">\n",
       "  <thead>\n",
       "    <tr style=\"text-align: right;\">\n",
       "      <th></th>\n",
       "      <th>product_id</th>\n",
       "      <th>product_name</th>\n",
       "      <th>aisle_id</th>\n",
       "      <th>department_id</th>\n",
       "    </tr>\n",
       "  </thead>\n",
       "  <tbody>\n",
       "    <tr>\n",
       "      <th>6134</th>\n",
       "      <td>6135</td>\n",
       "      <td>cream of tartar</td>\n",
       "      <td>104</td>\n",
       "      <td>13</td>\n",
       "    </tr>\n",
       "    <tr>\n",
       "      <th>15659</th>\n",
       "      <td>15660</td>\n",
       "      <td>cream of tartar</td>\n",
       "      <td>104</td>\n",
       "      <td>13</td>\n",
       "    </tr>\n",
       "  </tbody>\n",
       "</table>\n",
       "</div>"
      ],
      "text/plain": [
       "       product_id     product_name  aisle_id  department_id\n",
       "6134         6135  cream of tartar       104             13\n",
       "15659       15660  cream of tartar       104             13"
      ]
     },
     "metadata": {},
     "output_type": "display_data"
    }
   ],
   "source": [
    "#looking at the difference in column values in products when we filter using product name\n",
    "#we look at 3 different product names to understand the trends\n",
    "products_gt = products[products['product_name'] == 'green tea with ginseng and honey']\n",
    "products_biotin = products[products['product_name'] == 'biotin 1000 mcg']\n",
    "products_ct = products[products['product_name'] == 'cream of tartar']\n",
    "\n",
    "#print the filtered dataframes that we obtained earlier so that we can look at the values for different columns\n",
    "display(products_gt)\n",
    "display(products_biotin)\n",
    "display(products_ct)"
   ]
  },
  {
   "cell_type": "markdown",
   "id": "9da8d293",
   "metadata": {},
   "source": [
    "In the products data frame there are 104 product names that are duplicated once you ignore missing values in the product name category. That is, each product name has been duplicated on average 13 times(including the NA values). To investigate this further, we looked at a random sample of rows from this data frame of duplicated rows. Green tea with ginseng is a value that appeared twice in value counts, why do we have 2 products with this name even in the data frame that explicitly selects for duplicated values. If we look at the product names, these are different, interestingly the aisle and department names of these products are different too. We cannot collapse them into one category without losing this information. These are likely two products located on different aisles and different departments. Perhaps one is a health drink and the other for regular use. We need to look at the department info to be sure.\n",
    "Further, when we went back to the original data frame and examined a few product names to see why there are so many duplicated names in this data set, we see that thouugh the column values are almost identical, product_ids always differ. Therefore collapsing the category based on names could lead to loosing information on product_ids.\n",
    "However, just looking at some of these categories and their frequencies, it is likely that missing values in product name account for a lot of product name duplications in this data set."
   ]
  },
  {
   "cell_type": "markdown",
   "id": "60f30db1",
   "metadata": {},
   "source": [
    "### `departments` data frame"
   ]
  },
  {
   "cell_type": "code",
   "execution_count": 21,
   "id": "fb410ad4-0fbf-4b80-bb09-23fdea79afe3",
   "metadata": {},
   "outputs": [
    {
     "data": {
      "text/plain": [
       "0"
      ]
     },
     "execution_count": 21,
     "metadata": {},
     "output_type": "execute_result"
    }
   ],
   "source": [
    "# Check for fully duplicate rows\n",
    "departments.duplicated().sum()"
   ]
  },
  {
   "cell_type": "code",
   "execution_count": 22,
   "id": "332b12bb",
   "metadata": {},
   "outputs": [
    {
     "name": "stdout",
     "output_type": "stream",
     "text": [
      "There are 0 duplicated entries in the department column of the departments dataframe\n"
     ]
    },
    {
     "data": {
      "text/html": [
       "<div>\n",
       "<style scoped>\n",
       "    .dataframe tbody tr th:only-of-type {\n",
       "        vertical-align: middle;\n",
       "    }\n",
       "\n",
       "    .dataframe tbody tr th {\n",
       "        vertical-align: top;\n",
       "    }\n",
       "\n",
       "    .dataframe thead th {\n",
       "        text-align: right;\n",
       "    }\n",
       "</style>\n",
       "<table border=\"1\" class=\"dataframe\">\n",
       "  <thead>\n",
       "    <tr style=\"text-align: right;\">\n",
       "      <th></th>\n",
       "      <th>department_id</th>\n",
       "      <th>department</th>\n",
       "    </tr>\n",
       "  </thead>\n",
       "  <tbody>\n",
       "    <tr>\n",
       "      <th>0</th>\n",
       "      <td>1</td>\n",
       "      <td>frozen</td>\n",
       "    </tr>\n",
       "    <tr>\n",
       "      <th>1</th>\n",
       "      <td>2</td>\n",
       "      <td>other</td>\n",
       "    </tr>\n",
       "    <tr>\n",
       "      <th>2</th>\n",
       "      <td>3</td>\n",
       "      <td>bakery</td>\n",
       "    </tr>\n",
       "    <tr>\n",
       "      <th>3</th>\n",
       "      <td>4</td>\n",
       "      <td>produce</td>\n",
       "    </tr>\n",
       "    <tr>\n",
       "      <th>4</th>\n",
       "      <td>5</td>\n",
       "      <td>alcohol</td>\n",
       "    </tr>\n",
       "    <tr>\n",
       "      <th>5</th>\n",
       "      <td>6</td>\n",
       "      <td>international</td>\n",
       "    </tr>\n",
       "    <tr>\n",
       "      <th>6</th>\n",
       "      <td>7</td>\n",
       "      <td>beverages</td>\n",
       "    </tr>\n",
       "    <tr>\n",
       "      <th>7</th>\n",
       "      <td>8</td>\n",
       "      <td>pets</td>\n",
       "    </tr>\n",
       "    <tr>\n",
       "      <th>8</th>\n",
       "      <td>9</td>\n",
       "      <td>dry goods pasta</td>\n",
       "    </tr>\n",
       "    <tr>\n",
       "      <th>9</th>\n",
       "      <td>10</td>\n",
       "      <td>bulk</td>\n",
       "    </tr>\n",
       "    <tr>\n",
       "      <th>10</th>\n",
       "      <td>11</td>\n",
       "      <td>personal care</td>\n",
       "    </tr>\n",
       "    <tr>\n",
       "      <th>11</th>\n",
       "      <td>12</td>\n",
       "      <td>meat seafood</td>\n",
       "    </tr>\n",
       "    <tr>\n",
       "      <th>12</th>\n",
       "      <td>13</td>\n",
       "      <td>pantry</td>\n",
       "    </tr>\n",
       "    <tr>\n",
       "      <th>13</th>\n",
       "      <td>14</td>\n",
       "      <td>breakfast</td>\n",
       "    </tr>\n",
       "    <tr>\n",
       "      <th>14</th>\n",
       "      <td>15</td>\n",
       "      <td>canned goods</td>\n",
       "    </tr>\n",
       "    <tr>\n",
       "      <th>15</th>\n",
       "      <td>16</td>\n",
       "      <td>dairy eggs</td>\n",
       "    </tr>\n",
       "    <tr>\n",
       "      <th>16</th>\n",
       "      <td>17</td>\n",
       "      <td>household</td>\n",
       "    </tr>\n",
       "    <tr>\n",
       "      <th>17</th>\n",
       "      <td>18</td>\n",
       "      <td>babies</td>\n",
       "    </tr>\n",
       "    <tr>\n",
       "      <th>18</th>\n",
       "      <td>19</td>\n",
       "      <td>snacks</td>\n",
       "    </tr>\n",
       "    <tr>\n",
       "      <th>19</th>\n",
       "      <td>20</td>\n",
       "      <td>deli</td>\n",
       "    </tr>\n",
       "    <tr>\n",
       "      <th>20</th>\n",
       "      <td>21</td>\n",
       "      <td>missing</td>\n",
       "    </tr>\n",
       "  </tbody>\n",
       "</table>\n",
       "</div>"
      ],
      "text/plain": [
       "    department_id       department\n",
       "0               1           frozen\n",
       "1               2            other\n",
       "2               3           bakery\n",
       "3               4          produce\n",
       "4               5          alcohol\n",
       "5               6    international\n",
       "6               7        beverages\n",
       "7               8             pets\n",
       "8               9  dry goods pasta\n",
       "9              10             bulk\n",
       "10             11    personal care\n",
       "11             12     meat seafood\n",
       "12             13           pantry\n",
       "13             14        breakfast\n",
       "14             15     canned goods\n",
       "15             16       dairy eggs\n",
       "16             17        household\n",
       "17             18           babies\n",
       "18             19           snacks\n",
       "19             20             deli\n",
       "20             21          missing"
      ]
     },
     "metadata": {},
     "output_type": "display_data"
    }
   ],
   "source": [
    "# Check for duplication within individual columns of the dataframe\n",
    "departments['department_id'].duplicated().sum()\n",
    "departments['department'] = departments['department'].str.lower()\n",
    "print(f\"There are {departments['department'].duplicated().sum()} duplicated entries in the department column of the departments dataframe\")\n",
    "\n",
    "#the dataframe only has 21 rows so printing the whole dataframe makes sense to be sure that we did not miss anything\n",
    "display(departments)"
   ]
  },
  {
   "cell_type": "markdown",
   "id": "bd30d78e",
   "metadata": {},
   "source": [
    "It appears to have no duplications. It would make sense to collapse department 'missing' with 'other' since both imply that the department value is not known. However, we could look further into the data to be sure."
   ]
  },
  {
   "cell_type": "markdown",
   "id": "889349c1",
   "metadata": {},
   "source": [
    "### `aisles` data frame"
   ]
  },
  {
   "cell_type": "code",
   "execution_count": 25,
   "id": "9da89fb9-4679-40f5-ad0d-c34df753a3f8",
   "metadata": {},
   "outputs": [
    {
     "data": {
      "text/plain": [
       "0"
      ]
     },
     "execution_count": 25,
     "metadata": {},
     "output_type": "execute_result"
    }
   ],
   "source": [
    "# Check for fully duplicate rows\n",
    "aisles.duplicated().sum()\n"
   ]
  },
  {
   "cell_type": "code",
   "execution_count": 26,
   "id": "da7c2822",
   "metadata": {},
   "outputs": [
    {
     "name": "stdout",
     "output_type": "stream",
     "text": [
      "0\n",
      "0\n",
      "0           prepared soups salads\n",
      "1               specialty cheeses\n",
      "2             energy granola bars\n",
      "3                   instant foods\n",
      "4      marinades meat preparation\n",
      "                  ...            \n",
      "129      hot cereal pancake mixes\n",
      "130                     dry pasta\n",
      "131                        beauty\n",
      "132    muscles joints pain relief\n",
      "133    specialty wines champagnes\n",
      "Name: aisle, Length: 134, dtype: object\n"
     ]
    }
   ],
   "source": [
    "# Check for duplication within individual columns\n",
    "print(aisles['aisle_id'].duplicated().sum())\n",
    "aisles['aisle'] = aisles['aisle'].str.lower()\n",
    "print(aisles['aisle'].duplicated().sum())\n",
    "\n",
    "#creating a new series that examines the column once missing(na) values are removed\n",
    "aisles_nomiss = aisles['aisle'].dropna()\n",
    "\n",
    "#We reindex the series using the original aisles index so that it can be used later for filtering if needed, same as we did for products dataframe earlier\n",
    "aisles_nomiss_reindex = aisles_nomiss.reindex(aisles.index, fill_value=False)\n",
    "\n",
    "#we print the reindexed series\n",
    "print(aisles_nomiss_reindex)"
   ]
  },
  {
   "cell_type": "markdown",
   "id": "ac63826f",
   "metadata": {},
   "source": [
    "It appears that there are no duplications for aisle."
   ]
  },
  {
   "cell_type": "markdown",
   "id": "274cd06a",
   "metadata": {},
   "source": [
    "### `order_products` data frame"
   ]
  },
  {
   "cell_type": "code",
   "execution_count": 29,
   "id": "52326689-84a8-4b8f-a881-7c68780f62c9",
   "metadata": {},
   "outputs": [
    {
     "data": {
      "text/plain": [
       "0"
      ]
     },
     "execution_count": 29,
     "metadata": {},
     "output_type": "execute_result"
    }
   ],
   "source": [
    "# Check for fully duplicate rows\n",
    "order_products.duplicated().sum()"
   ]
  },
  {
   "cell_type": "code",
   "execution_count": 30,
   "id": "7b861391",
   "metadata": {},
   "outputs": [
    {
     "name": "stdout",
     "output_type": "stream",
     "text": [
      "450046\n",
      "450046\n"
     ]
    },
    {
     "data": {
      "text/plain": [
       "0"
      ]
     },
     "execution_count": 30,
     "metadata": {},
     "output_type": "execute_result"
    }
   ],
   "source": [
    "# Double check for any other tricky duplicates\n",
    "#Let us check if there are missing (na) values in the order_id column, could lead to column specific duplicates not reflected at a row level\n",
    "print(order_products['order_id'].nunique())\n",
    "print(order_products['order_id'].nunique(dropna=False))\n",
    "\n",
    "#Are there rows where column and product name are identical? It would be a duplicate that goes undetected at the row level\n",
    "#However, this can be seen as a true duplicate since the same product for the same order usually need not be recorded more than once\n",
    "order_products.duplicated(subset=['order_id', 'product_id']).sum()"
   ]
  },
  {
   "cell_type": "markdown",
   "id": "0b890492",
   "metadata": {},
   "source": [
    "There are now row level duplicates.\n",
    "There could be column level duplicates since there are fewer order_id values than the length of the data frame. However, this inflation is not because of missing(na) values since the number of unique values remian the same whether we drop or retain na as a category. The repeats are most likely when multiple products are part of the same order. \n",
    "When we investigated combinations of order_ids and product_ids that were identical, none were observed. If they were we would need to investigate the add_to_cart_order value to truly make a decision but there were none and it was deemed unnecessary to investigate further. And at this level, there appear to be no duplications."
   ]
  },
  {
   "cell_type": "markdown",
   "id": "1e46de76",
   "metadata": {},
   "source": [
    "## Handling Missing Values\n"
   ]
  },
  {
   "cell_type": "markdown",
   "id": "c0aebd78",
   "metadata": {},
   "source": [
    "### `products` data frame"
   ]
  },
  {
   "cell_type": "code",
   "execution_count": 34,
   "id": "fe4a8b0f",
   "metadata": {},
   "outputs": [
    {
     "data": {
      "text/plain": [
       "1258"
      ]
     },
     "execution_count": 34,
     "metadata": {},
     "output_type": "execute_result"
    }
   ],
   "source": [
    "#how many missing values in the product_name column\n",
    "products['product_name'].isna().sum()"
   ]
  },
  {
   "cell_type": "code",
   "execution_count": 35,
   "id": "e96167bc",
   "metadata": {},
   "outputs": [
    {
     "data": {
      "text/html": [
       "<div>\n",
       "<style scoped>\n",
       "    .dataframe tbody tr th:only-of-type {\n",
       "        vertical-align: middle;\n",
       "    }\n",
       "\n",
       "    .dataframe tbody tr th {\n",
       "        vertical-align: top;\n",
       "    }\n",
       "\n",
       "    .dataframe thead th {\n",
       "        text-align: right;\n",
       "    }\n",
       "</style>\n",
       "<table border=\"1\" class=\"dataframe\">\n",
       "  <thead>\n",
       "    <tr style=\"text-align: right;\">\n",
       "      <th></th>\n",
       "      <th>product_id</th>\n",
       "      <th>product_name</th>\n",
       "      <th>aisle_id</th>\n",
       "      <th>department_id</th>\n",
       "    </tr>\n",
       "  </thead>\n",
       "  <tbody>\n",
       "  </tbody>\n",
       "</table>\n",
       "</div>"
      ],
      "text/plain": [
       "Empty DataFrame\n",
       "Columns: [product_id, product_name, aisle_id, department_id]\n",
       "Index: []"
      ]
     },
     "execution_count": 35,
     "metadata": {},
     "output_type": "execute_result"
    }
   ],
   "source": [
    "# Are all of the missing product names associated with aisle ID 100\n",
    "#We will use a for loop after filtering the dataset for rows where the product_name is missing\n",
    "#the loop will iterate through each row and increase the counter value by one every time the aisle_id is 100\n",
    "products[(products['product_name'].isna()) & (products['aisle_id'] != 100)]"
   ]
  },
  {
   "cell_type": "code",
   "execution_count": 36,
   "id": "97f37ca7",
   "metadata": {},
   "outputs": [
    {
     "data": {
      "text/html": [
       "<div>\n",
       "<style scoped>\n",
       "    .dataframe tbody tr th:only-of-type {\n",
       "        vertical-align: middle;\n",
       "    }\n",
       "\n",
       "    .dataframe tbody tr th {\n",
       "        vertical-align: top;\n",
       "    }\n",
       "\n",
       "    .dataframe thead th {\n",
       "        text-align: right;\n",
       "    }\n",
       "</style>\n",
       "<table border=\"1\" class=\"dataframe\">\n",
       "  <thead>\n",
       "    <tr style=\"text-align: right;\">\n",
       "      <th></th>\n",
       "      <th>product_id</th>\n",
       "      <th>product_name</th>\n",
       "      <th>aisle_id</th>\n",
       "      <th>department_id</th>\n",
       "    </tr>\n",
       "  </thead>\n",
       "  <tbody>\n",
       "  </tbody>\n",
       "</table>\n",
       "</div>"
      ],
      "text/plain": [
       "Empty DataFrame\n",
       "Columns: [product_id, product_name, aisle_id, department_id]\n",
       "Index: []"
      ]
     },
     "execution_count": 36,
     "metadata": {},
     "output_type": "execute_result"
    }
   ],
   "source": [
    "# Reviewer's code \n",
    "products[(products['product_name'].isna()) & (products['aisle_id'] != 100)]"
   ]
  },
  {
   "cell_type": "code",
   "execution_count": 37,
   "id": "8fd0a541",
   "metadata": {},
   "outputs": [
    {
     "data": {
      "text/html": [
       "<div>\n",
       "<style scoped>\n",
       "    .dataframe tbody tr th:only-of-type {\n",
       "        vertical-align: middle;\n",
       "    }\n",
       "\n",
       "    .dataframe tbody tr th {\n",
       "        vertical-align: top;\n",
       "    }\n",
       "\n",
       "    .dataframe thead th {\n",
       "        text-align: right;\n",
       "    }\n",
       "</style>\n",
       "<table border=\"1\" class=\"dataframe\">\n",
       "  <thead>\n",
       "    <tr style=\"text-align: right;\">\n",
       "      <th></th>\n",
       "      <th>product_id</th>\n",
       "      <th>product_name</th>\n",
       "      <th>aisle_id</th>\n",
       "      <th>department_id</th>\n",
       "    </tr>\n",
       "  </thead>\n",
       "  <tbody>\n",
       "  </tbody>\n",
       "</table>\n",
       "</div>"
      ],
      "text/plain": [
       "Empty DataFrame\n",
       "Columns: [product_id, product_name, aisle_id, department_id]\n",
       "Index: []"
      ]
     },
     "execution_count": 37,
     "metadata": {},
     "output_type": "execute_result"
    }
   ],
   "source": [
    "# Are all of the missing product names associated with department ID 21?\n",
    "products[(products['product_name'].isna()) & (products['department_id'] != 21)]"
   ]
  },
  {
   "cell_type": "code",
   "execution_count": 38,
   "id": "325c3464",
   "metadata": {},
   "outputs": [
    {
     "data": {
      "text/html": [
       "<div>\n",
       "<style scoped>\n",
       "    .dataframe tbody tr th:only-of-type {\n",
       "        vertical-align: middle;\n",
       "    }\n",
       "\n",
       "    .dataframe tbody tr th {\n",
       "        vertical-align: top;\n",
       "    }\n",
       "\n",
       "    .dataframe thead th {\n",
       "        text-align: right;\n",
       "    }\n",
       "</style>\n",
       "<table border=\"1\" class=\"dataframe\">\n",
       "  <thead>\n",
       "    <tr style=\"text-align: right;\">\n",
       "      <th></th>\n",
       "      <th>department_id</th>\n",
       "      <th>department</th>\n",
       "    </tr>\n",
       "  </thead>\n",
       "  <tbody>\n",
       "    <tr>\n",
       "      <th>20</th>\n",
       "      <td>21</td>\n",
       "      <td>missing</td>\n",
       "    </tr>\n",
       "  </tbody>\n",
       "</table>\n",
       "</div>"
      ],
      "text/plain": [
       "    department_id department\n",
       "20             21    missing"
      ]
     },
     "metadata": {},
     "output_type": "display_data"
    },
    {
     "data": {
      "text/html": [
       "<div>\n",
       "<style scoped>\n",
       "    .dataframe tbody tr th:only-of-type {\n",
       "        vertical-align: middle;\n",
       "    }\n",
       "\n",
       "    .dataframe tbody tr th {\n",
       "        vertical-align: top;\n",
       "    }\n",
       "\n",
       "    .dataframe thead th {\n",
       "        text-align: right;\n",
       "    }\n",
       "</style>\n",
       "<table border=\"1\" class=\"dataframe\">\n",
       "  <thead>\n",
       "    <tr style=\"text-align: right;\">\n",
       "      <th></th>\n",
       "      <th>aisle_id</th>\n",
       "      <th>aisle</th>\n",
       "    </tr>\n",
       "  </thead>\n",
       "  <tbody>\n",
       "    <tr>\n",
       "      <th>99</th>\n",
       "      <td>100</td>\n",
       "      <td>missing</td>\n",
       "    </tr>\n",
       "  </tbody>\n",
       "</table>\n",
       "</div>"
      ],
      "text/plain": [
       "    aisle_id    aisle\n",
       "99       100  missing"
      ]
     },
     "metadata": {},
     "output_type": "display_data"
    }
   ],
   "source": [
    "# What is this aisle and department?\n",
    "departments_21 = departments[departments['department_id']==21]\n",
    "display(departments_21)\n",
    "aisles_100 = aisles[aisles['aisle_id']==100]\n",
    "display(aisles_100)"
   ]
  },
  {
   "cell_type": "code",
   "execution_count": 39,
   "id": "6b295120",
   "metadata": {},
   "outputs": [
    {
     "data": {
      "text/html": [
       "<div>\n",
       "<style scoped>\n",
       "    .dataframe tbody tr th:only-of-type {\n",
       "        vertical-align: middle;\n",
       "    }\n",
       "\n",
       "    .dataframe tbody tr th {\n",
       "        vertical-align: top;\n",
       "    }\n",
       "\n",
       "    .dataframe thead th {\n",
       "        text-align: right;\n",
       "    }\n",
       "</style>\n",
       "<table border=\"1\" class=\"dataframe\">\n",
       "  <thead>\n",
       "    <tr style=\"text-align: right;\">\n",
       "      <th></th>\n",
       "      <th>product_id</th>\n",
       "      <th>product_name</th>\n",
       "      <th>aisle_id</th>\n",
       "      <th>department_id</th>\n",
       "    </tr>\n",
       "  </thead>\n",
       "  <tbody>\n",
       "    <tr>\n",
       "      <th>37</th>\n",
       "      <td>38</td>\n",
       "      <td>Unknown</td>\n",
       "      <td>100</td>\n",
       "      <td>21</td>\n",
       "    </tr>\n",
       "    <tr>\n",
       "      <th>71</th>\n",
       "      <td>72</td>\n",
       "      <td>Unknown</td>\n",
       "      <td>100</td>\n",
       "      <td>21</td>\n",
       "    </tr>\n",
       "    <tr>\n",
       "      <th>109</th>\n",
       "      <td>110</td>\n",
       "      <td>Unknown</td>\n",
       "      <td>100</td>\n",
       "      <td>21</td>\n",
       "    </tr>\n",
       "    <tr>\n",
       "      <th>296</th>\n",
       "      <td>297</td>\n",
       "      <td>Unknown</td>\n",
       "      <td>100</td>\n",
       "      <td>21</td>\n",
       "    </tr>\n",
       "    <tr>\n",
       "      <th>416</th>\n",
       "      <td>417</td>\n",
       "      <td>Unknown</td>\n",
       "      <td>100</td>\n",
       "      <td>21</td>\n",
       "    </tr>\n",
       "    <tr>\n",
       "      <th>...</th>\n",
       "      <td>...</td>\n",
       "      <td>...</td>\n",
       "      <td>...</td>\n",
       "      <td>...</td>\n",
       "    </tr>\n",
       "    <tr>\n",
       "      <th>49552</th>\n",
       "      <td>49553</td>\n",
       "      <td>Unknown</td>\n",
       "      <td>100</td>\n",
       "      <td>21</td>\n",
       "    </tr>\n",
       "    <tr>\n",
       "      <th>49574</th>\n",
       "      <td>49575</td>\n",
       "      <td>Unknown</td>\n",
       "      <td>100</td>\n",
       "      <td>21</td>\n",
       "    </tr>\n",
       "    <tr>\n",
       "      <th>49640</th>\n",
       "      <td>49641</td>\n",
       "      <td>Unknown</td>\n",
       "      <td>100</td>\n",
       "      <td>21</td>\n",
       "    </tr>\n",
       "    <tr>\n",
       "      <th>49663</th>\n",
       "      <td>49664</td>\n",
       "      <td>Unknown</td>\n",
       "      <td>100</td>\n",
       "      <td>21</td>\n",
       "    </tr>\n",
       "    <tr>\n",
       "      <th>49668</th>\n",
       "      <td>49669</td>\n",
       "      <td>Unknown</td>\n",
       "      <td>100</td>\n",
       "      <td>21</td>\n",
       "    </tr>\n",
       "  </tbody>\n",
       "</table>\n",
       "<p>1258 rows × 4 columns</p>\n",
       "</div>"
      ],
      "text/plain": [
       "       product_id product_name  aisle_id  department_id\n",
       "37             38      Unknown       100             21\n",
       "71             72      Unknown       100             21\n",
       "109           110      Unknown       100             21\n",
       "296           297      Unknown       100             21\n",
       "416           417      Unknown       100             21\n",
       "...           ...          ...       ...            ...\n",
       "49552       49553      Unknown       100             21\n",
       "49574       49575      Unknown       100             21\n",
       "49640       49641      Unknown       100             21\n",
       "49663       49664      Unknown       100             21\n",
       "49668       49669      Unknown       100             21\n",
       "\n",
       "[1258 rows x 4 columns]"
      ]
     },
     "metadata": {},
     "output_type": "display_data"
    }
   ],
   "source": [
    "# Fill missing product names with 'Unknown'\n",
    "products['product_name']=products['product_name'].fillna('Unknown')\n",
    "#checking that the replacement was successful by filtering on the department value and printing the resulting dataframe\n",
    "prods_miss = products[products['department_id']==21]\n",
    "display(prods_miss)"
   ]
  },
  {
   "cell_type": "markdown",
   "id": "fc70e5ad",
   "metadata": {},
   "source": [
    "There are 1258 missing values in the product name column which is a small percentage and should not affect the analysis adversely. It appears that all the missing values in the products dataset are confined to one aisle and department denoted as missing in the corresponding department and aisle datasets. Replacing this with 'Unknown' should simplify the analysis considerably."
   ]
  },
  {
   "cell_type": "markdown",
   "id": "7eb45c86",
   "metadata": {},
   "source": [
    "### `orders` data frame"
   ]
  },
  {
   "cell_type": "code",
   "execution_count": 42,
   "id": "93e41d96",
   "metadata": {},
   "outputs": [
    {
     "name": "stdout",
     "output_type": "stream",
     "text": [
      "28817\n"
     ]
    }
   ],
   "source": [
    "#Inspect number of missing values in the days since prior order column, only column with missing values\n",
    "print(orders['days_since_prior_order'].isna().sum())"
   ]
  },
  {
   "cell_type": "code",
   "execution_count": 43,
   "id": "166e5a86",
   "metadata": {},
   "outputs": [
    {
     "data": {
      "text/plain": [
       "order_id                  0\n",
       "user_id                   0\n",
       "order_number              0\n",
       "order_dow                 0\n",
       "order_hour_of_day         0\n",
       "days_since_prior_order    0\n",
       "dtype: int64"
      ]
     },
     "metadata": {},
     "output_type": "display_data"
    }
   ],
   "source": [
    "# Are there any missing values where it's not a customer's first order?\n",
    "pre_order = orders[orders['order_number']!=1]\n",
    "display(pre_order.isna().sum())"
   ]
  },
  {
   "cell_type": "markdown",
   "id": "4e23d089",
   "metadata": {},
   "source": [
    "The only values missing in this data as mentioned earlier are in the days since prior order column. \n",
    "And none of these missing values occur for repeat customers. This makes sense since first time shoppers should not have an entry in the days since prior order column since they have no prior orders."
   ]
  },
  {
   "cell_type": "markdown",
   "id": "69dc9ca4",
   "metadata": {},
   "source": [
    "### `order_products` data frame"
   ]
  },
  {
   "cell_type": "code",
   "execution_count": 46,
   "id": "b8240253",
   "metadata": {},
   "outputs": [
    {
     "name": "stdout",
     "output_type": "stream",
     "text": [
      "836\n"
     ]
    }
   ],
   "source": [
    "print(order_products['add_to_cart_order'].isna().sum())"
   ]
  },
  {
   "cell_type": "code",
   "execution_count": 47,
   "id": "9a78e5ee",
   "metadata": {},
   "outputs": [
    {
     "name": "stdout",
     "output_type": "stream",
     "text": [
      "1.0\n",
      "64.0\n"
     ]
    }
   ],
   "source": [
    "# What are the min and max values in this column?\n",
    "print(order_products['add_to_cart_order'].min())\n",
    "print(order_products['add_to_cart_order'].max())"
   ]
  },
  {
   "cell_type": "code",
   "execution_count": 48,
   "id": "ab9d0c2b",
   "metadata": {},
   "outputs": [
    {
     "name": "stdout",
     "output_type": "stream",
     "text": [
      "<class 'pandas.core.frame.DataFrame'>\n",
      "Index: 836 entries, 737 to 4535739\n",
      "Data columns (total 4 columns):\n",
      " #   Column             Non-Null Count  Dtype  \n",
      "---  ------             --------------  -----  \n",
      " 0   order_id           836 non-null    int64  \n",
      " 1   product_id         836 non-null    int64  \n",
      " 2   add_to_cart_order  0 non-null      float64\n",
      " 3   reordered          836 non-null    int64  \n",
      "dtypes: float64(1), int64(3)\n",
      "memory usage: 32.7 KB\n",
      "There are 70 user_ids associated with missing add to cart values in the order_products data frame\n",
      "[2449164 1968313 2926893 1717990 1959075  844733   61355  936852  264710\n",
      " 1564093  129627  293169 2849370 1386261 3308010  903110 2136777 3347453\n",
      " 1888628  165801 2094761 1038146 2997021  813364 2256933  171934 2409109\n",
      " 1730767 1169835  733526  404157 3125735  747668 1800005 1961723  871281\n",
      "  388234 1648217 1477139  102236 1021563 1832957 2721963  678116 1220886\n",
      " 1673227 2999801 1633337 2470674 2625444 1677118 2479011 3383594 1183255\n",
      " 1713430 2652650 1598369 1916118  854647 1302315  888470  180546 2621907\n",
      " 1308785 2729254    9310 2170451 2979697 1625713 1529171]\n"
     ]
    }
   ],
   "source": [
    "#generate unique user_id values from the missing_values dataframe\n",
    "#first we filter the data frame on add to cart values that are missing\n",
    "missing_values = order_products[order_products['add_to_cart_order'].isna()]\n",
    "missing_values.info()\n",
    "#we then generate a series that contains unique order_id values\n",
    "missing_val_unique_id = missing_values['order_id'].unique()\n",
    "#we print the number of unique order ids to get a sense of how many orders are involved\n",
    "print(f\"There are {missing_values['order_id'].nunique()} user_ids associated with missing add to cart values in the order_products data frame\")\n",
    "#print the unique order_ids series\n",
    "print(missing_val_unique_id)"
   ]
  },
  {
   "cell_type": "code",
   "execution_count": 49,
   "id": "54c31695",
   "metadata": {},
   "outputs": [
    {
     "data": {
      "text/plain": [
       "Series([], Name: product_id, dtype: int64)"
      ]
     },
     "metadata": {},
     "output_type": "display_data"
    }
   ],
   "source": [
    "# Do all orders with missing values have more than 64 products?\n",
    "#Filter the user_id data frame on the unique order_id series generated earlier which will give rows that have missing add to cart values\n",
    "unique_order_prod = order_products[order_products['order_id'].isin(missing_val_unique_id)]\n",
    "#We now groupby order_id on this new dataframe and count the products assocuated with each product id \n",
    "unique_order_prod_counts = unique_order_prod.groupby('order_id')['product_id'].count()\n",
    "#we then apply a condition on the resulting series to filter for order_ids that do not have more than 64 orders\n",
    "unique_order_prod_counts_not64above = unique_order_prod_counts[~unique_order_prod_counts>64]\n",
    "#we print the resulting series\n",
    "display(unique_order_prod_counts_not64above)"
   ]
  },
  {
   "cell_type": "markdown",
   "id": "bb589334",
   "metadata": {},
   "source": [
    "All the orders with missing add to cart values contain more than 64 orders."
   ]
  },
  {
   "cell_type": "code",
   "execution_count": 51,
   "id": "7a987d08",
   "metadata": {},
   "outputs": [
    {
     "name": "stdout",
     "output_type": "stream",
     "text": [
      "<class 'pandas.core.frame.DataFrame'>\n",
      "RangeIndex: 4545007 entries, 0 to 4545006\n",
      "Data columns (total 4 columns):\n",
      " #   Column             Dtype\n",
      "---  ------             -----\n",
      " 0   order_id           int64\n",
      " 1   product_id         int64\n",
      " 2   add_to_cart_order  int32\n",
      " 3   reordered          int64\n",
      "dtypes: int32(1), int64(3)\n",
      "memory usage: 121.4 MB\n"
     ]
    }
   ],
   "source": [
    "# Replace missing values with 999 and convert column to integer type\n",
    "order_products['add_to_cart_order'] = order_products['add_to_cart_order'].fillna(999).astype('int')\n",
    "order_products.info()"
   ]
  },
  {
   "cell_type": "markdown",
   "id": "fea4bcc7",
   "metadata": {},
   "source": [
    "Add to cart order is the only variable with missing values in this data set. When we consider that values for this variable range from 0 to 64, it makes sense to consider whether the orders for which add_to_cart_order are missing have more than 64 products purchased per order. It appears that these orders do not have more than 64 orders, in fact they are below 64 for all of these. This can be seen both from the groupby list, batch, as well as the conditional filter on this list that looks at orders on this list that have more than 64 products which returns an empty series. We have been asked to replace the missing values with 999 and convert to integer type which is good for later data analysis since order of addition has to be an integer but because of the missing values it was being categorized as a float. However, in this instance since all the missing values have products in the range of less than 64 items, does it not make more sense to use the mean or median?"
   ]
  },
  {
   "cell_type": "markdown",
   "id": "3c337595-7efb-41fd-86e5-70d5f0ebabe0",
   "metadata": {},
   "source": [
    "## Preliminary Data Exploration"
   ]
  },
  {
   "cell_type": "markdown",
   "id": "short-capability",
   "metadata": {},
   "source": [
    "###  Are `'order_hour_of_day'` and `'order_dow'` values in the `orders` tables sensible (i.e. `'order_hour_of_day'` ranges from 0 to 23 and `'order_dow'` ranges from 0 to 6)?"
   ]
  },
  {
   "cell_type": "code",
   "execution_count": 55,
   "id": "growing-fruit",
   "metadata": {},
   "outputs": [
    {
     "name": "stdout",
     "output_type": "stream",
     "text": [
      "0\n",
      "The values in the order_hour_of_day column are all sensible\n"
     ]
    }
   ],
   "source": [
    "#we create a counter that increases by one when order_hour_of_day does not fit parameters\n",
    "#if this counter is 0 at the end of the loop, that means the values are sensible\n",
    "incorrect_hour = 0\n",
    "for x, row in orders.iterrows():\n",
    "    if row['order_hour_of_day'] <0 and row['order_hour_of_day']>23:\n",
    "        incorrect_hour += 1\n",
    "print(incorrect_hour)\n",
    "if incorrect_hour == 0:\n",
    "   print(\"The values in the order_hour_of_day column are all sensible\")"
   ]
  },
  {
   "cell_type": "code",
   "execution_count": 56,
   "id": "accessory-malaysia",
   "metadata": {},
   "outputs": [
    {
     "name": "stdout",
     "output_type": "stream",
     "text": [
      "0\n",
      "The values in the order_dow column are all sensible\n"
     ]
    }
   ],
   "source": [
    "#we create a counter that increases by one when order_dow does not fit parameters\n",
    "#if this counter is 0 at the end of the loop, that means the values are sensible\n",
    "incorrect_day = 0\n",
    "for x, row in orders.iterrows():\n",
    "    if row['order_dow'] <0 and row['order_dow']>6:\n",
    "        incorrect_day += 1\n",
    "print(incorrect_day)\n",
    "if incorrect_day == 0:\n",
    "   print(\"The values in the order_dow column are all sensible\")"
   ]
  },
  {
   "cell_type": "markdown",
   "id": "a6743a70",
   "metadata": {},
   "source": [
    "### What time of day do people shop for groceries?"
   ]
  },
  {
   "cell_type": "code",
   "execution_count": 58,
   "id": "a36cca27",
   "metadata": {},
   "outputs": [
    {
     "data": {
      "image/png": "[encoded data removed]",
      "text/plain": [
       "<Figure size 1200x800 with 1 Axes>"
      ]
     },
     "metadata": {},
     "output_type": "display_data"
    },
    {
     "name": "stdout",
     "output_type": "stream",
     "text": [
      "The time of day when people shop the most is:10 AM\n"
     ]
    }
   ],
   "source": [
    "#we start by grouping the orders by hour of the day and then counting the number of orders for each time slot\n",
    "orders_time = orders.groupby('order_hour_of_day')['order_id'].count()\n",
    "\n",
    "#we plot this as a bar graph\n",
    "orders_time.plot(kind='bar',\n",
    "                 title='Number of orders placed every hour of the day',\n",
    "                            xlabel='Hour of Day (in 24-hour format)',\n",
    "                            ylabel='Number of Orders',\n",
    "                            figsize=[12, 8],\n",
    "                            color='LightBlue')\n",
    "plt.show()\n",
    "\n",
    "#we assign the index of the series where the number of orders is the highest to a variable t_max\n",
    "t_max = orders_time.idxmax()\n",
    "\n",
    "#the t_max however is a value that denotes hour of the day when the request was for time\n",
    "#we convert hour of the day to time using a function\n",
    "def convert_time(hour):\n",
    "    if hour == 0:\n",
    "        return '12 AM'\n",
    "    elif hour == 12:\n",
    "        return '12 PM'\n",
    "    elif hour > 12:\n",
    "        return f'{hour - 12} PM'\n",
    "    else:\n",
    "        return f'{hour} AM'\n",
    "    \n",
    "#we pass t_max to this conversion function when we print the output to get the time\n",
    "print(f\"The time of day when people shop the most is:{convert_time(t_max)}\")"
   ]
  },
  {
   "cell_type": "markdown",
   "id": "11270eed",
   "metadata": {},
   "source": [
    "We have determined that all the values in the order_hour_of_day and order_dow columns are sensible.\n",
    "Consequently, we have determined that most orders are placed around 10 in the morning. \n",
    "When we examine the bar plot we observe that most shopping happens between 9 in the morning and 5 in the evening. The shopping drops gradually through the evening until midnight, when most people are asleep, and there is little to no activity until the early risers lead to traffic increasing again around 7 and gradually rising."
   ]
  },
  {
   "cell_type": "markdown",
   "id": "documented-command",
   "metadata": {},
   "source": [
    "### What day of the week do people shop for groceries?"
   ]
  },
  {
   "cell_type": "code",
   "execution_count": 61,
   "id": "chief-digit",
   "metadata": {},
   "outputs": [
    {
     "data": {
      "image/png": "[encoded data removed]",
      "text/plain": [
       "<Figure size 1200x800 with 1 Axes>"
      ]
     },
     "metadata": {},
     "output_type": "display_data"
    }
   ],
   "source": [
    "#we start by grouping the orders by day of the week and then counting the number of orders for each time slot\n",
    "orders_day = orders.groupby('order_dow')['order_id'].count()\n",
    "\n",
    "#We plot this as a bar graph\n",
    "orders_day.plot(kind='bar',\n",
    "                title='Orders placed every day of the week',\n",
    "                            xlabel='Day of the Week(numbered 0 through 6)',\n",
    "                            ylabel='Number of Orders',\n",
    "                            figsize=[12, 8],\n",
    "                            color='LightGreen',\n",
    "                            rot=0)\n",
    "\n",
    "plt.show()"
   ]
  },
  {
   "cell_type": "markdown",
   "id": "dominant-lightning",
   "metadata": {},
   "source": [
    "From the graphy is it clear that day 0 and 1 have the most shoppers, which indicates that this is likely the weekend. Unlike my earlier assumption I think in this case 0 stands for Saturday and 1 for Sunday. We need to reassign earlier values acccordingly. People prefer to shop on Saturdays and Sundays. This tallies with the fact that people have more time to shop over the weekends. However, there is not a huge drop in traffic through the week which points to the convenience of online shopping like instacart."
   ]
  },
  {
   "cell_type": "markdown",
   "id": "cutting-concert",
   "metadata": {},
   "source": [
    "### How long do people wait until placing another order?"
   ]
  },
  {
   "cell_type": "code",
   "execution_count": 64,
   "id": "c231f523",
   "metadata": {},
   "outputs": [
    {
     "data": {
      "image/png": "[encoded data removed]",
      "text/plain": [
       "<Figure size 1200x800 with 1 Axes>"
      ]
     },
     "metadata": {},
     "output_type": "display_data"
    }
   ],
   "source": [
    "#we start by grouping the orders by days since prior order and then counting the number of orders for each waiting period\n",
    "orders_days_prior = orders.groupby('days_since_prior_order')['order_id'].count()\n",
    "\n",
    "#We plot this as a bar graph\n",
    "orders_days_prior.plot(kind='bar',\n",
    "                       title='Orders placed vs days since the last order',\n",
    "                            xlabel='Days since the last order',\n",
    "                            ylabel='Number of Orders',\n",
    "                            figsize=[12, 8],\n",
    "                            color='mediumpurple',\n",
    "                            rot=45)\n",
    "plt.show()"
   ]
  },
  {
   "cell_type": "markdown",
   "id": "discrete-vertex",
   "metadata": {},
   "source": [
    "It appears that most people shop for groceries on a monthly basis (every thirty days). It is likely that people make bulk purchases on a monthly basis to make use of bulk discounts, free shipping on large orders, the convenience of saving time, or perhaps the ease of arranging to be home during scheduled delivery times when perishable items are being delivered.\n",
    "Another big customer group are those that purchase weekly, which is a more frequent purchase frequency and likely those that shop on weekends when they are not working."
   ]
  },
  {
   "cell_type": "code",
   "execution_count": 66,
   "id": "exciting-fantasy",
   "metadata": {},
   "outputs": [
    {
     "name": "stdout",
     "output_type": "stream",
     "text": [
      "44577\n",
      "51337\n",
      "the difference in orders between customers who shop monthly and weekly, the two highest volume groups, is:6760\n"
     ]
    }
   ],
   "source": [
    "#We would like to see how many orders the customers who order weekly and monthly place since these are the groups that place the most orders\n",
    "day_prio7 = orders_days_prior.loc[7]\n",
    "print(day_prio7)\n",
    "day_prio30 = orders_days_prior.loc[30]\n",
    "print(day_prio30)\n",
    "\n",
    "#We would like to see the difference in order volume between the two groups, especially since the weekly group hews closer to the middle of the main distribution of orders\n",
    "print(f\"the difference in orders between customers who shop monthly and weekly, the two highest volume groups, is:{day_prio30-day_prio7}\")"
   ]
  },
  {
   "cell_type": "markdown",
   "id": "8d926614",
   "metadata": {},
   "source": [
    "Since the difference in orders placed between the customers who shop weekly and thoser who shop monthly is 6760, roughly 10%, it would make sense to hone in on the motivations for the weekly customers since they shop more frequently and make up more than enough in volume.\n",
    "Most of the shopping happens roughly on a 2-8 day frequency and it tapers after that, except for the monthly buyers who are outliers. So it generally makes sense to understand the behavior of frequent shoppers and try to make deals or vouchers that they find attractive."
   ]
  },
  {
   "cell_type": "markdown",
   "id": "7b8b234c-ef68-411a-aefa-f772bc60a7b4",
   "metadata": {},
   "source": [
    "## Customer Behavior Analysis"
   ]
  },
  {
   "cell_type": "markdown",
   "id": "packed-classic",
   "metadata": {},
   "source": [
    "### Is there a difference in `'order_hour_of_day'` distributions on Wednesdays and Saturdays? Plot the histograms for both days and describe the differences that you see."
   ]
  },
  {
   "cell_type": "code",
   "execution_count": 70,
   "id": "d89b8403",
   "metadata": {},
   "outputs": [
    {
     "name": "stdout",
     "output_type": "stream",
     "text": [
      "Min and max value for orders_wednesday: 4 4\n"
     ]
    },
    {
     "data": {
      "image/png": "[encoded data removed]",
      "text/plain": [
       "<Figure size 640x480 with 1 Axes>"
      ]
     },
     "metadata": {},
     "output_type": "display_data"
    }
   ],
   "source": [
    "#we filter orders based on the day of the week\n",
    "orders_wednesday = orders[orders['order_dow'] == 4]\n",
    "#we check that the filtering worked and ensure it only captures orders for wednesday\n",
    "print(\"Min and max value for orders_wednesday:\", orders_wednesday['order_dow'].min(),orders_wednesday['order_dow'].max())\n",
    "\n",
    "#we group orders by hour of the day and count the orders per hour\n",
    "orders_wednesday_byhour = orders_wednesday.groupby('order_hour_of_day')['order_id'].count()\n",
    "\n",
    "#we plot the histogram for the series object. type hist did not work so we used this instead and weighted by the values in the series\n",
    "plt.hist(orders_wednesday_byhour.index, bins=24, weights=orders_wednesday_byhour, \n",
    "         color='orange', edgecolor='black', label=\"Orders on Wednesday\")\n",
    "\n",
    "#labels for axes and title\n",
    "plt.xlabel('Hour of Day')\n",
    "plt.ylabel('Number of Orders')\n",
    "plt.title('Order Distribution on Wednesdays by Hour')\n",
    "\n",
    "#display graph\n",
    "plt.show()"
   ]
  },
  {
   "cell_type": "code",
   "execution_count": 71,
   "id": "94e54e8a",
   "metadata": {},
   "outputs": [
    {
     "name": "stdout",
     "output_type": "stream",
     "text": [
      "Min and max value for orders_wednesday: 0 0\n"
     ]
    },
    {
     "data": {
      "image/png": "[encoded data removed]",
      "text/plain": [
       "<Figure size 640x480 with 1 Axes>"
      ]
     },
     "metadata": {},
     "output_type": "display_data"
    }
   ],
   "source": [
    "#we filter orders based on the day of the week\n",
    "orders_saturday = orders[orders['order_dow'] == 0]\n",
    "#we check that the filtering worked and ensure it only captures orders for saturday\n",
    "print(\"Min and max value for orders_wednesday:\", orders_saturday['order_dow'].min(),orders_saturday['order_dow'].max())\n",
    "\n",
    "#we group orders by hour of the day and count the orders per hour\n",
    "orders_saturday_byhour = orders_saturday.groupby('order_hour_of_day')['order_id'].count()\n",
    "\n",
    "#we plot the histogram for the series object. type hist did not work so we used this instead and weighted by the values in the series\n",
    "plt.hist(orders_saturday_byhour.index, bins=24, weights=orders_saturday_byhour, \n",
    "         color='aqua',edgecolor='black', label=\"Orders on Saturday\")\n",
    "\n",
    "#labels for axes and title\n",
    "plt.xlabel('Hour of Day')\n",
    "plt.ylabel('Number of Orders')\n",
    "plt.title('Order Distribution on Saturday by Hour')\n",
    "\n",
    "#display graph\n",
    "plt.show()"
   ]
  },
  {
   "cell_type": "code",
   "execution_count": 72,
   "id": "797c90a8",
   "metadata": {},
   "outputs": [
    {
     "data": {
      "image/png": "[encoded data removed]",
      "text/plain": [
       "<Figure size 640x480 with 1 Axes>"
      ]
     },
     "metadata": {},
     "output_type": "display_data"
    }
   ],
   "source": [
    "#replot the histograms for saturday and wednesday with some transparency and without edges to see overlap better\n",
    "plt.hist(orders_wednesday_byhour.index, bins=24, weights=orders_wednesday_byhour, \n",
    "         alpha=0.6, color='orange', label=\"Orders on Wednesday\")\n",
    "plt.hist(orders_saturday_byhour.index, bins=24, weights=orders_saturday_byhour, \n",
    "         alpha=0.3, color='aqua', label=\"Orders on Saturday\")\n",
    "\n",
    "#Axes labels, legends and title\n",
    "plt.xlabel('Hour of Day')\n",
    "plt.ylabel('Number of Orders')\n",
    "plt.title('Order Distribution on Wednesday and Saturday by Hour')\n",
    "plt.legend()\n",
    "\n",
    "#display graph\n",
    "plt.show()"
   ]
  },
  {
   "cell_type": "markdown",
   "id": "charitable-congo",
   "metadata": {},
   "source": [
    "The distribution of orders by the hour on Saturday and Wednesday follows the same pattern through the course of the day for the majority of the time with increased volume on Saturday compared to Wednesday on average. This increase in volume of orders on Saturdays can be clearly seen between 10 AM and 5 PM, with less pronounced effects observed at 9AM-10AM and 5-6 Pm after which the difference in sales volume between the two days drops of gradually through the night.\n",
    "The increase in sales on Saturday makes sense since it is the weekend and people do tend to have more time to shop.\n",
    "However, in the morning from 7-8 AM on Wednesdays we see a reversal in this trend. We see a slight increase in the volume of sales on Wednesday compared to Saturday. It is a very minimal surge but since it runs in opposition to the expected trend, it is interesting.\n",
    "It would be worthwhile to see what causes this surge on Wednesdays. Do people run out of essentials mid-week and scramble to place an order for these before they head out to work? Are other factors responsible for this?"
   ]
  },
  {
   "cell_type": "markdown",
   "id": "c09bb436",
   "metadata": {},
   "source": [
    "v"
   ]
  },
  {
   "cell_type": "markdown",
   "id": "e3891143",
   "metadata": {},
   "source": [
    "### What's the distribution for the number of orders per customer?"
   ]
  },
  {
   "cell_type": "code",
   "execution_count": 76,
   "id": "d8c26c23",
   "metadata": {},
   "outputs": [
    {
     "data": {
      "image/png": "[encoded data removed]",
      "text/plain": [
       "<Figure size 640x480 with 1 Axes>"
      ]
     },
     "metadata": {},
     "output_type": "display_data"
    }
   ],
   "source": [
    "#we group orders by number of orders placed by the customer and count the number of unique customer ids per number of orders\n",
    "orders_percustomer = orders.groupby('order_number')['user_id'].nunique()\n",
    "\n",
    "#plot the histogram weighting using the series values\n",
    "plt.hist(orders_percustomer.index, bins=30, weights=orders_percustomer, \n",
    "         color='darkred', edgecolor='grey', label=\"Customers by frequency\")\n",
    "\n",
    "#Axes labels and title\n",
    "plt.xlabel('Number of Orders')\n",
    "plt.ylabel('Number of Customers')\n",
    "plt.title('Customer Distribution Across Different Frequencies of Ordering')\n",
    "\n",
    "#display graph\n",
    "plt.show()"
   ]
  },
  {
   "cell_type": "markdown",
   "id": "d2eff7d5",
   "metadata": {},
   "source": [
    "We see from the above graph that most customers place very few orders on a monthly basis.\n",
    "Most of the customers (>100,000) place orders less than 3 times a month. \n",
    "Customers who place more than 12 orders a month are very few. In total this group can be estimated to be around 120,000 or so. \n",
    "Those who place 12 orders or less are roughly 290000 in total, roughly 2.5 fold the customers who place orders more frequently.\n",
    "The bulk of the customers shop at a bi-weekly cadence and those at the tail end of this group shop twice a week at most."
   ]
  },
  {
   "cell_type": "markdown",
   "id": "54a0319c",
   "metadata": {},
   "source": [
    "### What are the top 20 popular products (display their id and name)?"
   ]
  },
  {
   "cell_type": "code",
   "execution_count": 79,
   "id": "exterior-arizona",
   "metadata": {
    "scrolled": true
   },
   "outputs": [
    {
     "data": {
      "text/html": [
       "<div>\n",
       "<style scoped>\n",
       "    .dataframe tbody tr th:only-of-type {\n",
       "        vertical-align: middle;\n",
       "    }\n",
       "\n",
       "    .dataframe tbody tr th {\n",
       "        vertical-align: top;\n",
       "    }\n",
       "\n",
       "    .dataframe thead th {\n",
       "        text-align: right;\n",
       "    }\n",
       "</style>\n",
       "<table border=\"1\" class=\"dataframe\">\n",
       "  <thead>\n",
       "    <tr style=\"text-align: right;\">\n",
       "      <th></th>\n",
       "      <th>product_id</th>\n",
       "      <th>product_name</th>\n",
       "      <th>number_of_product_orders</th>\n",
       "    </tr>\n",
       "  </thead>\n",
       "  <tbody>\n",
       "    <tr>\n",
       "      <th>24851</th>\n",
       "      <td>24852</td>\n",
       "      <td>banana</td>\n",
       "      <td>66050.0</td>\n",
       "    </tr>\n",
       "    <tr>\n",
       "      <th>13175</th>\n",
       "      <td>13176</td>\n",
       "      <td>bag of organic bananas</td>\n",
       "      <td>53297.0</td>\n",
       "    </tr>\n",
       "    <tr>\n",
       "      <th>21136</th>\n",
       "      <td>21137</td>\n",
       "      <td>organic strawberries</td>\n",
       "      <td>37039.0</td>\n",
       "    </tr>\n",
       "    <tr>\n",
       "      <th>21902</th>\n",
       "      <td>21903</td>\n",
       "      <td>organic baby spinach</td>\n",
       "      <td>33971.0</td>\n",
       "    </tr>\n",
       "    <tr>\n",
       "      <th>47208</th>\n",
       "      <td>47209</td>\n",
       "      <td>organic hass avocado</td>\n",
       "      <td>29773.0</td>\n",
       "    </tr>\n",
       "    <tr>\n",
       "      <th>47765</th>\n",
       "      <td>47766</td>\n",
       "      <td>organic avocado</td>\n",
       "      <td>24689.0</td>\n",
       "    </tr>\n",
       "    <tr>\n",
       "      <th>47625</th>\n",
       "      <td>47626</td>\n",
       "      <td>large lemon</td>\n",
       "      <td>21495.0</td>\n",
       "    </tr>\n",
       "    <tr>\n",
       "      <th>16796</th>\n",
       "      <td>16797</td>\n",
       "      <td>strawberries</td>\n",
       "      <td>20018.0</td>\n",
       "    </tr>\n",
       "    <tr>\n",
       "      <th>26208</th>\n",
       "      <td>26209</td>\n",
       "      <td>limes</td>\n",
       "      <td>19690.0</td>\n",
       "    </tr>\n",
       "    <tr>\n",
       "      <th>27844</th>\n",
       "      <td>27845</td>\n",
       "      <td>organic whole milk</td>\n",
       "      <td>19600.0</td>\n",
       "    </tr>\n",
       "    <tr>\n",
       "      <th>27965</th>\n",
       "      <td>27966</td>\n",
       "      <td>organic raspberries</td>\n",
       "      <td>19197.0</td>\n",
       "    </tr>\n",
       "    <tr>\n",
       "      <th>22934</th>\n",
       "      <td>22935</td>\n",
       "      <td>organic yellow onion</td>\n",
       "      <td>15898.0</td>\n",
       "    </tr>\n",
       "    <tr>\n",
       "      <th>24963</th>\n",
       "      <td>24964</td>\n",
       "      <td>organic garlic</td>\n",
       "      <td>15292.0</td>\n",
       "    </tr>\n",
       "    <tr>\n",
       "      <th>45006</th>\n",
       "      <td>45007</td>\n",
       "      <td>organic zucchini</td>\n",
       "      <td>14584.0</td>\n",
       "    </tr>\n",
       "    <tr>\n",
       "      <th>39274</th>\n",
       "      <td>39275</td>\n",
       "      <td>organic blueberries</td>\n",
       "      <td>13879.0</td>\n",
       "    </tr>\n",
       "    <tr>\n",
       "      <th>49682</th>\n",
       "      <td>49683</td>\n",
       "      <td>cucumber kirby</td>\n",
       "      <td>13675.0</td>\n",
       "    </tr>\n",
       "    <tr>\n",
       "      <th>28203</th>\n",
       "      <td>28204</td>\n",
       "      <td>organic fuji apple</td>\n",
       "      <td>12544.0</td>\n",
       "    </tr>\n",
       "    <tr>\n",
       "      <th>5875</th>\n",
       "      <td>5876</td>\n",
       "      <td>organic lemon</td>\n",
       "      <td>12232.0</td>\n",
       "    </tr>\n",
       "    <tr>\n",
       "      <th>8276</th>\n",
       "      <td>8277</td>\n",
       "      <td>apple honeycrisp organic</td>\n",
       "      <td>11993.0</td>\n",
       "    </tr>\n",
       "    <tr>\n",
       "      <th>40705</th>\n",
       "      <td>40706</td>\n",
       "      <td>organic grape tomatoes</td>\n",
       "      <td>11781.0</td>\n",
       "    </tr>\n",
       "  </tbody>\n",
       "</table>\n",
       "</div>"
      ],
      "text/plain": [
       "       product_id              product_name  number_of_product_orders\n",
       "24851       24852                    banana                   66050.0\n",
       "13175       13176    bag of organic bananas                   53297.0\n",
       "21136       21137      organic strawberries                   37039.0\n",
       "21902       21903      organic baby spinach                   33971.0\n",
       "47208       47209      organic hass avocado                   29773.0\n",
       "47765       47766           organic avocado                   24689.0\n",
       "47625       47626               large lemon                   21495.0\n",
       "16796       16797              strawberries                   20018.0\n",
       "26208       26209                     limes                   19690.0\n",
       "27844       27845        organic whole milk                   19600.0\n",
       "27965       27966       organic raspberries                   19197.0\n",
       "22934       22935      organic yellow onion                   15898.0\n",
       "24963       24964            organic garlic                   15292.0\n",
       "45006       45007          organic zucchini                   14584.0\n",
       "39274       39275       organic blueberries                   13879.0\n",
       "49682       49683            cucumber kirby                   13675.0\n",
       "28203       28204        organic fuji apple                   12544.0\n",
       "5875         5876             organic lemon                   12232.0\n",
       "8276         8277  apple honeycrisp organic                   11993.0\n",
       "40705       40706    organic grape tomatoes                   11781.0"
      ]
     },
     "metadata": {},
     "output_type": "display_data"
    }
   ],
   "source": [
    "#created a series grouping the products by product_id and countign the number of orders of each product\n",
    "products_qty = order_products.groupby('product_id')['order_id'].count()\n",
    "\n",
    "#merged this series with the product data frame using the index of the series which is product_id and product_id column of the dataframe\n",
    "merged_prod = pd.merge(products, products_qty,left_on='product_id', right_index=True, how='left')\n",
    "#renamed the order_id column to number of product orders for clarity\n",
    "merged_prod.rename(columns={'order_id': 'number_of_product_orders'}, inplace=True)\n",
    "\n",
    "#sorted the merged dataframe based on the number of product orders column in descending order and stored in a new variable\n",
    "final = merged_prod.sort_values('number_of_product_orders', ascending=False)\n",
    "#printed the first 20 values of this dataframe to get the 20 most popular products\n",
    "display(final[['product_id', 'product_name', 'number_of_product_orders']].head(20))"
   ]
  },
  {
   "cell_type": "code",
   "execution_count": 80,
   "id": "1c037f68",
   "metadata": {},
   "outputs": [
    {
     "data": {
      "image/png": "[encoded data removed]",
      "text/plain": [
       "<Figure size 640x480 with 1 Axes>"
      ]
     },
     "metadata": {},
     "output_type": "display_data"
    }
   ],
   "source": [
    "#Assigned top 20 reorderd items list to a new variable\n",
    "Popular_20 = final[['product_id', 'product_name', 'number_of_product_orders']].head(20)\n",
    "#plot with prodict name on x-axis and reorder frequency on y-axis\n",
    "Popular_20.plot(x='product_name',\n",
    "                y='number_of_product_orders',\n",
    "                kind='bar',\n",
    "                title='Frequency of Purchase of Top 20 Products',\n",
    "                xlabel='Product Name',\n",
    "                ylabel='Frequency of Purchase',\n",
    "                color='purple')\n",
    "#remove legend\n",
    "plt.legend('', frameon=False)\n",
    "#show plot\n",
    "plt.show()"
   ]
  },
  {
   "cell_type": "markdown",
   "id": "7df00f47",
   "metadata": {},
   "source": [
    "The best format to look at this data, as a table. I do not think plotting this improves the visualization by much.\n",
    "\n",
    "Organic produce seems very popular dominating the upper half of the table. Also, the only non-produce item on this list is milk. And the produce skews towards fresh fruit by a small margin(50% of the top 20). There seems to be a great shift of shoppers towards helathier eating and eating organic, focused on fresh, organic produce."
   ]
  },
  {
   "cell_type": "markdown",
   "id": "romantic-deposit",
   "metadata": {},
   "source": [
    "### How many items do people typically buy in one order? What does the distribution look like?"
   ]
  },
  {
   "cell_type": "code",
   "execution_count": 83,
   "id": "virtual-punch",
   "metadata": {},
   "outputs": [
    {
     "data": {
      "image/png": "[encoded data removed]",
      "text/plain": [
       "<Figure size 640x480 with 1 Axes>"
      ]
     },
     "metadata": {},
     "output_type": "display_data"
    }
   ],
   "source": [
    "#group the order products group by order id and then count the number of products in each order\n",
    "number_perorder = order_products.groupby('order_id')['product_id'].count()\n",
    "\n",
    "#plot the histogram weighting using the series values\n",
    "plt.hist(number_perorder, bins=200,\n",
    "         color='coral', edgecolor='grey', label=\"Number of Items per order\")\n",
    "\n",
    "#Axes labels and title\n",
    "plt.xlabel('Number of Items per Order')\n",
    "plt.ylabel('Frequency')\n",
    "plt.title('Distribution of Number of Items Ordered per Order')\n",
    "\n",
    "#display graph\n",
    "plt.show()                                                                           "
   ]
  },
  {
   "cell_type": "code",
   "execution_count": 84,
   "id": "5f038342",
   "metadata": {},
   "outputs": [
    {
     "name": "stdout",
     "output_type": "stream",
     "text": [
      "Most customers order 5 items and this number of items have been purchased 31923 times\n"
     ]
    }
   ],
   "source": [
    "#create a new series by running value counts on the series created by counting products per order\n",
    "#this will return a series with the index showing the range of number of products purchased per order and the values of the series being how frequently this number of products is purchased\n",
    "number_perorder_freq = number_perorder.value_counts()\n",
    "\n",
    "#number of products that have maximum frequency\n",
    "max_ordered_num = number_perorder_freq.idxmax()\n",
    "#how often has this number of products been purchased\n",
    "max_ordered_freq = number_perorder_freq.max()\n",
    "print(f\"Most customers order {max_ordered_num} items and this number of items have been purchased {max_ordered_freq} times\") "
   ]
  },
  {
   "cell_type": "markdown",
   "id": "0e308ffb",
   "metadata": {},
   "source": [
    "Most customers purchase around 5 products per order. The distribution of product numbers around this maximum is a skewed distribution with a steep drop on the left and a more gradual taper to the right of the x-axis. This indicates that not a lot of orders have fewer than five items but above five items the order numbers reduce gradually until about 40. Very few customers buy more than 40 items in one order, indicating that there are not a lot of bulk purchases. Most people are most likely restocking grocery items they run out of or making spontaneous purchases on the go."
   ]
  },
  {
   "cell_type": "markdown",
   "id": "5e6b5537",
   "metadata": {},
   "source": [
    "### What are the top 20 items that are reordered most frequently (display their names and product IDs)?"
   ]
  },
  {
   "cell_type": "code",
   "execution_count": 87,
   "id": "9374e55a",
   "metadata": {},
   "outputs": [
    {
     "data": {
      "text/html": [
       "<div>\n",
       "<style scoped>\n",
       "    .dataframe tbody tr th:only-of-type {\n",
       "        vertical-align: middle;\n",
       "    }\n",
       "\n",
       "    .dataframe tbody tr th {\n",
       "        vertical-align: top;\n",
       "    }\n",
       "\n",
       "    .dataframe thead th {\n",
       "        text-align: right;\n",
       "    }\n",
       "</style>\n",
       "<table border=\"1\" class=\"dataframe\">\n",
       "  <thead>\n",
       "    <tr style=\"text-align: right;\">\n",
       "      <th></th>\n",
       "      <th>product_id</th>\n",
       "      <th>product_name</th>\n",
       "      <th>reordered_frequency</th>\n",
       "    </tr>\n",
       "  </thead>\n",
       "  <tbody>\n",
       "    <tr>\n",
       "      <th>24851</th>\n",
       "      <td>24852</td>\n",
       "      <td>banana</td>\n",
       "      <td>55763.0</td>\n",
       "    </tr>\n",
       "    <tr>\n",
       "      <th>13175</th>\n",
       "      <td>13176</td>\n",
       "      <td>bag of organic bananas</td>\n",
       "      <td>44450.0</td>\n",
       "    </tr>\n",
       "    <tr>\n",
       "      <th>21136</th>\n",
       "      <td>21137</td>\n",
       "      <td>organic strawberries</td>\n",
       "      <td>28639.0</td>\n",
       "    </tr>\n",
       "    <tr>\n",
       "      <th>21902</th>\n",
       "      <td>21903</td>\n",
       "      <td>organic baby spinach</td>\n",
       "      <td>26233.0</td>\n",
       "    </tr>\n",
       "    <tr>\n",
       "      <th>47208</th>\n",
       "      <td>47209</td>\n",
       "      <td>organic hass avocado</td>\n",
       "      <td>23629.0</td>\n",
       "    </tr>\n",
       "    <tr>\n",
       "      <th>47765</th>\n",
       "      <td>47766</td>\n",
       "      <td>organic avocado</td>\n",
       "      <td>18743.0</td>\n",
       "    </tr>\n",
       "    <tr>\n",
       "      <th>27844</th>\n",
       "      <td>27845</td>\n",
       "      <td>organic whole milk</td>\n",
       "      <td>16251.0</td>\n",
       "    </tr>\n",
       "    <tr>\n",
       "      <th>47625</th>\n",
       "      <td>47626</td>\n",
       "      <td>large lemon</td>\n",
       "      <td>15044.0</td>\n",
       "    </tr>\n",
       "    <tr>\n",
       "      <th>27965</th>\n",
       "      <td>27966</td>\n",
       "      <td>organic raspberries</td>\n",
       "      <td>14748.0</td>\n",
       "    </tr>\n",
       "    <tr>\n",
       "      <th>16796</th>\n",
       "      <td>16797</td>\n",
       "      <td>strawberries</td>\n",
       "      <td>13945.0</td>\n",
       "    </tr>\n",
       "    <tr>\n",
       "      <th>26208</th>\n",
       "      <td>26209</td>\n",
       "      <td>limes</td>\n",
       "      <td>13327.0</td>\n",
       "    </tr>\n",
       "    <tr>\n",
       "      <th>22934</th>\n",
       "      <td>22935</td>\n",
       "      <td>organic yellow onion</td>\n",
       "      <td>11145.0</td>\n",
       "    </tr>\n",
       "    <tr>\n",
       "      <th>24963</th>\n",
       "      <td>24964</td>\n",
       "      <td>organic garlic</td>\n",
       "      <td>10411.0</td>\n",
       "    </tr>\n",
       "    <tr>\n",
       "      <th>45006</th>\n",
       "      <td>45007</td>\n",
       "      <td>organic zucchini</td>\n",
       "      <td>10076.0</td>\n",
       "    </tr>\n",
       "    <tr>\n",
       "      <th>49682</th>\n",
       "      <td>49683</td>\n",
       "      <td>cucumber kirby</td>\n",
       "      <td>9538.0</td>\n",
       "    </tr>\n",
       "    <tr>\n",
       "      <th>28203</th>\n",
       "      <td>28204</td>\n",
       "      <td>organic fuji apple</td>\n",
       "      <td>8989.0</td>\n",
       "    </tr>\n",
       "    <tr>\n",
       "      <th>8276</th>\n",
       "      <td>8277</td>\n",
       "      <td>apple honeycrisp organic</td>\n",
       "      <td>8836.0</td>\n",
       "    </tr>\n",
       "    <tr>\n",
       "      <th>39274</th>\n",
       "      <td>39275</td>\n",
       "      <td>organic blueberries</td>\n",
       "      <td>8799.0</td>\n",
       "    </tr>\n",
       "    <tr>\n",
       "      <th>5875</th>\n",
       "      <td>5876</td>\n",
       "      <td>organic lemon</td>\n",
       "      <td>8412.0</td>\n",
       "    </tr>\n",
       "    <tr>\n",
       "      <th>49234</th>\n",
       "      <td>49235</td>\n",
       "      <td>organic half &amp; half</td>\n",
       "      <td>8389.0</td>\n",
       "    </tr>\n",
       "  </tbody>\n",
       "</table>\n",
       "</div>"
      ],
      "text/plain": [
       "       product_id              product_name  reordered_frequency\n",
       "24851       24852                    banana              55763.0\n",
       "13175       13176    bag of organic bananas              44450.0\n",
       "21136       21137      organic strawberries              28639.0\n",
       "21902       21903      organic baby spinach              26233.0\n",
       "47208       47209      organic hass avocado              23629.0\n",
       "47765       47766           organic avocado              18743.0\n",
       "27844       27845        organic whole milk              16251.0\n",
       "47625       47626               large lemon              15044.0\n",
       "27965       27966       organic raspberries              14748.0\n",
       "16796       16797              strawberries              13945.0\n",
       "26208       26209                     limes              13327.0\n",
       "22934       22935      organic yellow onion              11145.0\n",
       "24963       24964            organic garlic              10411.0\n",
       "45006       45007          organic zucchini              10076.0\n",
       "49682       49683            cucumber kirby               9538.0\n",
       "28203       28204        organic fuji apple               8989.0\n",
       "8276         8277  apple honeycrisp organic               8836.0\n",
       "39274       39275       organic blueberries               8799.0\n",
       "5875         5876             organic lemon               8412.0\n",
       "49234       49235       organic half & half               8389.0"
      ]
     },
     "metadata": {},
     "output_type": "display_data"
    }
   ],
   "source": [
    "#filtered the dataframe to only consider products that have been reordered\n",
    "products_reorder = order_products[order_products['reordered']==1]\n",
    "#grouped this dataframe by product name and summed reorder values for each product to get frequency of reorders per product in the series value\n",
    "products_reorder_num = products_reorder.groupby('product_id')['reordered'].sum()\n",
    "\n",
    "#merged this series with the product data frame using the index of the series which is product_id and product_id column of the dataframe\n",
    "merged_prod_reorder = pd.merge(products, products_reorder_num,left_on='product_id', right_index=True, how='left')\n",
    "\n",
    "#renamed the reordered column to reordered frequency for clarity\n",
    "merged_prod_reorder.rename(columns={'reordered': 'reordered_frequency'}, inplace=True)\n",
    "\n",
    "#sorted the merged dataframe based on the reordered frequency column in descending order and stored in a new variable\n",
    "final_reorder_prod = merged_prod_reorder.sort_values('reordered_frequency', ascending=False)\n",
    "\n",
    "#printed the first 20 values of this dataframe to get the 20 most popular products\n",
    "display(final_reorder_prod[['product_id', 'product_name', 'reordered_frequency']].head(20))\n"
   ]
  },
  {
   "cell_type": "code",
   "execution_count": 88,
   "id": "possible-change",
   "metadata": {},
   "outputs": [
    {
     "data": {
      "image/png": "[encoded data removed]",
      "text/plain": [
       "<Figure size 640x480 with 1 Axes>"
      ]
     },
     "metadata": {},
     "output_type": "display_data"
    }
   ],
   "source": [
    "#Assigned top 20 reorderd items list to a new variable\n",
    "final_reord_20 = final_reorder_prod[['product_id', 'product_name', 'reordered_frequency']].head(20)\n",
    "#plot with prodict name on x-axis and reorder frequency on y-axis\n",
    "final_reord_20.plot(x='product_name',\n",
    "                        y='reordered_frequency',\n",
    "                        kind='bar',\n",
    "                        title='Frequency of Purchase of Top 20 Re-ordered Products',\n",
    "                        xlabel='Product Name',\n",
    "                        ylabel='Frequency of Purchase',\n",
    "                        color='seagreen')\n",
    "#remove legend\n",
    "plt.legend('', frameon=False)\n",
    "plt.show()"
   ]
  },
  {
   "cell_type": "markdown",
   "id": "80e70c74",
   "metadata": {},
   "source": [
    "Again, in this list we see a repeat of themes from the most popular products list. In fact there is almost complete overlap in the values from the two lists. There is a difference in the last item which was organic tomatoes in the most popular products list while here it is organic half and half. The theme is consistent. The most popular products are fresh organic produce. From previous analysis we see that the customer base buys a few items on rotation and not in bulk, which agrees with the perishable nature of most of the products purchased. Customers likely view Instacart as having a good selection of organic produce but would prefer to buy pantry staples,snacks and cleaning supplies etc. elsewhere."
   ]
  },
  {
   "cell_type": "markdown",
   "id": "9d312b14",
   "metadata": {},
   "source": [
    "### For each product, what proportion of its orders are reorders?"
   ]
  },
  {
   "cell_type": "code",
   "execution_count": 91,
   "id": "8ae9f4b1",
   "metadata": {},
   "outputs": [
    {
     "data": {
      "image/png": "[encoded data removed]",
      "text/plain": [
       "<Figure size 640x480 with 1 Axes>"
      ]
     },
     "metadata": {},
     "output_type": "display_data"
    }
   ],
   "source": [
    "#filtered the dataframe to only consider products that have not been reordered\n",
    "products_no_reorder = order_products[order_products['reordered']==0]\n",
    "\n",
    "#grouped the earlier created reordered dataframe by product name and summed reorder values for each product to get number of reorders per product in the series value\n",
    "products_reorder_ordercount = products_reorder.groupby('product_id')['order_id'].nunique()\n",
    "\n",
    "#grouped the not reordered dataframe by product name and summed reorder values for each product to get number of not reorders per product in the series value\n",
    "products_no_reorder_ordercount = products_no_reorder.groupby('product_id')['order_id'].nunique()\n",
    "\n",
    "#performed operation to get the total orders per product\n",
    "total_ordercount = products_reorder_ordercount + products_no_reorder_ordercount\n",
    "#operation to get proportion of re-orders\n",
    "proportion_reorder = (products_reorder_ordercount/total_ordercount)*100\n",
    "\n",
    "#Histogram to show frequency distribution of various re-order percentages\n",
    "plt.hist(proportion_reorder, bins=30,\n",
    "         color='yellow', edgecolor='black', label=\"proportion reordered\")\n",
    "#Axes labels and title\n",
    "plt.xlabel('Percentage of Reordered Product')\n",
    "plt.ylabel('Frequency')\n",
    "plt.title('Percentage of Reordered Products Frequency Distribution')\n",
    "\n",
    "#display graph\n",
    "plt.show()                                           "
   ]
  },
  {
   "cell_type": "code",
   "execution_count": 92,
   "id": "103e7fe1",
   "metadata": {},
   "outputs": [
    {
     "name": "stdout",
     "output_type": "stream",
     "text": [
      "For 3273 products reorders make up 50.0 Percent of the orders\n"
     ]
    },
    {
     "data": {
      "text/plain": [
       "product_id  product_name                                                     \n",
       "1           chocolate sandwich cookies                                           0.564286\n",
       "2           all-seasons salt                                                     0.000000\n",
       "3           robust golden unsweetened oolong tea                                 0.738095\n",
       "4           smart ones classic favorites mini rigatoni with vodka cream sauce    0.510204\n",
       "7           pure coconut water with orange                                       0.500000\n",
       "                                                                                   ...   \n",
       "49690       high performance energy drink                                        0.800000\n",
       "49691       original pancake & waffle mix                                        0.430556\n",
       "49692       organic instant oatmeal light maple brown sugar                      0.416667\n",
       "49693       spring water body wash                                               0.440000\n",
       "49694       burrito- steak & cheese                                              0.333333\n",
       "Name: reordered, Length: 45573, dtype: float64"
      ]
     },
     "metadata": {},
     "output_type": "display_data"
    }
   ],
   "source": [
    "#create a new series by running value counts on the series of proportion reorder\n",
    "#this will return a series with the index showing the range of number of proportions and the values of the series being how frequently this proportion is observed\n",
    "proportion_arranged = proportion_reorder.value_counts()\n",
    "\n",
    "#maximum reorder proportion by frequency\n",
    "max_proportion = proportion_arranged.idxmax()\n",
    "#frequency of reorder of these products\n",
    "max_prop_freq = proportion_arranged.max()\n",
    "print(f\"For {max_prop_freq} products reorders make up {max_proportion} Percent of the orders\")\n",
    "\n",
    "#we merge the order_products on products and group by product name and id and then generate the mean for each reorder value which should give a percentage of reordered product\n",
    "display(order_products.merge(products).groupby(['product_id', 'product_name'])['reordered'].mean())"
   ]
  },
  {
   "cell_type": "markdown",
   "id": "8f0d84dc",
   "metadata": {},
   "source": [
    "For close to 3500 products, reorders make up 50% of their orders. There is a close to normalized distribution of reorders for every product with the percentage of re-orders dropping pretty evenly on either side of the 50% maximum, except for some evenly spaced outliers on either side of the peak value."
   ]
  },
  {
   "cell_type": "code",
   "execution_count": 94,
   "id": "1bebd99b",
   "metadata": {},
   "outputs": [
    {
     "data": {
      "text/plain": [
       "product_id  product_name                                                     \n",
       "1           chocolate sandwich cookies                                           0.564286\n",
       "2           all-seasons salt                                                     0.000000\n",
       "3           robust golden unsweetened oolong tea                                 0.738095\n",
       "4           smart ones classic favorites mini rigatoni with vodka cream sauce    0.510204\n",
       "7           pure coconut water with orange                                       0.500000\n",
       "                                                                                   ...   \n",
       "49690       high performance energy drink                                        0.800000\n",
       "49691       original pancake & waffle mix                                        0.430556\n",
       "49692       organic instant oatmeal light maple brown sugar                      0.416667\n",
       "49693       spring water body wash                                               0.440000\n",
       "49694       burrito- steak & cheese                                              0.333333\n",
       "Name: reordered, Length: 45573, dtype: float64"
      ]
     },
     "execution_count": 94,
     "metadata": {},
     "output_type": "execute_result"
    }
   ],
   "source": [
    "# Reviewer's code \n",
    "\n",
    "order_products.merge(products).groupby(['product_id', 'product_name'])['reordered'].mean()"
   ]
  },
  {
   "cell_type": "markdown",
   "id": "subject-boxing",
   "metadata": {},
   "source": [
    "### For each customer, what proportion of their products ordered are reorders?"
   ]
  },
  {
   "cell_type": "code",
   "execution_count": 96,
   "id": "medical-couple",
   "metadata": {},
   "outputs": [
    {
     "data": {
      "image/png": "[encoded data removed]",
      "text/plain": [
       "<Figure size 640x480 with 1 Axes>"
      ]
     },
     "metadata": {},
     "output_type": "display_data"
    }
   ],
   "source": [
    "#merged orders and order_products dataframes on the order_id column as basis\n",
    "merged_order_prods = pd.merge(orders,order_products,on='order_id')\n",
    "\n",
    "#filtered the dataframe to only consider products that have been reordered\n",
    "merged_reorders = merged_order_prods[merged_order_prods['reordered']==1]\n",
    "#filtered the dataframe to only consider products that have not been reordered\n",
    "merged_no_reorders = merged_order_prods[merged_order_prods['reordered']==0]\n",
    "\n",
    "#grouped the reordered dataframe by user id and found the number of products reordered grouped by customer\n",
    "customers_reordered = merged_reorders.groupby('user_id')['product_id'].count()\n",
    "#grouped the not reordered dataframe by user id and found the number of products not reordered grouped by customer\n",
    "customers_no_reordered = merged_no_reorders.groupby('user_id')['product_id'].count()\n",
    "#calculated total orders grouped by customer\n",
    "customers_total = customers_reordered + customers_no_reordered\n",
    "#calculated porportion of reordered product \n",
    "proportion_reorder_customers = (customers_reordered/customers_total)*100\n",
    "\n",
    "#plot histogram showing the frequency of the proportions of reordered product\n",
    "plt.hist(proportion_reorder_customers, bins=30,\n",
    "         color='deeppink', edgecolor='grey', label=\"proportion reordered\")\n",
    "#Axes labels and title\n",
    "plt.xlabel('Percentage of Reordered Product')\n",
    "plt.ylabel('Frequency')\n",
    "plt.title('Percentage of Reordered Products per customer Frequency Distribution')\n",
    "\n",
    "#display graph\n",
    "plt.show()   "
   ]
  },
  {
   "cell_type": "code",
   "execution_count": 97,
   "id": "8892e4b4",
   "metadata": {},
   "outputs": [
    {
     "name": "stdout",
     "output_type": "stream",
     "text": [
      "For 6524 customers reorders make up 50.0 Percent of the orders\n"
     ]
    }
   ],
   "source": [
    "#create a new series by running value counts on the series proportion reorder customers\n",
    "#this will return a series with the index showing the range proportions and the values of the series being how frequently this proportion is observed\n",
    "proportion_bycustomer_freq = proportion_reorder_customers.value_counts()\n",
    "\n",
    "#maximum reorder proportion by frequency\n",
    "max_proportion_cust = proportion_bycustomer_freq.idxmax()\n",
    "#frequency of reorder of these products\n",
    "max_prop_freq_cust = proportion_bycustomer_freq.max()\n",
    "print(f\"For {max_prop_freq_cust} customers reorders make up {max_proportion_cust} Percent of the orders\")"
   ]
  },
  {
   "cell_type": "markdown",
   "id": "7de54a76",
   "metadata": {},
   "source": [
    "For 6524 customers, reorders make up 50% of their orders. \n",
    "Again,this frequency distribution is a close to a normalized distribution of proportions of reorders for every product with the percentage of re-orders dropping pretty evenly on either side of the 50% maximum, except for some evenly spaced outliers on either side of the peak value.\n",
    "this distribution is interesting. For the largest group of customers, only 50% of the products that they purchased were reorders, which indicates either (a) clientale willing to experiment with new purchases or\n",
    "(b)those who are unhappy with the quality/other features of the products they buy and end up needing to keep trying alternatives\n",
    "This needs further investigation."
   ]
  },
  {
   "cell_type": "markdown",
   "id": "92d35137",
   "metadata": {},
   "source": [
    "### What are the top 20 items that people put in their carts first? "
   ]
  },
  {
   "cell_type": "code",
   "execution_count": 100,
   "id": "forty-netherlands",
   "metadata": {},
   "outputs": [
    {
     "data": {
      "text/html": [
       "<div>\n",
       "<style scoped>\n",
       "    .dataframe tbody tr th:only-of-type {\n",
       "        vertical-align: middle;\n",
       "    }\n",
       "\n",
       "    .dataframe tbody tr th {\n",
       "        vertical-align: top;\n",
       "    }\n",
       "\n",
       "    .dataframe thead th {\n",
       "        text-align: right;\n",
       "    }\n",
       "</style>\n",
       "<table border=\"1\" class=\"dataframe\">\n",
       "  <thead>\n",
       "    <tr style=\"text-align: right;\">\n",
       "      <th></th>\n",
       "      <th>name_of_product</th>\n",
       "      <th>number of orders</th>\n",
       "    </tr>\n",
       "  </thead>\n",
       "  <tbody>\n",
       "    <tr>\n",
       "      <th>24851</th>\n",
       "      <td>banana</td>\n",
       "      <td>15562</td>\n",
       "    </tr>\n",
       "    <tr>\n",
       "      <th>13175</th>\n",
       "      <td>bag of organic bananas</td>\n",
       "      <td>11026</td>\n",
       "    </tr>\n",
       "    <tr>\n",
       "      <th>27844</th>\n",
       "      <td>organic whole milk</td>\n",
       "      <td>4363</td>\n",
       "    </tr>\n",
       "    <tr>\n",
       "      <th>21136</th>\n",
       "      <td>organic strawberries</td>\n",
       "      <td>3946</td>\n",
       "    </tr>\n",
       "    <tr>\n",
       "      <th>47208</th>\n",
       "      <td>organic hass avocado</td>\n",
       "      <td>3390</td>\n",
       "    </tr>\n",
       "    <tr>\n",
       "      <th>21902</th>\n",
       "      <td>organic baby spinach</td>\n",
       "      <td>3336</td>\n",
       "    </tr>\n",
       "    <tr>\n",
       "      <th>47765</th>\n",
       "      <td>organic avocado</td>\n",
       "      <td>3044</td>\n",
       "    </tr>\n",
       "    <tr>\n",
       "      <th>19659</th>\n",
       "      <td>spring water</td>\n",
       "      <td>2336</td>\n",
       "    </tr>\n",
       "    <tr>\n",
       "      <th>16796</th>\n",
       "      <td>strawberries</td>\n",
       "      <td>2308</td>\n",
       "    </tr>\n",
       "    <tr>\n",
       "      <th>27965</th>\n",
       "      <td>organic raspberries</td>\n",
       "      <td>2024</td>\n",
       "    </tr>\n",
       "    <tr>\n",
       "      <th>44631</th>\n",
       "      <td>sparkling water grapefruit</td>\n",
       "      <td>1914</td>\n",
       "    </tr>\n",
       "    <tr>\n",
       "      <th>49234</th>\n",
       "      <td>organic half &amp; half</td>\n",
       "      <td>1797</td>\n",
       "    </tr>\n",
       "    <tr>\n",
       "      <th>47625</th>\n",
       "      <td>large lemon</td>\n",
       "      <td>1737</td>\n",
       "    </tr>\n",
       "    <tr>\n",
       "      <th>195</th>\n",
       "      <td>soda</td>\n",
       "      <td>1733</td>\n",
       "    </tr>\n",
       "    <tr>\n",
       "      <th>38688</th>\n",
       "      <td>organic reduced fat milk</td>\n",
       "      <td>1397</td>\n",
       "    </tr>\n",
       "    <tr>\n",
       "      <th>26208</th>\n",
       "      <td>limes</td>\n",
       "      <td>1370</td>\n",
       "    </tr>\n",
       "    <tr>\n",
       "      <th>12340</th>\n",
       "      <td>hass avocados</td>\n",
       "      <td>1340</td>\n",
       "    </tr>\n",
       "    <tr>\n",
       "      <th>5784</th>\n",
       "      <td>organic reduced fat 2% milk</td>\n",
       "      <td>1310</td>\n",
       "    </tr>\n",
       "    <tr>\n",
       "      <th>27085</th>\n",
       "      <td>half &amp; half</td>\n",
       "      <td>1309</td>\n",
       "    </tr>\n",
       "    <tr>\n",
       "      <th>43351</th>\n",
       "      <td>raspberries</td>\n",
       "      <td>1246</td>\n",
       "    </tr>\n",
       "  </tbody>\n",
       "</table>\n",
       "</div>"
      ],
      "text/plain": [
       "                   name_of_product  number of orders\n",
       "24851                       banana             15562\n",
       "13175       bag of organic bananas             11026\n",
       "27844           organic whole milk              4363\n",
       "21136         organic strawberries              3946\n",
       "47208         organic hass avocado              3390\n",
       "21902         organic baby spinach              3336\n",
       "47765              organic avocado              3044\n",
       "19659                 spring water              2336\n",
       "16796                 strawberries              2308\n",
       "27965          organic raspberries              2024\n",
       "44631   sparkling water grapefruit              1914\n",
       "49234          organic half & half              1797\n",
       "47625                  large lemon              1737\n",
       "195                           soda              1733\n",
       "38688     organic reduced fat milk              1397\n",
       "26208                        limes              1370\n",
       "12340                hass avocados              1340\n",
       "5784   organic reduced fat 2% milk              1310\n",
       "27085                  half & half              1309\n",
       "43351                  raspberries              1246"
      ]
     },
     "metadata": {},
     "output_type": "display_data"
    },
    {
     "data": {
      "image/png": "[encoded data removed]",
      "text/plain": [
       "<Figure size 640x480 with 1 Axes>"
      ]
     },
     "metadata": {},
     "output_type": "display_data"
    }
   ],
   "source": [
    "# Merge the products data with the favorites (order_products and merged_prod)\n",
    "merged_prod_add = pd.merge(merged_prod, order_products, on='product_id')\n",
    "\n",
    "# Group by 'product_id' and calculate the mean 'add_to_cart_order'\n",
    "favorites_grouped = merged_prod_add.groupby('product_id')['add_to_cart_order'].mean()\n",
    "\n",
    "# Merge the grouped favorites data with the product details\n",
    "fave_merged = pd.merge(merged_prod_add, favorites_grouped, left_on='product_id', right_index=True, how='left')\n",
    "\n",
    "# Rename the column to 'add_to_cart_order_average'\n",
    "fave_merged.rename(columns={'add_to_cart_order_x': 'add_to_cart_order_average'}, inplace=True)\n",
    "\n",
    "# Filter for products added first (i.e., add_to_cart_order == 1)\n",
    "faves_first_added = fave_merged[fave_merged['add_to_cart_order_average'] == 1]\n",
    "\n",
    "# Group by 'product_id' and count how many times each product was added to the cart first\n",
    "top_products_first_added = faves_first_added.groupby('product_id')['product_name'].count()\n",
    "\n",
    "# Sort the products by count in descending order (most frequently added first)\n",
    "top_products_first_added_sorted = top_products_first_added.sort_values(ascending=False)\n",
    "\n",
    "# Get the top 20 most frequently added products\n",
    "top_20_first_added = top_products_first_added_sorted.head(20)\n",
    "\n",
    "# Merge the top 20 with products data to get the product names\n",
    "top_20_first_added_names = pd.merge(top_20_first_added, products[['product_id', 'product_name']], left_index=True, right_on='product_id', how='left')\n",
    "\n",
    "# Rename the column to 'add_to_cart_order_average'\n",
    "top_20_first_added_names.rename(columns={'product_name_y': 'name_of_product'}, inplace=True)\n",
    "top_20_first_added_names.rename(columns={'product_name_x': 'number of orders'}, inplace=True)\n",
    "\n",
    "\n",
    "#Assigned top 20 reorderd items list to a new variable\n",
    "final_top_20 = top_20_first_added_names[['name_of_product', 'number of orders']]\n",
    "\n",
    "# Display the results\n",
    "display(final_top_20)\n",
    "\n",
    "#plot with prodict name on x-axis and reorder frequency on y-axis\n",
    "final_top_20.plot(x='name_of_product',\n",
    "                  y='number of orders',\n",
    "                  kind='bar',\n",
    "                  title='Frequency of Purchase of Top 20 Products to be assed first to the cart',\n",
    "                  xlabel='Product Name',\n",
    "                  ylabel='Number of Orders',\n",
    "                  color='deepskyblue')\n",
    "#remove legend\n",
    "plt.legend('', frameon=False)\n",
    "plt.show()"
   ]
  },
  {
   "cell_type": "markdown",
   "id": "28ce9872",
   "metadata": {},
   "source": [
    "Similiar to the most popular orders and the most frequently reordered products, the most popular items to be added first to the cart have a perfect overlap with the most frequently re-ordered and shows a similiar trend of being populated with fresh organic produce and organic products. \n",
    "Considering that these are also the most frequently re-ordered these are likely to be parts of regular purchases by customers, products that they instinctively add to the cart without much thought and items they are less likely to experiment with.\n",
    "\n",
    "## Summary of Findings ##\n",
    "Taking the entire analysis into account, the customer base seems to be frequent shoppers who do regular grocery runs every weekend and seem to prefer shopping during the day.\n",
    "We do see a big group of customers that shop on a monthly basis and it would be interesting to see whether the kind of purchases they make differ from the other groups.\n",
    "\n",
    "There is a surge of customers on Wednesday early in the morning that is higher than the same time on Saturday which is a peak shopping day. It would be interesting to understand the behavior of this group, what are the key motivations to shop at this time.\n",
    "\n",
    "Customers seem to shop mostly for fresh organic produce and dairy and not purchase as many pantry staples, snacks, cleaning supplies or other product categories. It may be worthwhile to see whether this is because of brand recognition in the organic space or negative perception in other areas (e.g. price considerations may be important for pantry items or other bulk purchase compatible items).\n",
    "\n",
    "Of the items that customers ordered, they re-ordered, in most cases, around 50% of them. It might be worthwhile to investigate if this is because the customer base likes to experiment or is the motivation not to re-order the low quality/satisfaction with the previously ordered product.\n",
    "\n",
    "Again, on average around 50% of a products total sales on average can be accounted to re-orders. Considering that majority of the customers shop at a cadence of roughly bi-weekly rates to twice weekly, we could expect higher re-order rates for staples.\n",
    "Further comparison with other data sets, including price, customer satisfaction surveys etc, could provide more insight."
   ]
  },
  {
   "cell_type": "markdown",
   "id": "ee094592",
   "metadata": {},
   "source": [
    "## Conclusion\n",
    "We have analyzed the consumer behavior of customers on Instacart.\n",
    "We have processed the data for duplicates and missing values. We have changed data types and made other modifications to improve the analysis.\n",
    "We analyzed the dataset to understand peak shopping times both in terms of the day of the week or the hours of the day.\n",
    "As expected shopping peaks during the weekend and not a lot of shopping happens late in the night.\n",
    "We analyzed the nature of products purchased, how often they were re-ordered, their popularity, how often they were the first purchase made etc. \n",
    "We also looked at the frequency of customer purchases.\n",
    "The consumer base showed a marked preference for fresh organic produce when shopping at instacart and these were regularly the first items added to the cart and reordered. Most customers purchase 5-8 items and place around ten orders.\n",
    "They mostly buy items weekly though there is a large group that places orders once a month."
   ]
  }
 ],
 "metadata": {
  "ExecuteTimeLog": [
   {
    "duration": 157,
    "start_time": "2025-02-08T18:11:32.294Z"
   },
   {
    "duration": 12,
    "start_time": "2025-02-08T18:12:12.854Z"
   },
   {
    "duration": 291,
    "start_time": "2025-02-08T18:12:20.624Z"
   },
   {
    "duration": 152,
    "start_time": "2025-02-08T18:12:24.137Z"
   },
   {
    "duration": 57,
    "start_time": "2025-02-08T18:12:27.933Z"
   },
   {
    "duration": 7,
    "start_time": "2025-02-08T18:12:31.365Z"
   },
   {
    "duration": 8,
    "start_time": "2025-02-08T18:12:39.500Z"
   },
   {
    "duration": 798,
    "start_time": "2025-02-08T18:12:47.223Z"
   },
   {
    "duration": 26,
    "start_time": "2025-02-08T18:12:50.548Z"
   },
   {
    "duration": 43,
    "start_time": "2025-02-08T18:15:17.411Z"
   },
   {
    "duration": 53,
    "start_time": "2025-02-08T18:54:09.714Z"
   },
   {
    "duration": 318,
    "start_time": "2025-02-08T19:19:10.223Z"
   },
   {
    "duration": 124,
    "start_time": "2025-02-08T19:19:10.545Z"
   },
   {
    "duration": 37,
    "start_time": "2025-02-08T19:19:10.671Z"
   },
   {
    "duration": 5,
    "start_time": "2025-02-08T19:19:10.711Z"
   },
   {
    "duration": 4,
    "start_time": "2025-02-08T19:19:10.718Z"
   },
   {
    "duration": 761,
    "start_time": "2025-02-08T19:19:10.725Z"
   },
   {
    "duration": 198,
    "start_time": "2025-02-08T19:19:11.488Z"
   },
   {
    "duration": 0,
    "start_time": "2025-02-08T19:19:11.688Z"
   },
   {
    "duration": 0,
    "start_time": "2025-02-08T19:19:11.689Z"
   },
   {
    "duration": 0,
    "start_time": "2025-02-08T19:19:11.691Z"
   },
   {
    "duration": 0,
    "start_time": "2025-02-08T19:19:11.693Z"
   },
   {
    "duration": 0,
    "start_time": "2025-02-08T19:19:11.694Z"
   },
   {
    "duration": 1,
    "start_time": "2025-02-08T19:19:11.695Z"
   },
   {
    "duration": 0,
    "start_time": "2025-02-08T19:19:11.697Z"
   },
   {
    "duration": 0,
    "start_time": "2025-02-08T19:19:11.698Z"
   },
   {
    "duration": 0,
    "start_time": "2025-02-08T19:19:11.699Z"
   },
   {
    "duration": 0,
    "start_time": "2025-02-08T19:19:11.700Z"
   },
   {
    "duration": 0,
    "start_time": "2025-02-08T19:19:11.702Z"
   },
   {
    "duration": 0,
    "start_time": "2025-02-08T19:19:11.703Z"
   },
   {
    "duration": 0,
    "start_time": "2025-02-08T19:19:11.704Z"
   },
   {
    "duration": 0,
    "start_time": "2025-02-08T19:19:11.706Z"
   },
   {
    "duration": 0,
    "start_time": "2025-02-08T19:19:11.707Z"
   },
   {
    "duration": 0,
    "start_time": "2025-02-08T19:19:11.708Z"
   },
   {
    "duration": 0,
    "start_time": "2025-02-08T19:19:11.710Z"
   },
   {
    "duration": 0,
    "start_time": "2025-02-08T19:19:11.711Z"
   },
   {
    "duration": 0,
    "start_time": "2025-02-08T19:19:11.712Z"
   },
   {
    "duration": 0,
    "start_time": "2025-02-08T19:19:11.714Z"
   },
   {
    "duration": 331,
    "start_time": "2025-02-08T19:19:37.899Z"
   },
   {
    "duration": 129,
    "start_time": "2025-02-08T19:19:38.232Z"
   },
   {
    "duration": 48,
    "start_time": "2025-02-08T19:19:38.363Z"
   },
   {
    "duration": 5,
    "start_time": "2025-02-08T19:19:38.414Z"
   },
   {
    "duration": 5,
    "start_time": "2025-02-08T19:19:38.421Z"
   },
   {
    "duration": 753,
    "start_time": "2025-02-08T19:19:38.428Z"
   },
   {
    "duration": 57,
    "start_time": "2025-02-08T19:19:39.183Z"
   },
   {
    "duration": 11,
    "start_time": "2025-02-08T19:19:39.243Z"
   },
   {
    "duration": 14,
    "start_time": "2025-02-08T19:19:39.256Z"
   },
   {
    "duration": 2,
    "start_time": "2025-02-08T19:19:39.274Z"
   },
   {
    "duration": 2,
    "start_time": "2025-02-08T19:19:39.278Z"
   },
   {
    "duration": 3,
    "start_time": "2025-02-08T19:19:39.282Z"
   },
   {
    "duration": 2,
    "start_time": "2025-02-08T19:19:39.287Z"
   },
   {
    "duration": 2,
    "start_time": "2025-02-08T19:19:39.291Z"
   },
   {
    "duration": 3,
    "start_time": "2025-02-08T19:19:39.295Z"
   },
   {
    "duration": 3,
    "start_time": "2025-02-08T19:19:39.299Z"
   },
   {
    "duration": 2,
    "start_time": "2025-02-08T19:19:39.304Z"
   },
   {
    "duration": 3,
    "start_time": "2025-02-08T19:19:39.308Z"
   },
   {
    "duration": 2,
    "start_time": "2025-02-08T19:19:39.312Z"
   },
   {
    "duration": 3,
    "start_time": "2025-02-08T19:19:39.316Z"
   },
   {
    "duration": 3,
    "start_time": "2025-02-08T19:19:39.320Z"
   },
   {
    "duration": 48,
    "start_time": "2025-02-08T19:19:39.324Z"
   },
   {
    "duration": 4,
    "start_time": "2025-02-08T19:19:39.373Z"
   },
   {
    "duration": 3,
    "start_time": "2025-02-08T19:19:39.378Z"
   },
   {
    "duration": 2,
    "start_time": "2025-02-08T19:19:39.383Z"
   },
   {
    "duration": 3,
    "start_time": "2025-02-08T19:19:39.387Z"
   },
   {
    "duration": 4,
    "start_time": "2025-02-08T19:19:39.391Z"
   },
   {
    "duration": 136,
    "start_time": "2025-02-08T19:20:08.289Z"
   },
   {
    "duration": 89,
    "start_time": "2025-02-08T19:21:08.324Z"
   },
   {
    "duration": 95,
    "start_time": "2025-02-08T19:22:15.315Z"
   },
   {
    "duration": 4,
    "start_time": "2025-02-08T19:35:12.599Z"
   },
   {
    "duration": 4,
    "start_time": "2025-02-08T19:36:48.133Z"
   },
   {
    "duration": 214,
    "start_time": "2025-02-08T19:37:11.846Z"
   },
   {
    "duration": 7,
    "start_time": "2025-02-08T19:38:44.830Z"
   },
   {
    "duration": 222,
    "start_time": "2025-02-08T19:39:38.118Z"
   },
   {
    "duration": 112,
    "start_time": "2025-02-08T19:40:01.409Z"
   },
   {
    "duration": 102,
    "start_time": "2025-02-08T19:40:10.039Z"
   },
   {
    "duration": 91,
    "start_time": "2025-02-08T21:16:35.572Z"
   },
   {
    "duration": 87,
    "start_time": "2025-02-08T21:16:39.504Z"
   },
   {
    "duration": 28,
    "start_time": "2025-02-08T21:17:31.628Z"
   },
   {
    "duration": 27,
    "start_time": "2025-02-08T21:17:40.997Z"
   },
   {
    "duration": 13,
    "start_time": "2025-02-08T21:28:59.302Z"
   },
   {
    "duration": 5,
    "start_time": "2025-02-08T21:29:53.925Z"
   },
   {
    "duration": 14,
    "start_time": "2025-02-08T21:31:29.210Z"
   },
   {
    "duration": 17,
    "start_time": "2025-02-08T21:32:35.243Z"
   },
   {
    "duration": 24,
    "start_time": "2025-02-08T21:32:55.991Z"
   },
   {
    "duration": 20,
    "start_time": "2025-02-08T21:34:05.685Z"
   },
   {
    "duration": 8,
    "start_time": "2025-02-08T21:35:36.827Z"
   },
   {
    "duration": 5,
    "start_time": "2025-02-08T21:37:24.393Z"
   },
   {
    "duration": 5,
    "start_time": "2025-02-08T21:37:35.202Z"
   },
   {
    "duration": 14,
    "start_time": "2025-02-08T21:37:52.112Z"
   },
   {
    "duration": 14,
    "start_time": "2025-02-08T21:38:12.076Z"
   },
   {
    "duration": 18,
    "start_time": "2025-02-08T21:39:41.339Z"
   },
   {
    "duration": 21,
    "start_time": "2025-02-08T21:39:49.931Z"
   },
   {
    "duration": 66,
    "start_time": "2025-02-08T21:40:34.646Z"
   },
   {
    "duration": 31,
    "start_time": "2025-02-08T21:41:18.807Z"
   },
   {
    "duration": 349,
    "start_time": "2025-02-08T21:43:46.664Z"
   },
   {
    "duration": 35,
    "start_time": "2025-02-08T21:46:21.626Z"
   },
   {
    "duration": 33,
    "start_time": "2025-02-08T21:57:08.626Z"
   },
   {
    "duration": 41,
    "start_time": "2025-02-08T21:57:43.111Z"
   },
   {
    "duration": 41,
    "start_time": "2025-02-08T21:58:00.964Z"
   },
   {
    "duration": 42,
    "start_time": "2025-02-08T21:58:06.692Z"
   },
   {
    "duration": 51,
    "start_time": "2025-02-08T21:58:42.850Z"
   },
   {
    "duration": 36,
    "start_time": "2025-02-08T21:59:11.686Z"
   },
   {
    "duration": 36,
    "start_time": "2025-02-08T21:59:50.336Z"
   },
   {
    "duration": 265,
    "start_time": "2025-02-08T22:05:40.950Z"
   },
   {
    "duration": 157,
    "start_time": "2025-02-09T16:31:40.460Z"
   },
   {
    "duration": 293,
    "start_time": "2025-02-09T16:32:23.226Z"
   },
   {
    "duration": 153,
    "start_time": "2025-02-09T16:32:23.521Z"
   },
   {
    "duration": 58,
    "start_time": "2025-02-09T16:32:23.676Z"
   },
   {
    "duration": 7,
    "start_time": "2025-02-09T16:32:23.736Z"
   },
   {
    "duration": 6,
    "start_time": "2025-02-09T16:32:23.745Z"
   },
   {
    "duration": 794,
    "start_time": "2025-02-09T16:32:23.752Z"
   },
   {
    "duration": 57,
    "start_time": "2025-02-09T16:32:24.547Z"
   },
   {
    "duration": 96,
    "start_time": "2025-02-09T16:32:24.606Z"
   },
   {
    "duration": 6,
    "start_time": "2025-02-09T16:32:24.704Z"
   },
   {
    "duration": 102,
    "start_time": "2025-02-09T16:32:24.711Z"
   },
   {
    "duration": 90,
    "start_time": "2025-02-09T16:32:24.814Z"
   },
   {
    "duration": 28,
    "start_time": "2025-02-09T16:32:24.906Z"
   },
   {
    "duration": 13,
    "start_time": "2025-02-09T16:32:24.935Z"
   },
   {
    "duration": 4,
    "start_time": "2025-02-09T16:32:24.969Z"
   },
   {
    "duration": 18,
    "start_time": "2025-02-09T16:32:24.974Z"
   },
   {
    "duration": 197,
    "start_time": "2025-02-09T16:32:24.994Z"
   },
   {
    "duration": 0,
    "start_time": "2025-02-09T16:32:25.193Z"
   },
   {
    "duration": 0,
    "start_time": "2025-02-09T16:32:25.195Z"
   },
   {
    "duration": 0,
    "start_time": "2025-02-09T16:32:25.196Z"
   },
   {
    "duration": 0,
    "start_time": "2025-02-09T16:32:25.198Z"
   },
   {
    "duration": 0,
    "start_time": "2025-02-09T16:32:25.199Z"
   },
   {
    "duration": 0,
    "start_time": "2025-02-09T16:32:25.201Z"
   },
   {
    "duration": 0,
    "start_time": "2025-02-09T16:32:25.202Z"
   },
   {
    "duration": 0,
    "start_time": "2025-02-09T16:32:25.204Z"
   },
   {
    "duration": 0,
    "start_time": "2025-02-09T16:32:25.205Z"
   },
   {
    "duration": 0,
    "start_time": "2025-02-09T16:32:25.206Z"
   },
   {
    "duration": 0,
    "start_time": "2025-02-09T16:32:25.208Z"
   },
   {
    "duration": 335,
    "start_time": "2025-02-09T16:32:41.511Z"
   },
   {
    "duration": 21,
    "start_time": "2025-02-09T16:40:57.498Z"
   },
   {
    "duration": 12,
    "start_time": "2025-02-09T16:41:29.821Z"
   },
   {
    "duration": 19,
    "start_time": "2025-02-09T16:42:39.480Z"
   },
   {
    "duration": 9,
    "start_time": "2025-02-09T16:43:13.905Z"
   },
   {
    "duration": 10,
    "start_time": "2025-02-09T16:43:47.295Z"
   },
   {
    "duration": 11,
    "start_time": "2025-02-09T16:47:13.602Z"
   },
   {
    "duration": 12,
    "start_time": "2025-02-09T16:51:53.367Z"
   },
   {
    "duration": 11,
    "start_time": "2025-02-09T16:52:32.847Z"
   },
   {
    "duration": 12,
    "start_time": "2025-02-09T17:06:30.374Z"
   },
   {
    "duration": 13,
    "start_time": "2025-02-09T17:17:55.021Z"
   },
   {
    "duration": 17,
    "start_time": "2025-02-09T17:20:25.017Z"
   },
   {
    "duration": 15,
    "start_time": "2025-02-09T17:23:01.202Z"
   },
   {
    "duration": 25,
    "start_time": "2025-02-09T17:30:28.540Z"
   },
   {
    "duration": 122,
    "start_time": "2025-02-09T17:32:48.892Z"
   },
   {
    "duration": 36,
    "start_time": "2025-02-09T17:34:09.866Z"
   },
   {
    "duration": 33,
    "start_time": "2025-02-09T17:35:52.046Z"
   },
   {
    "duration": 52,
    "start_time": "2025-02-09T17:37:14.581Z"
   },
   {
    "duration": 54,
    "start_time": "2025-02-09T17:38:09.272Z"
   },
   {
    "duration": 314,
    "start_time": "2025-02-09T17:43:01.597Z"
   },
   {
    "duration": 131,
    "start_time": "2025-02-09T17:43:01.913Z"
   },
   {
    "duration": 48,
    "start_time": "2025-02-09T17:43:02.046Z"
   },
   {
    "duration": 7,
    "start_time": "2025-02-09T17:43:02.095Z"
   },
   {
    "duration": 5,
    "start_time": "2025-02-09T17:43:02.105Z"
   },
   {
    "duration": 706,
    "start_time": "2025-02-09T17:43:02.111Z"
   },
   {
    "duration": 56,
    "start_time": "2025-02-09T17:43:02.819Z"
   },
   {
    "duration": 96,
    "start_time": "2025-02-09T17:43:02.877Z"
   },
   {
    "duration": 7,
    "start_time": "2025-02-09T17:43:02.975Z"
   },
   {
    "duration": 101,
    "start_time": "2025-02-09T17:43:02.985Z"
   },
   {
    "duration": 89,
    "start_time": "2025-02-09T17:43:03.088Z"
   },
   {
    "duration": 29,
    "start_time": "2025-02-09T17:43:03.178Z"
   },
   {
    "duration": 13,
    "start_time": "2025-02-09T17:43:03.209Z"
   },
   {
    "duration": 3,
    "start_time": "2025-02-09T17:43:03.225Z"
   },
   {
    "duration": 43,
    "start_time": "2025-02-09T17:43:03.230Z"
   },
   {
    "duration": 0,
    "start_time": "2025-02-09T17:51:36.678Z"
   },
   {
    "duration": 0,
    "start_time": "2025-02-09T17:51:36.679Z"
   },
   {
    "duration": 7,
    "start_time": "2025-02-09T17:51:41.256Z"
   },
   {
    "duration": 13,
    "start_time": "2025-02-09T17:51:58.607Z"
   },
   {
    "duration": 44,
    "start_time": "2025-02-09T17:52:04.183Z"
   },
   {
    "duration": 42,
    "start_time": "2025-02-09T17:57:15.934Z"
   },
   {
    "duration": 46,
    "start_time": "2025-02-09T17:57:35.781Z"
   },
   {
    "duration": 44,
    "start_time": "2025-02-09T17:57:48.245Z"
   },
   {
    "duration": 42,
    "start_time": "2025-02-09T17:58:18.763Z"
   },
   {
    "duration": 8,
    "start_time": "2025-02-09T18:03:28.842Z"
   },
   {
    "duration": 7,
    "start_time": "2025-02-09T18:04:11.830Z"
   },
   {
    "duration": 7,
    "start_time": "2025-02-09T18:04:36.822Z"
   },
   {
    "duration": 7,
    "start_time": "2025-02-09T18:05:12.767Z"
   },
   {
    "duration": 14,
    "start_time": "2025-02-09T18:13:13.381Z"
   },
   {
    "duration": 5,
    "start_time": "2025-02-09T21:16:37.677Z"
   },
   {
    "duration": 5,
    "start_time": "2025-02-09T21:18:12.955Z"
   },
   {
    "duration": 341,
    "start_time": "2025-02-09T21:20:49.084Z"
   },
   {
    "duration": 4,
    "start_time": "2025-02-09T21:21:19.351Z"
   },
   {
    "duration": 6,
    "start_time": "2025-02-09T21:21:42.800Z"
   },
   {
    "duration": 5,
    "start_time": "2025-02-09T21:21:52.347Z"
   },
   {
    "duration": 6,
    "start_time": "2025-02-09T21:23:08.437Z"
   },
   {
    "duration": 5,
    "start_time": "2025-02-09T21:25:53.842Z"
   },
   {
    "duration": 7,
    "start_time": "2025-02-09T21:27:52.227Z"
   },
   {
    "duration": 5,
    "start_time": "2025-02-09T21:28:16.055Z"
   },
   {
    "duration": 4,
    "start_time": "2025-02-09T21:28:33.999Z"
   },
   {
    "duration": 4,
    "start_time": "2025-02-09T21:28:50.450Z"
   },
   {
    "duration": 5,
    "start_time": "2025-02-09T21:28:59.661Z"
   },
   {
    "duration": 14,
    "start_time": "2025-02-09T21:29:28.399Z"
   },
   {
    "duration": 7,
    "start_time": "2025-02-09T21:29:37.647Z"
   },
   {
    "duration": 17,
    "start_time": "2025-02-09T21:33:46.227Z"
   },
   {
    "duration": 7,
    "start_time": "2025-02-09T21:34:15.316Z"
   },
   {
    "duration": 6,
    "start_time": "2025-02-09T21:34:43.027Z"
   },
   {
    "duration": 5,
    "start_time": "2025-02-09T21:35:59.290Z"
   },
   {
    "duration": 7,
    "start_time": "2025-02-09T21:36:16.539Z"
   },
   {
    "duration": 44,
    "start_time": "2025-02-09T21:41:18.792Z"
   },
   {
    "duration": 6,
    "start_time": "2025-02-09T21:41:44.146Z"
   },
   {
    "duration": 8,
    "start_time": "2025-02-09T21:42:11.609Z"
   },
   {
    "duration": 7,
    "start_time": "2025-02-09T21:42:44.536Z"
   },
   {
    "duration": 7,
    "start_time": "2025-02-09T21:43:00.376Z"
   },
   {
    "duration": 775,
    "start_time": "2025-02-09T22:04:23.300Z"
   },
   {
    "duration": 116,
    "start_time": "2025-02-09T22:05:27.201Z"
   },
   {
    "duration": 88,
    "start_time": "2025-02-09T22:05:36.636Z"
   },
   {
    "duration": 4,
    "start_time": "2025-02-09T22:11:43.777Z"
   },
   {
    "duration": 90,
    "start_time": "2025-02-09T22:17:51.303Z"
   },
   {
    "duration": 48,
    "start_time": "2025-02-09T22:18:20.990Z"
   },
   {
    "duration": 152,
    "start_time": "2025-02-09T22:22:22.373Z"
   },
   {
    "duration": 224,
    "start_time": "2025-02-09T22:22:40.828Z"
   },
   {
    "duration": 219,
    "start_time": "2025-02-09T22:23:18.961Z"
   },
   {
    "duration": 230,
    "start_time": "2025-02-09T22:31:13.764Z"
   },
   {
    "duration": 150,
    "start_time": "2025-02-09T22:33:03.122Z"
   },
   {
    "duration": 827,
    "start_time": "2025-02-09T22:36:19.990Z"
   },
   {
    "duration": 6,
    "start_time": "2025-02-09T22:45:44.799Z"
   },
   {
    "duration": 4,
    "start_time": "2025-02-09T22:54:06.236Z"
   },
   {
    "duration": 4,
    "start_time": "2025-02-09T22:54:16.212Z"
   },
   {
    "duration": 4,
    "start_time": "2025-02-09T22:54:25.342Z"
   },
   {
    "duration": 7,
    "start_time": "2025-02-09T22:54:48.743Z"
   },
   {
    "duration": 7,
    "start_time": "2025-02-09T22:55:02.164Z"
   },
   {
    "duration": 5,
    "start_time": "2025-02-09T22:57:31.017Z"
   },
   {
    "duration": 6,
    "start_time": "2025-02-09T22:58:23.151Z"
   },
   {
    "duration": 5,
    "start_time": "2025-02-09T22:59:11.117Z"
   },
   {
    "duration": 17,
    "start_time": "2025-02-09T22:59:41.139Z"
   },
   {
    "duration": 17,
    "start_time": "2025-02-09T23:02:04.055Z"
   },
   {
    "duration": 70,
    "start_time": "2025-02-09T23:05:19.488Z"
   },
   {
    "duration": 76,
    "start_time": "2025-02-09T23:20:49.278Z"
   },
   {
    "duration": 38,
    "start_time": "2025-02-09T23:25:02.584Z"
   },
   {
    "duration": 354,
    "start_time": "2025-02-09T23:26:02.653Z"
   },
   {
    "duration": 61,
    "start_time": "2025-02-09T23:26:09.169Z"
   },
   {
    "duration": 49,
    "start_time": "2025-02-09T23:27:10.422Z"
   },
   {
    "duration": 5,
    "start_time": "2025-02-09T23:28:15.042Z"
   },
   {
    "duration": 4,
    "start_time": "2025-02-09T23:29:57.482Z"
   },
   {
    "duration": 5,
    "start_time": "2025-02-09T23:31:06.094Z"
   },
   {
    "duration": 319,
    "start_time": "2025-02-09T23:32:07.787Z"
   },
   {
    "duration": 129,
    "start_time": "2025-02-09T23:32:08.108Z"
   },
   {
    "duration": 38,
    "start_time": "2025-02-09T23:32:08.238Z"
   },
   {
    "duration": 6,
    "start_time": "2025-02-09T23:32:08.278Z"
   },
   {
    "duration": 5,
    "start_time": "2025-02-09T23:32:08.285Z"
   },
   {
    "duration": 723,
    "start_time": "2025-02-09T23:32:08.292Z"
   },
   {
    "duration": 60,
    "start_time": "2025-02-09T23:32:09.017Z"
   },
   {
    "duration": 103,
    "start_time": "2025-02-09T23:32:09.079Z"
   },
   {
    "duration": 7,
    "start_time": "2025-02-09T23:32:09.183Z"
   },
   {
    "duration": 102,
    "start_time": "2025-02-09T23:32:09.194Z"
   },
   {
    "duration": 94,
    "start_time": "2025-02-09T23:32:09.298Z"
   },
   {
    "duration": 30,
    "start_time": "2025-02-09T23:32:09.393Z"
   },
   {
    "duration": 12,
    "start_time": "2025-02-09T23:32:09.425Z"
   },
   {
    "duration": 3,
    "start_time": "2025-02-09T23:32:09.439Z"
   },
   {
    "duration": 39,
    "start_time": "2025-02-09T23:32:09.444Z"
   },
   {
    "duration": 14,
    "start_time": "2025-02-09T23:32:09.486Z"
   },
   {
    "duration": 17,
    "start_time": "2025-02-09T23:32:09.502Z"
   },
   {
    "duration": 6,
    "start_time": "2025-02-09T23:32:09.521Z"
   },
   {
    "duration": 6,
    "start_time": "2025-02-09T23:32:09.528Z"
   },
   {
    "duration": 33,
    "start_time": "2025-02-09T23:32:09.538Z"
   },
   {
    "duration": 7,
    "start_time": "2025-02-09T23:32:09.573Z"
   },
   {
    "duration": 749,
    "start_time": "2025-02-09T23:32:09.582Z"
   },
   {
    "duration": 812,
    "start_time": "2025-02-09T23:32:10.333Z"
   },
   {
    "duration": 5,
    "start_time": "2025-02-09T23:32:11.147Z"
   },
   {
    "duration": 76,
    "start_time": "2025-02-09T23:32:11.154Z"
   },
   {
    "duration": 66,
    "start_time": "2025-02-09T23:32:11.232Z"
   },
   {
    "duration": 6,
    "start_time": "2025-02-09T23:32:11.299Z"
   },
   {
    "duration": 2,
    "start_time": "2025-02-09T23:32:11.309Z"
   },
   {
    "duration": 3,
    "start_time": "2025-02-09T23:32:11.313Z"
   },
   {
    "duration": 3,
    "start_time": "2025-02-09T23:32:11.317Z"
   },
   {
    "duration": 3,
    "start_time": "2025-02-09T23:32:11.322Z"
   },
   {
    "duration": 3,
    "start_time": "2025-02-09T23:32:11.327Z"
   },
   {
    "duration": 39,
    "start_time": "2025-02-09T23:32:11.331Z"
   },
   {
    "duration": 8,
    "start_time": "2025-02-09T23:33:06.490Z"
   },
   {
    "duration": 8,
    "start_time": "2025-02-09T23:34:02.809Z"
   },
   {
    "duration": 7,
    "start_time": "2025-02-09T23:34:24.304Z"
   },
   {
    "duration": 8,
    "start_time": "2025-02-09T23:37:29.265Z"
   },
   {
    "duration": 7,
    "start_time": "2025-02-09T23:38:35.724Z"
   },
   {
    "duration": 8,
    "start_time": "2025-02-09T23:39:44.114Z"
   },
   {
    "duration": 6,
    "start_time": "2025-02-09T23:40:37.772Z"
   },
   {
    "duration": 7,
    "start_time": "2025-02-09T23:40:51.913Z"
   },
   {
    "duration": 7,
    "start_time": "2025-02-09T23:43:00.147Z"
   },
   {
    "duration": 6,
    "start_time": "2025-02-09T23:44:18.970Z"
   },
   {
    "duration": 6,
    "start_time": "2025-02-09T23:44:37.388Z"
   },
   {
    "duration": 6,
    "start_time": "2025-02-09T23:50:03.490Z"
   },
   {
    "duration": 296,
    "start_time": "2025-02-09T23:50:27.469Z"
   },
   {
    "duration": 125,
    "start_time": "2025-02-09T23:50:27.769Z"
   },
   {
    "duration": 37,
    "start_time": "2025-02-09T23:50:27.896Z"
   },
   {
    "duration": 5,
    "start_time": "2025-02-09T23:50:27.935Z"
   },
   {
    "duration": 6,
    "start_time": "2025-02-09T23:50:27.943Z"
   },
   {
    "duration": 720,
    "start_time": "2025-02-09T23:50:27.950Z"
   },
   {
    "duration": 52,
    "start_time": "2025-02-09T23:50:28.672Z"
   },
   {
    "duration": 101,
    "start_time": "2025-02-09T23:50:28.727Z"
   },
   {
    "duration": 7,
    "start_time": "2025-02-09T23:50:28.830Z"
   },
   {
    "duration": 123,
    "start_time": "2025-02-09T23:50:28.839Z"
   },
   {
    "duration": 86,
    "start_time": "2025-02-09T23:50:28.964Z"
   },
   {
    "duration": 37,
    "start_time": "2025-02-09T23:50:29.052Z"
   },
   {
    "duration": 12,
    "start_time": "2025-02-09T23:50:29.090Z"
   },
   {
    "duration": 4,
    "start_time": "2025-02-09T23:50:29.106Z"
   },
   {
    "duration": 18,
    "start_time": "2025-02-09T23:50:29.111Z"
   },
   {
    "duration": 43,
    "start_time": "2025-02-09T23:50:29.131Z"
   },
   {
    "duration": 15,
    "start_time": "2025-02-09T23:50:29.175Z"
   },
   {
    "duration": 4,
    "start_time": "2025-02-09T23:50:29.192Z"
   },
   {
    "duration": 6,
    "start_time": "2025-02-09T23:50:29.197Z"
   },
   {
    "duration": 5,
    "start_time": "2025-02-09T23:50:29.205Z"
   },
   {
    "duration": 7,
    "start_time": "2025-02-09T23:50:29.212Z"
   },
   {
    "duration": 796,
    "start_time": "2025-02-09T23:50:29.220Z"
   },
   {
    "duration": 867,
    "start_time": "2025-02-09T23:50:30.018Z"
   },
   {
    "duration": 6,
    "start_time": "2025-02-09T23:50:30.886Z"
   },
   {
    "duration": 65,
    "start_time": "2025-02-09T23:50:30.893Z"
   },
   {
    "duration": 68,
    "start_time": "2025-02-09T23:50:30.970Z"
   },
   {
    "duration": 5,
    "start_time": "2025-02-09T23:50:31.040Z"
   },
   {
    "duration": 21,
    "start_time": "2025-02-09T23:50:31.048Z"
   },
   {
    "duration": 2,
    "start_time": "2025-02-09T23:50:31.071Z"
   },
   {
    "duration": 2,
    "start_time": "2025-02-09T23:50:31.075Z"
   },
   {
    "duration": 3,
    "start_time": "2025-02-09T23:50:31.079Z"
   },
   {
    "duration": 3,
    "start_time": "2025-02-09T23:50:31.083Z"
   },
   {
    "duration": 3,
    "start_time": "2025-02-09T23:50:31.088Z"
   },
   {
    "duration": 6,
    "start_time": "2025-02-09T23:52:45.016Z"
   },
   {
    "duration": 7,
    "start_time": "2025-02-09T23:53:31.839Z"
   },
   {
    "duration": 6,
    "start_time": "2025-02-09T23:54:37.019Z"
   },
   {
    "duration": 7,
    "start_time": "2025-02-09T23:57:09.757Z"
   },
   {
    "duration": 5,
    "start_time": "2025-02-09T23:57:14.316Z"
   },
   {
    "duration": 7,
    "start_time": "2025-02-09T23:58:25.706Z"
   },
   {
    "duration": 6,
    "start_time": "2025-02-09T23:58:28.963Z"
   },
   {
    "duration": 9,
    "start_time": "2025-02-09T23:58:42.371Z"
   },
   {
    "duration": 4,
    "start_time": "2025-02-10T00:08:34.922Z"
   },
   {
    "duration": 4,
    "start_time": "2025-02-10T00:09:09.101Z"
   },
   {
    "duration": 6,
    "start_time": "2025-02-10T00:09:48.338Z"
   },
   {
    "duration": 5,
    "start_time": "2025-02-10T00:10:32.804Z"
   },
   {
    "duration": 6,
    "start_time": "2025-02-10T00:11:00.101Z"
   },
   {
    "duration": 7,
    "start_time": "2025-02-10T00:11:46.273Z"
   },
   {
    "duration": 3,
    "start_time": "2025-02-10T00:12:52.981Z"
   },
   {
    "duration": 8,
    "start_time": "2025-02-10T00:20:55.468Z"
   },
   {
    "duration": 17,
    "start_time": "2025-02-10T00:22:41.691Z"
   },
   {
    "duration": 15,
    "start_time": "2025-02-10T00:23:28.339Z"
   },
   {
    "duration": 13,
    "start_time": "2025-02-10T00:26:46.213Z"
   },
   {
    "duration": 7,
    "start_time": "2025-02-10T00:32:47.629Z"
   },
   {
    "duration": 30,
    "start_time": "2025-02-10T00:33:52.068Z"
   },
   {
    "duration": 7,
    "start_time": "2025-02-10T00:38:04.272Z"
   },
   {
    "duration": 4,
    "start_time": "2025-02-10T00:43:33.787Z"
   },
   {
    "duration": 4,
    "start_time": "2025-02-10T00:45:36.716Z"
   },
   {
    "duration": 4,
    "start_time": "2025-02-10T00:46:54.581Z"
   },
   {
    "duration": 6,
    "start_time": "2025-02-10T00:48:07.903Z"
   },
   {
    "duration": 5,
    "start_time": "2025-02-10T00:49:39.614Z"
   },
   {
    "duration": 549,
    "start_time": "2025-02-10T00:59:42.026Z"
   },
   {
    "duration": 6,
    "start_time": "2025-02-10T01:00:00.503Z"
   },
   {
    "duration": 6,
    "start_time": "2025-02-10T01:00:05.866Z"
   },
   {
    "duration": 8,
    "start_time": "2025-02-10T01:00:27.473Z"
   },
   {
    "duration": 5,
    "start_time": "2025-02-10T01:01:08.669Z"
   },
   {
    "duration": 6,
    "start_time": "2025-02-10T01:04:12.433Z"
   },
   {
    "duration": 7,
    "start_time": "2025-02-10T01:05:13.495Z"
   },
   {
    "duration": 7,
    "start_time": "2025-02-10T01:06:35.063Z"
   },
   {
    "duration": 43,
    "start_time": "2025-02-10T01:10:58.209Z"
   },
   {
    "duration": 162,
    "start_time": "2025-02-10T09:49:52.770Z"
   },
   {
    "duration": 299,
    "start_time": "2025-02-10T09:52:27.125Z"
   },
   {
    "duration": 154,
    "start_time": "2025-02-10T09:52:27.426Z"
   },
   {
    "duration": 62,
    "start_time": "2025-02-10T09:52:27.582Z"
   },
   {
    "duration": 8,
    "start_time": "2025-02-10T09:52:27.646Z"
   },
   {
    "duration": 8,
    "start_time": "2025-02-10T09:52:27.655Z"
   },
   {
    "duration": 805,
    "start_time": "2025-02-10T09:52:27.665Z"
   },
   {
    "duration": 53,
    "start_time": "2025-02-10T09:52:28.472Z"
   },
   {
    "duration": 105,
    "start_time": "2025-02-10T09:52:28.527Z"
   },
   {
    "duration": 7,
    "start_time": "2025-02-10T09:52:28.634Z"
   },
   {
    "duration": 119,
    "start_time": "2025-02-10T09:52:28.644Z"
   },
   {
    "duration": 85,
    "start_time": "2025-02-10T09:52:28.769Z"
   },
   {
    "duration": 36,
    "start_time": "2025-02-10T09:52:28.855Z"
   },
   {
    "duration": 12,
    "start_time": "2025-02-10T09:52:28.893Z"
   },
   {
    "duration": 3,
    "start_time": "2025-02-10T09:52:28.907Z"
   },
   {
    "duration": 18,
    "start_time": "2025-02-10T09:52:28.912Z"
   },
   {
    "duration": 39,
    "start_time": "2025-02-10T09:52:28.931Z"
   },
   {
    "duration": 13,
    "start_time": "2025-02-10T09:52:28.972Z"
   },
   {
    "duration": 5,
    "start_time": "2025-02-10T09:52:28.987Z"
   },
   {
    "duration": 5,
    "start_time": "2025-02-10T09:52:28.993Z"
   },
   {
    "duration": 4,
    "start_time": "2025-02-10T09:52:29.001Z"
   },
   {
    "duration": 6,
    "start_time": "2025-02-10T09:52:29.006Z"
   },
   {
    "duration": 801,
    "start_time": "2025-02-10T09:52:29.013Z"
   },
   {
    "duration": 825,
    "start_time": "2025-02-10T09:52:29.815Z"
   },
   {
    "duration": 6,
    "start_time": "2025-02-10T09:52:30.642Z"
   },
   {
    "duration": 78,
    "start_time": "2025-02-10T09:52:30.649Z"
   },
   {
    "duration": 72,
    "start_time": "2025-02-10T09:52:30.729Z"
   },
   {
    "duration": 7,
    "start_time": "2025-02-10T09:52:30.803Z"
   },
   {
    "duration": 8,
    "start_time": "2025-02-10T09:52:30.813Z"
   },
   {
    "duration": 3,
    "start_time": "2025-02-10T09:52:30.823Z"
   },
   {
    "duration": 12,
    "start_time": "2025-02-10T09:52:30.828Z"
   },
   {
    "duration": 7,
    "start_time": "2025-02-10T09:52:30.869Z"
   },
   {
    "duration": 30,
    "start_time": "2025-02-10T09:52:30.878Z"
   },
   {
    "duration": 7,
    "start_time": "2025-02-10T09:52:30.910Z"
   },
   {
    "duration": 7,
    "start_time": "2025-02-10T09:52:30.919Z"
   },
   {
    "duration": 68,
    "start_time": "2025-02-10T09:52:30.928Z"
   },
   {
    "duration": 10640,
    "start_time": "2025-02-10T09:52:46.069Z"
   },
   {
    "duration": 15479,
    "start_time": "2025-02-10T09:53:26.285Z"
   },
   {
    "duration": 15231,
    "start_time": "2025-02-10T09:55:16.697Z"
   },
   {
    "duration": 7,
    "start_time": "2025-02-10T09:58:48.133Z"
   },
   {
    "duration": 7,
    "start_time": "2025-02-10T09:58:53.066Z"
   },
   {
    "duration": 8,
    "start_time": "2025-02-10T09:59:10.487Z"
   },
   {
    "duration": 8,
    "start_time": "2025-02-10T09:59:32.678Z"
   },
   {
    "duration": 18,
    "start_time": "2025-02-10T09:59:51.527Z"
   },
   {
    "duration": 9,
    "start_time": "2025-02-10T10:00:54.064Z"
   },
   {
    "duration": 323,
    "start_time": "2025-02-10T10:02:37.037Z"
   },
   {
    "duration": 5,
    "start_time": "2025-02-10T10:08:51.806Z"
   },
   {
    "duration": 5,
    "start_time": "2025-02-10T10:13:21.412Z"
   },
   {
    "duration": 15570,
    "start_time": "2025-02-10T10:13:54.077Z"
   },
   {
    "duration": 15456,
    "start_time": "2025-02-10T10:14:21.819Z"
   },
   {
    "duration": 15154,
    "start_time": "2025-02-10T10:14:59.763Z"
   },
   {
    "duration": 9,
    "start_time": "2025-02-10T10:16:31.753Z"
   },
   {
    "duration": 8,
    "start_time": "2025-02-10T10:21:07.233Z"
   },
   {
    "duration": 7,
    "start_time": "2025-02-10T10:28:28.028Z"
   },
   {
    "duration": 7,
    "start_time": "2025-02-10T10:29:35.675Z"
   },
   {
    "duration": 8,
    "start_time": "2025-02-10T10:29:47.774Z"
   },
   {
    "duration": 3,
    "start_time": "2025-02-10T10:34:15.591Z"
   },
   {
    "duration": 9,
    "start_time": "2025-02-10T10:34:58.004Z"
   },
   {
    "duration": 3,
    "start_time": "2025-02-10T10:38:36.307Z"
   },
   {
    "duration": 5,
    "start_time": "2025-02-10T10:39:15.268Z"
   },
   {
    "duration": 5,
    "start_time": "2025-02-10T10:40:47.255Z"
   },
   {
    "duration": 1845,
    "start_time": "2025-02-10T10:52:22.030Z"
   },
   {
    "duration": 9,
    "start_time": "2025-02-10T10:54:32.539Z"
   },
   {
    "duration": 220,
    "start_time": "2025-02-10T10:54:52.743Z"
   },
   {
    "duration": 149,
    "start_time": "2025-02-10T11:01:49.087Z"
   },
   {
    "duration": 149,
    "start_time": "2025-02-10T11:02:01.617Z"
   },
   {
    "duration": 5,
    "start_time": "2025-02-10T11:06:49.138Z"
   },
   {
    "duration": 281,
    "start_time": "2025-02-10T11:47:33.822Z"
   },
   {
    "duration": 226,
    "start_time": "2025-02-10T11:48:10.638Z"
   },
   {
    "duration": 22,
    "start_time": "2025-02-10T11:54:38.751Z"
   },
   {
    "duration": 775,
    "start_time": "2025-02-10T11:56:14.263Z"
   },
   {
    "duration": 16,
    "start_time": "2025-02-10T11:56:38.453Z"
   },
   {
    "duration": 9,
    "start_time": "2025-02-10T11:56:54.844Z"
   },
   {
    "duration": 3,
    "start_time": "2025-02-10T12:00:06.835Z"
   },
   {
    "duration": 3,
    "start_time": "2025-02-10T12:00:27.271Z"
   },
   {
    "duration": 63,
    "start_time": "2025-02-10T12:00:59.806Z"
   },
   {
    "duration": 231,
    "start_time": "2025-02-10T12:01:36.764Z"
   },
   {
    "duration": 27,
    "start_time": "2025-02-10T12:02:08.263Z"
   },
   {
    "duration": 3,
    "start_time": "2025-02-10T12:02:57.285Z"
   },
   {
    "duration": 26,
    "start_time": "2025-02-10T12:03:38.857Z"
   },
   {
    "duration": 3,
    "start_time": "2025-02-10T12:08:06.716Z"
   },
   {
    "duration": 3,
    "start_time": "2025-02-10T12:08:42.884Z"
   },
   {
    "duration": 5,
    "start_time": "2025-02-10T12:10:24.735Z"
   },
   {
    "duration": 3,
    "start_time": "2025-02-10T12:11:01.444Z"
   },
   {
    "duration": 166,
    "start_time": "2025-02-10T15:41:26.672Z"
   },
   {
    "duration": 2129,
    "start_time": "2025-02-10T15:41:45.514Z"
   },
   {
    "duration": 151,
    "start_time": "2025-02-10T15:41:47.646Z"
   },
   {
    "duration": 58,
    "start_time": "2025-02-10T15:41:47.799Z"
   },
   {
    "duration": 8,
    "start_time": "2025-02-10T15:41:47.861Z"
   },
   {
    "duration": 5,
    "start_time": "2025-02-10T15:41:47.873Z"
   },
   {
    "duration": 793,
    "start_time": "2025-02-10T15:41:47.879Z"
   },
   {
    "duration": 55,
    "start_time": "2025-02-10T15:41:48.674Z"
   },
   {
    "duration": 95,
    "start_time": "2025-02-10T15:41:48.731Z"
   },
   {
    "duration": 6,
    "start_time": "2025-02-10T15:41:48.828Z"
   },
   {
    "duration": 110,
    "start_time": "2025-02-10T15:41:48.835Z"
   },
   {
    "duration": 100,
    "start_time": "2025-02-10T15:41:48.947Z"
   },
   {
    "duration": 42,
    "start_time": "2025-02-10T15:41:49.049Z"
   },
   {
    "duration": 13,
    "start_time": "2025-02-10T15:41:49.093Z"
   },
   {
    "duration": 4,
    "start_time": "2025-02-10T15:41:49.111Z"
   },
   {
    "duration": 17,
    "start_time": "2025-02-10T15:41:49.117Z"
   },
   {
    "duration": 12,
    "start_time": "2025-02-10T15:41:49.136Z"
   },
   {
    "duration": 42,
    "start_time": "2025-02-10T15:41:49.151Z"
   },
   {
    "duration": 4,
    "start_time": "2025-02-10T15:41:49.195Z"
   },
   {
    "duration": 5,
    "start_time": "2025-02-10T15:41:49.201Z"
   },
   {
    "duration": 6,
    "start_time": "2025-02-10T15:41:49.208Z"
   },
   {
    "duration": 6,
    "start_time": "2025-02-10T15:41:49.215Z"
   },
   {
    "duration": 838,
    "start_time": "2025-02-10T15:41:49.222Z"
   },
   {
    "duration": 894,
    "start_time": "2025-02-10T15:41:50.062Z"
   },
   {
    "duration": 5,
    "start_time": "2025-02-10T15:41:50.959Z"
   },
   {
    "duration": 81,
    "start_time": "2025-02-10T15:41:50.965Z"
   },
   {
    "duration": 76,
    "start_time": "2025-02-10T15:41:51.048Z"
   },
   {
    "duration": 6,
    "start_time": "2025-02-10T15:41:51.126Z"
   },
   {
    "duration": 8,
    "start_time": "2025-02-10T15:41:51.134Z"
   },
   {
    "duration": 3,
    "start_time": "2025-02-10T15:41:51.144Z"
   },
   {
    "duration": 13,
    "start_time": "2025-02-10T15:41:51.148Z"
   },
   {
    "duration": 8,
    "start_time": "2025-02-10T15:41:51.187Z"
   },
   {
    "duration": 32,
    "start_time": "2025-02-10T15:41:51.197Z"
   },
   {
    "duration": 9,
    "start_time": "2025-02-10T15:41:51.231Z"
   },
   {
    "duration": 8,
    "start_time": "2025-02-10T15:41:51.242Z"
   },
   {
    "duration": 70,
    "start_time": "2025-02-10T15:41:51.251Z"
   },
   {
    "duration": 16187,
    "start_time": "2025-02-10T15:41:51.323Z"
   },
   {
    "duration": 16197,
    "start_time": "2025-02-10T15:42:07.512Z"
   },
   {
    "duration": 228,
    "start_time": "2025-02-10T15:42:23.711Z"
   },
   {
    "duration": 158,
    "start_time": "2025-02-10T15:42:23.941Z"
   },
   {
    "duration": 263,
    "start_time": "2025-02-10T15:42:24.101Z"
   },
   {
    "duration": 3,
    "start_time": "2025-02-10T15:42:24.368Z"
   },
   {
    "duration": 183,
    "start_time": "2025-02-10T15:42:37.714Z"
   },
   {
    "duration": 481,
    "start_time": "2025-02-10T15:43:03.418Z"
   },
   {
    "duration": 232,
    "start_time": "2025-02-10T15:43:51.600Z"
   },
   {
    "duration": 225,
    "start_time": "2025-02-10T15:44:17.079Z"
   },
   {
    "duration": 172,
    "start_time": "2025-02-10T15:44:50.716Z"
   },
   {
    "duration": 241,
    "start_time": "2025-02-10T15:45:55.339Z"
   },
   {
    "duration": 26,
    "start_time": "2025-02-10T18:21:13.130Z"
   },
   {
    "duration": 8,
    "start_time": "2025-02-10T18:23:08.196Z"
   },
   {
    "duration": 6,
    "start_time": "2025-02-10T18:32:47.622Z"
   },
   {
    "duration": 270,
    "start_time": "2025-02-10T18:33:12.386Z"
   },
   {
    "duration": 132,
    "start_time": "2025-02-10T18:34:42.778Z"
   },
   {
    "duration": 147,
    "start_time": "2025-02-10T18:37:28.415Z"
   },
   {
    "duration": 135,
    "start_time": "2025-02-10T18:39:49.567Z"
   },
   {
    "duration": 446,
    "start_time": "2025-02-10T18:41:31.801Z"
   },
   {
    "duration": 200,
    "start_time": "2025-02-10T18:41:58.019Z"
   },
   {
    "duration": 129,
    "start_time": "2025-02-10T18:46:47.243Z"
   },
   {
    "duration": 137,
    "start_time": "2025-02-10T18:53:24.158Z"
   },
   {
    "duration": 828,
    "start_time": "2025-02-10T18:53:52.071Z"
   },
   {
    "duration": 126,
    "start_time": "2025-02-10T18:54:29.923Z"
   },
   {
    "duration": 136,
    "start_time": "2025-02-10T18:55:22.762Z"
   },
   {
    "duration": 28,
    "start_time": "2025-02-10T18:57:26.173Z"
   },
   {
    "duration": 134,
    "start_time": "2025-02-10T18:57:40.275Z"
   },
   {
    "duration": 132,
    "start_time": "2025-02-10T19:00:27.241Z"
   },
   {
    "duration": 188,
    "start_time": "2025-02-10T19:02:31.809Z"
   },
   {
    "duration": 139,
    "start_time": "2025-02-10T19:03:49.647Z"
   },
   {
    "duration": 201,
    "start_time": "2025-02-10T19:04:18.801Z"
   },
   {
    "duration": 51,
    "start_time": "2025-02-10T19:22:18.973Z"
   },
   {
    "duration": 181,
    "start_time": "2025-02-10T19:31:12.304Z"
   },
   {
    "duration": 157,
    "start_time": "2025-02-10T19:36:22.476Z"
   },
   {
    "duration": 412,
    "start_time": "2025-02-10T19:38:15.355Z"
   },
   {
    "duration": 161,
    "start_time": "2025-02-10T19:38:15.770Z"
   },
   {
    "duration": 37,
    "start_time": "2025-02-10T19:38:15.935Z"
   },
   {
    "duration": 4,
    "start_time": "2025-02-10T19:38:15.986Z"
   },
   {
    "duration": 5,
    "start_time": "2025-02-10T19:38:15.993Z"
   },
   {
    "duration": 772,
    "start_time": "2025-02-10T19:38:16.000Z"
   },
   {
    "duration": 61,
    "start_time": "2025-02-10T19:38:16.773Z"
   },
   {
    "duration": 92,
    "start_time": "2025-02-10T19:38:16.835Z"
   },
   {
    "duration": 6,
    "start_time": "2025-02-10T19:38:16.929Z"
   },
   {
    "duration": 109,
    "start_time": "2025-02-10T19:38:16.938Z"
   },
   {
    "duration": 96,
    "start_time": "2025-02-10T19:38:17.049Z"
   },
   {
    "duration": 41,
    "start_time": "2025-02-10T19:38:17.146Z"
   },
   {
    "duration": 13,
    "start_time": "2025-02-10T19:38:17.189Z"
   },
   {
    "duration": 4,
    "start_time": "2025-02-10T19:38:17.203Z"
   },
   {
    "duration": 20,
    "start_time": "2025-02-10T19:38:17.209Z"
   },
   {
    "duration": 12,
    "start_time": "2025-02-10T19:38:17.231Z"
   },
   {
    "duration": 14,
    "start_time": "2025-02-10T19:38:17.244Z"
   },
   {
    "duration": 4,
    "start_time": "2025-02-10T19:38:17.287Z"
   },
   {
    "duration": 6,
    "start_time": "2025-02-10T19:38:17.293Z"
   },
   {
    "duration": 6,
    "start_time": "2025-02-10T19:38:17.300Z"
   },
   {
    "duration": 6,
    "start_time": "2025-02-10T19:38:17.307Z"
   },
   {
    "duration": 806,
    "start_time": "2025-02-10T19:38:17.314Z"
   },
   {
    "duration": 861,
    "start_time": "2025-02-10T19:38:18.122Z"
   },
   {
    "duration": 5,
    "start_time": "2025-02-10T19:38:18.987Z"
   },
   {
    "duration": 68,
    "start_time": "2025-02-10T19:38:18.994Z"
   },
   {
    "duration": 79,
    "start_time": "2025-02-10T19:38:19.064Z"
   },
   {
    "duration": 6,
    "start_time": "2025-02-10T19:38:19.145Z"
   },
   {
    "duration": 9,
    "start_time": "2025-02-10T19:38:19.155Z"
   },
   {
    "duration": 24,
    "start_time": "2025-02-10T19:38:19.165Z"
   },
   {
    "duration": 13,
    "start_time": "2025-02-10T19:38:19.191Z"
   },
   {
    "duration": 7,
    "start_time": "2025-02-10T19:38:19.206Z"
   },
   {
    "duration": 29,
    "start_time": "2025-02-10T19:38:19.214Z"
   },
   {
    "duration": 8,
    "start_time": "2025-02-10T19:38:19.245Z"
   },
   {
    "duration": 39,
    "start_time": "2025-02-10T19:38:19.254Z"
   },
   {
    "duration": 37,
    "start_time": "2025-02-10T19:38:19.295Z"
   },
   {
    "duration": 15580,
    "start_time": "2025-02-10T19:38:19.334Z"
   },
   {
    "duration": 15322,
    "start_time": "2025-02-10T19:38:34.916Z"
   },
   {
    "duration": 228,
    "start_time": "2025-02-10T19:38:50.239Z"
   },
   {
    "duration": 154,
    "start_time": "2025-02-10T19:38:50.469Z"
   },
   {
    "duration": 239,
    "start_time": "2025-02-10T19:38:50.625Z"
   },
   {
    "duration": 3,
    "start_time": "2025-02-10T19:38:50.866Z"
   },
   {
    "duration": 134,
    "start_time": "2025-02-10T19:38:50.871Z"
   },
   {
    "duration": 135,
    "start_time": "2025-02-10T19:38:51.007Z"
   },
   {
    "duration": 182,
    "start_time": "2025-02-10T19:38:51.144Z"
   },
   {
    "duration": 163,
    "start_time": "2025-02-10T19:38:51.329Z"
   },
   {
    "duration": 251,
    "start_time": "2025-02-10T19:40:36.578Z"
   },
   {
    "duration": 179,
    "start_time": "2025-02-10T19:42:11.891Z"
   },
   {
    "duration": 246,
    "start_time": "2025-02-10T19:45:10.283Z"
   },
   {
    "duration": 234,
    "start_time": "2025-02-10T19:46:51.724Z"
   },
   {
    "duration": 228,
    "start_time": "2025-02-10T19:47:04.115Z"
   },
   {
    "duration": 207,
    "start_time": "2025-02-10T19:58:01.082Z"
   },
   {
    "duration": 143,
    "start_time": "2025-02-10T20:17:43.645Z"
   },
   {
    "duration": 99,
    "start_time": "2025-02-10T20:18:16.205Z"
   },
   {
    "duration": 103,
    "start_time": "2025-02-10T20:22:46.403Z"
   },
   {
    "duration": 433,
    "start_time": "2025-02-10T20:38:53.948Z"
   },
   {
    "duration": 103,
    "start_time": "2025-02-10T20:39:20.208Z"
   },
   {
    "duration": 110,
    "start_time": "2025-02-10T20:41:58.262Z"
   },
   {
    "duration": 127,
    "start_time": "2025-02-10T20:42:17.288Z"
   },
   {
    "duration": 533,
    "start_time": "2025-02-10T20:47:36.420Z"
   },
   {
    "duration": 164,
    "start_time": "2025-02-10T20:48:08.444Z"
   },
   {
    "duration": 126,
    "start_time": "2025-02-10T20:49:03.046Z"
   },
   {
    "duration": 109,
    "start_time": "2025-02-10T20:49:53.416Z"
   },
   {
    "duration": 158,
    "start_time": "2025-02-10T20:53:49.635Z"
   },
   {
    "duration": 5,
    "start_time": "2025-02-10T21:26:00.312Z"
   },
   {
    "duration": 428,
    "start_time": "2025-02-10T21:26:14.944Z"
   },
   {
    "duration": 423,
    "start_time": "2025-02-10T21:31:18.979Z"
   },
   {
    "duration": 476,
    "start_time": "2025-02-10T21:35:14.825Z"
   },
   {
    "duration": 6,
    "start_time": "2025-02-10T21:36:43.679Z"
   },
   {
    "duration": 512,
    "start_time": "2025-02-10T21:36:58.090Z"
   },
   {
    "duration": 474,
    "start_time": "2025-02-10T21:38:45.401Z"
   },
   {
    "duration": 624,
    "start_time": "2025-02-10T21:39:17.791Z"
   },
   {
    "duration": 524,
    "start_time": "2025-02-10T21:39:37.667Z"
   },
   {
    "duration": 516,
    "start_time": "2025-02-10T21:55:42.729Z"
   },
   {
    "duration": 6,
    "start_time": "2025-02-10T22:05:24.616Z"
   },
   {
    "duration": 5,
    "start_time": "2025-02-10T22:12:19.188Z"
   },
   {
    "duration": 530,
    "start_time": "2025-02-10T22:12:29.892Z"
   },
   {
    "duration": 217,
    "start_time": "2025-02-10T22:21:16.878Z"
   },
   {
    "duration": 5,
    "start_time": "2025-02-10T22:24:40.694Z"
   },
   {
    "duration": 171,
    "start_time": "2025-02-10T22:25:25.747Z"
   },
   {
    "duration": 112,
    "start_time": "2025-02-10T22:29:24.507Z"
   },
   {
    "duration": 118,
    "start_time": "2025-02-10T22:32:48.289Z"
   },
   {
    "duration": 5,
    "start_time": "2025-02-10T22:38:02.755Z"
   },
   {
    "duration": 410,
    "start_time": "2025-02-10T22:41:31.576Z"
   },
   {
    "duration": 161,
    "start_time": "2025-02-10T22:41:31.989Z"
   },
   {
    "duration": 38,
    "start_time": "2025-02-10T22:41:32.152Z"
   },
   {
    "duration": 6,
    "start_time": "2025-02-10T22:41:32.191Z"
   },
   {
    "duration": 6,
    "start_time": "2025-02-10T22:41:32.200Z"
   },
   {
    "duration": 718,
    "start_time": "2025-02-10T22:41:32.208Z"
   },
   {
    "duration": 52,
    "start_time": "2025-02-10T22:41:32.928Z"
   },
   {
    "duration": 104,
    "start_time": "2025-02-10T22:41:32.987Z"
   },
   {
    "duration": 7,
    "start_time": "2025-02-10T22:41:33.092Z"
   },
   {
    "duration": 116,
    "start_time": "2025-02-10T22:41:33.106Z"
   },
   {
    "duration": 96,
    "start_time": "2025-02-10T22:41:33.224Z"
   },
   {
    "duration": 29,
    "start_time": "2025-02-10T22:41:33.322Z"
   },
   {
    "duration": 13,
    "start_time": "2025-02-10T22:41:33.352Z"
   },
   {
    "duration": 21,
    "start_time": "2025-02-10T22:41:33.369Z"
   },
   {
    "duration": 20,
    "start_time": "2025-02-10T22:41:33.393Z"
   },
   {
    "duration": 12,
    "start_time": "2025-02-10T22:41:33.415Z"
   },
   {
    "duration": 14,
    "start_time": "2025-02-10T22:41:33.428Z"
   },
   {
    "duration": 5,
    "start_time": "2025-02-10T22:41:33.443Z"
   },
   {
    "duration": 6,
    "start_time": "2025-02-10T22:41:33.449Z"
   },
   {
    "duration": 6,
    "start_time": "2025-02-10T22:41:33.488Z"
   },
   {
    "duration": 8,
    "start_time": "2025-02-10T22:41:33.497Z"
   },
   {
    "duration": 805,
    "start_time": "2025-02-10T22:41:33.507Z"
   },
   {
    "duration": 856,
    "start_time": "2025-02-10T22:41:34.314Z"
   },
   {
    "duration": 5,
    "start_time": "2025-02-10T22:41:35.172Z"
   },
   {
    "duration": 71,
    "start_time": "2025-02-10T22:41:35.187Z"
   },
   {
    "duration": 77,
    "start_time": "2025-02-10T22:41:35.260Z"
   },
   {
    "duration": 7,
    "start_time": "2025-02-10T22:41:35.338Z"
   },
   {
    "duration": 9,
    "start_time": "2025-02-10T22:41:35.347Z"
   },
   {
    "duration": 5,
    "start_time": "2025-02-10T22:41:35.358Z"
   },
   {
    "duration": 34,
    "start_time": "2025-02-10T22:41:35.364Z"
   },
   {
    "duration": 7,
    "start_time": "2025-02-10T22:41:35.400Z"
   },
   {
    "duration": 28,
    "start_time": "2025-02-10T22:41:35.408Z"
   },
   {
    "duration": 7,
    "start_time": "2025-02-10T22:41:35.438Z"
   },
   {
    "duration": 7,
    "start_time": "2025-02-10T22:41:35.447Z"
   },
   {
    "duration": 38,
    "start_time": "2025-02-10T22:41:35.487Z"
   },
   {
    "duration": 15422,
    "start_time": "2025-02-10T22:41:35.526Z"
   },
   {
    "duration": 15739,
    "start_time": "2025-02-10T22:41:50.950Z"
   },
   {
    "duration": 225,
    "start_time": "2025-02-10T22:42:06.691Z"
   },
   {
    "duration": 155,
    "start_time": "2025-02-10T22:42:06.917Z"
   },
   {
    "duration": 251,
    "start_time": "2025-02-10T22:42:07.074Z"
   },
   {
    "duration": 4,
    "start_time": "2025-02-10T22:42:07.330Z"
   },
   {
    "duration": 132,
    "start_time": "2025-02-10T22:42:07.335Z"
   },
   {
    "duration": 141,
    "start_time": "2025-02-10T22:42:07.469Z"
   },
   {
    "duration": 178,
    "start_time": "2025-02-10T22:42:07.612Z"
   },
   {
    "duration": 215,
    "start_time": "2025-02-10T22:42:07.792Z"
   },
   {
    "duration": 125,
    "start_time": "2025-02-10T22:42:08.009Z"
   },
   {
    "duration": 573,
    "start_time": "2025-02-10T22:42:08.138Z"
   },
   {
    "duration": 6,
    "start_time": "2025-02-10T22:42:08.712Z"
   },
   {
    "duration": 203,
    "start_time": "2025-02-10T22:42:08.720Z"
   },
   {
    "duration": 0,
    "start_time": "2025-02-10T22:47:54.547Z"
   },
   {
    "duration": 173960,
    "start_time": "2025-02-10T22:48:14.554Z"
   },
   {
    "duration": 221,
    "start_time": "2025-02-10T22:52:04.798Z"
   },
   {
    "duration": 194,
    "start_time": "2025-02-10T22:55:00.881Z"
   },
   {
    "duration": 206,
    "start_time": "2025-02-10T23:06:42.063Z"
   },
   {
    "duration": 16303,
    "start_time": "2025-02-10T23:27:04.124Z"
   },
   {
    "duration": 1467,
    "start_time": "2025-02-10T23:27:50.969Z"
   },
   {
    "duration": 15,
    "start_time": "2025-02-10T23:38:28.994Z"
   },
   {
    "duration": 6,
    "start_time": "2025-02-10T23:39:17.641Z"
   },
   {
    "duration": 5,
    "start_time": "2025-02-10T23:39:48.337Z"
   },
   {
    "duration": 1333,
    "start_time": "2025-02-10T23:41:11.777Z"
   },
   {
    "duration": 1272,
    "start_time": "2025-02-10T23:51:49.477Z"
   },
   {
    "duration": 1307,
    "start_time": "2025-02-10T23:52:34.146Z"
   },
   {
    "duration": 1200,
    "start_time": "2025-02-10T23:52:49.591Z"
   },
   {
    "duration": 20,
    "start_time": "2025-02-11T00:01:09.816Z"
   },
   {
    "duration": 477,
    "start_time": "2025-02-11T00:02:47.383Z"
   },
   {
    "duration": 901,
    "start_time": "2025-02-11T00:10:39.485Z"
   },
   {
    "duration": 8,
    "start_time": "2025-02-11T00:19:50.127Z"
   },
   {
    "duration": 67,
    "start_time": "2025-02-11T00:40:56.081Z"
   },
   {
    "duration": 6,
    "start_time": "2025-02-11T00:43:13.397Z"
   },
   {
    "duration": 6,
    "start_time": "2025-02-11T00:43:36.879Z"
   },
   {
    "duration": 19,
    "start_time": "2025-02-11T00:50:49.773Z"
   },
   {
    "duration": 66,
    "start_time": "2025-02-11T00:52:28.923Z"
   },
   {
    "duration": 20,
    "start_time": "2025-02-11T00:52:32.011Z"
   },
   {
    "duration": 221,
    "start_time": "2025-02-11T01:00:12.438Z"
   },
   {
    "duration": 21,
    "start_time": "2025-02-11T01:07:37.709Z"
   },
   {
    "duration": 452,
    "start_time": "2025-02-11T01:12:01.769Z"
   },
   {
    "duration": 5,
    "start_time": "2025-02-11T01:16:24.841Z"
   },
   {
    "duration": 442,
    "start_time": "2025-02-11T01:17:24.945Z"
   },
   {
    "duration": 199,
    "start_time": "2025-02-11T01:17:25.389Z"
   },
   {
    "duration": 60,
    "start_time": "2025-02-11T01:17:25.589Z"
   },
   {
    "duration": 7,
    "start_time": "2025-02-11T01:17:25.651Z"
   },
   {
    "duration": 6,
    "start_time": "2025-02-11T01:17:25.660Z"
   },
   {
    "duration": 791,
    "start_time": "2025-02-11T01:17:25.668Z"
   },
   {
    "duration": 53,
    "start_time": "2025-02-11T01:17:26.461Z"
   },
   {
    "duration": 97,
    "start_time": "2025-02-11T01:17:26.516Z"
   },
   {
    "duration": 6,
    "start_time": "2025-02-11T01:17:26.615Z"
   },
   {
    "duration": 109,
    "start_time": "2025-02-11T01:17:26.624Z"
   },
   {
    "duration": 90,
    "start_time": "2025-02-11T01:17:26.735Z"
   },
   {
    "duration": 27,
    "start_time": "2025-02-11T01:17:26.827Z"
   },
   {
    "duration": 30,
    "start_time": "2025-02-11T01:17:26.856Z"
   },
   {
    "duration": 5,
    "start_time": "2025-02-11T01:17:26.888Z"
   },
   {
    "duration": 19,
    "start_time": "2025-02-11T01:17:26.894Z"
   },
   {
    "duration": 12,
    "start_time": "2025-02-11T01:17:26.916Z"
   },
   {
    "duration": 14,
    "start_time": "2025-02-11T01:17:26.930Z"
   },
   {
    "duration": 5,
    "start_time": "2025-02-11T01:17:26.946Z"
   },
   {
    "duration": 39,
    "start_time": "2025-02-11T01:17:26.952Z"
   },
   {
    "duration": 5,
    "start_time": "2025-02-11T01:17:26.993Z"
   },
   {
    "duration": 5,
    "start_time": "2025-02-11T01:17:27.000Z"
   },
   {
    "duration": 820,
    "start_time": "2025-02-11T01:17:27.007Z"
   },
   {
    "duration": 887,
    "start_time": "2025-02-11T01:17:27.829Z"
   },
   {
    "duration": 6,
    "start_time": "2025-02-11T01:17:28.718Z"
   },
   {
    "duration": 79,
    "start_time": "2025-02-11T01:17:28.726Z"
   },
   {
    "duration": 64,
    "start_time": "2025-02-11T01:17:28.807Z"
   },
   {
    "duration": 14,
    "start_time": "2025-02-11T01:17:28.873Z"
   },
   {
    "duration": 8,
    "start_time": "2025-02-11T01:17:28.891Z"
   },
   {
    "duration": 4,
    "start_time": "2025-02-11T01:17:28.901Z"
   },
   {
    "duration": 13,
    "start_time": "2025-02-11T01:17:28.906Z"
   },
   {
    "duration": 7,
    "start_time": "2025-02-11T01:17:28.921Z"
   },
   {
    "duration": 61,
    "start_time": "2025-02-11T01:17:28.929Z"
   },
   {
    "duration": 8,
    "start_time": "2025-02-11T01:17:28.992Z"
   },
   {
    "duration": 8,
    "start_time": "2025-02-11T01:17:29.002Z"
   },
   {
    "duration": 40,
    "start_time": "2025-02-11T01:17:29.011Z"
   },
   {
    "duration": 15717,
    "start_time": "2025-02-11T01:17:29.052Z"
   },
   {
    "duration": 15749,
    "start_time": "2025-02-11T01:17:44.773Z"
   },
   {
    "duration": 226,
    "start_time": "2025-02-11T01:18:00.524Z"
   },
   {
    "duration": 153,
    "start_time": "2025-02-11T01:18:00.752Z"
   },
   {
    "duration": 259,
    "start_time": "2025-02-11T01:18:00.907Z"
   },
   {
    "duration": 3,
    "start_time": "2025-02-11T01:18:01.168Z"
   },
   {
    "duration": 126,
    "start_time": "2025-02-11T01:18:01.173Z"
   },
   {
    "duration": 142,
    "start_time": "2025-02-11T01:18:01.301Z"
   },
   {
    "duration": 189,
    "start_time": "2025-02-11T01:18:01.445Z"
   },
   {
    "duration": 210,
    "start_time": "2025-02-11T01:18:01.636Z"
   },
   {
    "duration": 122,
    "start_time": "2025-02-11T01:18:01.847Z"
   },
   {
    "duration": 244,
    "start_time": "2025-02-11T01:18:01.971Z"
   },
   {
    "duration": 629,
    "start_time": "2025-02-11T01:18:02.217Z"
   },
   {
    "duration": 7,
    "start_time": "2025-02-11T01:18:02.848Z"
   },
   {
    "duration": 198,
    "start_time": "2025-02-11T01:18:02.856Z"
   },
   {
    "duration": 234,
    "start_time": "2025-02-11T01:18:03.055Z"
   },
   {
    "duration": 1499,
    "start_time": "2025-02-11T01:18:03.292Z"
   },
   {
    "duration": 5,
    "start_time": "2025-02-11T01:18:04.793Z"
   },
   {
    "duration": 1116,
    "start_time": "2025-02-11T01:18:04.800Z"
   },
   {
    "duration": 7,
    "start_time": "2025-02-11T01:18:05.919Z"
   },
   {
    "duration": 937,
    "start_time": "2025-02-11T01:18:05.928Z"
   },
   {
    "duration": 198,
    "start_time": "2025-02-11T01:18:06.867Z"
   },
   {
    "duration": 836,
    "start_time": "2025-02-11T01:20:04.370Z"
   },
   {
    "duration": 1237,
    "start_time": "2025-02-11T01:29:09.638Z"
   },
   {
    "duration": 870,
    "start_time": "2025-02-11T01:30:26.463Z"
   },
   {
    "duration": 932,
    "start_time": "2025-02-11T01:36:02.895Z"
   },
   {
    "duration": 622,
    "start_time": "2025-02-11T01:38:32.113Z"
   },
   {
    "duration": 823,
    "start_time": "2025-02-11T01:38:56.217Z"
   },
   {
    "duration": 854,
    "start_time": "2025-02-11T01:39:20.526Z"
   },
   {
    "duration": 829,
    "start_time": "2025-02-11T01:39:42.824Z"
   },
   {
    "duration": 967,
    "start_time": "2025-02-11T01:40:02.907Z"
   },
   {
    "duration": 997,
    "start_time": "2025-02-11T01:40:12.773Z"
   },
   {
    "duration": 168,
    "start_time": "2025-02-11T01:40:39.938Z"
   },
   {
    "duration": 473,
    "start_time": "2025-02-11T01:41:10.912Z"
   },
   {
    "duration": 224,
    "start_time": "2025-02-11T01:41:11.389Z"
   },
   {
    "duration": 58,
    "start_time": "2025-02-11T01:41:11.615Z"
   },
   {
    "duration": 6,
    "start_time": "2025-02-11T01:41:11.675Z"
   },
   {
    "duration": 7,
    "start_time": "2025-02-11T01:41:11.692Z"
   },
   {
    "duration": 833,
    "start_time": "2025-02-11T01:41:11.700Z"
   },
   {
    "duration": 60,
    "start_time": "2025-02-11T01:41:12.535Z"
   },
   {
    "duration": 104,
    "start_time": "2025-02-11T01:41:12.597Z"
   },
   {
    "duration": 6,
    "start_time": "2025-02-11T01:41:12.703Z"
   },
   {
    "duration": 113,
    "start_time": "2025-02-11T01:41:12.710Z"
   },
   {
    "duration": 107,
    "start_time": "2025-02-11T01:41:12.824Z"
   },
   {
    "duration": 28,
    "start_time": "2025-02-11T01:41:12.933Z"
   },
   {
    "duration": 27,
    "start_time": "2025-02-11T01:41:12.963Z"
   },
   {
    "duration": 4,
    "start_time": "2025-02-11T01:41:12.994Z"
   },
   {
    "duration": 20,
    "start_time": "2025-02-11T01:41:12.999Z"
   },
   {
    "duration": 15,
    "start_time": "2025-02-11T01:41:13.020Z"
   },
   {
    "duration": 13,
    "start_time": "2025-02-11T01:41:13.037Z"
   },
   {
    "duration": 36,
    "start_time": "2025-02-11T01:41:13.052Z"
   },
   {
    "duration": 6,
    "start_time": "2025-02-11T01:41:13.089Z"
   },
   {
    "duration": 6,
    "start_time": "2025-02-11T01:41:13.097Z"
   },
   {
    "duration": 6,
    "start_time": "2025-02-11T01:41:13.106Z"
   },
   {
    "duration": 905,
    "start_time": "2025-02-11T01:41:13.113Z"
   },
   {
    "duration": 878,
    "start_time": "2025-02-11T01:41:14.020Z"
   },
   {
    "duration": 5,
    "start_time": "2025-02-11T01:41:14.900Z"
   },
   {
    "duration": 80,
    "start_time": "2025-02-11T01:41:14.908Z"
   },
   {
    "duration": 63,
    "start_time": "2025-02-11T01:41:14.990Z"
   },
   {
    "duration": 7,
    "start_time": "2025-02-11T01:41:15.055Z"
   },
   {
    "duration": 25,
    "start_time": "2025-02-11T01:41:15.064Z"
   },
   {
    "duration": 3,
    "start_time": "2025-02-11T01:41:15.090Z"
   },
   {
    "duration": 13,
    "start_time": "2025-02-11T01:41:15.095Z"
   },
   {
    "duration": 7,
    "start_time": "2025-02-11T01:41:15.110Z"
   },
   {
    "duration": 28,
    "start_time": "2025-02-11T01:41:15.119Z"
   },
   {
    "duration": 39,
    "start_time": "2025-02-11T01:41:15.149Z"
   },
   {
    "duration": 7,
    "start_time": "2025-02-11T01:41:15.189Z"
   },
   {
    "duration": 38,
    "start_time": "2025-02-11T01:41:15.198Z"
   },
   {
    "duration": 16791,
    "start_time": "2025-02-11T01:41:15.238Z"
   },
   {
    "duration": 16263,
    "start_time": "2025-02-11T01:41:32.031Z"
   },
   {
    "duration": 227,
    "start_time": "2025-02-11T01:41:48.295Z"
   },
   {
    "duration": 154,
    "start_time": "2025-02-11T01:41:48.524Z"
   },
   {
    "duration": 245,
    "start_time": "2025-02-11T01:41:48.680Z"
   },
   {
    "duration": 3,
    "start_time": "2025-02-11T01:41:48.930Z"
   },
   {
    "duration": 141,
    "start_time": "2025-02-11T01:41:48.936Z"
   },
   {
    "duration": 141,
    "start_time": "2025-02-11T01:41:49.078Z"
   },
   {
    "duration": 181,
    "start_time": "2025-02-11T01:41:49.221Z"
   },
   {
    "duration": 213,
    "start_time": "2025-02-11T01:41:49.404Z"
   },
   {
    "duration": 124,
    "start_time": "2025-02-11T01:41:49.619Z"
   },
   {
    "duration": 273,
    "start_time": "2025-02-11T01:41:49.744Z"
   },
   {
    "duration": 527,
    "start_time": "2025-02-11T01:41:50.018Z"
   },
   {
    "duration": 6,
    "start_time": "2025-02-11T01:41:50.547Z"
   },
   {
    "duration": 198,
    "start_time": "2025-02-11T01:41:50.554Z"
   },
   {
    "duration": 200,
    "start_time": "2025-02-11T01:41:50.754Z"
   },
   {
    "duration": 1429,
    "start_time": "2025-02-11T01:41:50.956Z"
   },
   {
    "duration": 6,
    "start_time": "2025-02-11T01:41:52.387Z"
   },
   {
    "duration": 1151,
    "start_time": "2025-02-11T01:41:52.395Z"
   },
   {
    "duration": 5,
    "start_time": "2025-02-11T01:41:53.548Z"
   },
   {
    "duration": 986,
    "start_time": "2025-02-11T01:41:53.555Z"
   },
   {
    "duration": 10,
    "start_time": "2025-02-11T01:48:31.456Z"
   },
   {
    "duration": 5,
    "start_time": "2025-02-11T01:49:08.429Z"
   },
   {
    "duration": 5,
    "start_time": "2025-02-11T01:49:35.982Z"
   },
   {
    "duration": 1011,
    "start_time": "2025-02-11T01:50:07.862Z"
   },
   {
    "duration": 995,
    "start_time": "2025-02-11T01:51:05.965Z"
   },
   {
    "duration": 1024,
    "start_time": "2025-02-11T01:52:40.057Z"
   },
   {
    "duration": 1411,
    "start_time": "2025-02-11T01:58:43.892Z"
   },
   {
    "duration": 915,
    "start_time": "2025-02-11T02:01:05.230Z"
   },
   {
    "duration": 992,
    "start_time": "2025-02-11T02:01:26.908Z"
   },
   {
    "duration": 1112,
    "start_time": "2025-02-11T02:02:46.903Z"
   },
   {
    "duration": 918,
    "start_time": "2025-02-11T02:03:07.222Z"
   },
   {
    "duration": 942,
    "start_time": "2025-02-11T02:06:02.788Z"
   },
   {
    "duration": 1021,
    "start_time": "2025-02-11T02:10:22.469Z"
   },
   {
    "duration": 941,
    "start_time": "2025-02-11T02:14:32.879Z"
   },
   {
    "duration": 877,
    "start_time": "2025-02-11T02:15:28.039Z"
   },
   {
    "duration": 899,
    "start_time": "2025-02-11T02:17:47.126Z"
   },
   {
    "duration": 911,
    "start_time": "2025-02-11T02:19:07.931Z"
   },
   {
    "duration": 920,
    "start_time": "2025-02-11T02:19:31.555Z"
   },
   {
    "duration": 898,
    "start_time": "2025-02-11T02:21:29.925Z"
   },
   {
    "duration": 921,
    "start_time": "2025-02-11T02:22:03.782Z"
   },
   {
    "duration": 873,
    "start_time": "2025-02-11T02:22:28.955Z"
   },
   {
    "duration": 914,
    "start_time": "2025-02-11T02:22:44.507Z"
   },
   {
    "duration": 878,
    "start_time": "2025-02-11T02:23:04.182Z"
   },
   {
    "duration": 966,
    "start_time": "2025-02-11T02:24:23.234Z"
   },
   {
    "duration": 1093,
    "start_time": "2025-02-11T02:30:16.393Z"
   },
   {
    "duration": 164,
    "start_time": "2025-02-11T05:35:57.794Z"
   },
   {
    "duration": 537,
    "start_time": "2025-02-11T05:36:00.602Z"
   },
   {
    "duration": 152,
    "start_time": "2025-02-11T05:36:01.142Z"
   },
   {
    "duration": 58,
    "start_time": "2025-02-11T05:36:01.296Z"
   },
   {
    "duration": 7,
    "start_time": "2025-02-11T05:36:01.356Z"
   },
   {
    "duration": 6,
    "start_time": "2025-02-11T05:36:01.365Z"
   },
   {
    "duration": 839,
    "start_time": "2025-02-11T05:36:01.372Z"
   },
   {
    "duration": 55,
    "start_time": "2025-02-11T05:36:02.212Z"
   },
   {
    "duration": 99,
    "start_time": "2025-02-11T05:36:02.269Z"
   },
   {
    "duration": 19,
    "start_time": "2025-02-11T05:36:02.370Z"
   },
   {
    "duration": 96,
    "start_time": "2025-02-11T05:36:02.390Z"
   },
   {
    "duration": 86,
    "start_time": "2025-02-11T05:36:02.488Z"
   },
   {
    "duration": 37,
    "start_time": "2025-02-11T05:36:02.575Z"
   },
   {
    "duration": 12,
    "start_time": "2025-02-11T05:36:02.614Z"
   },
   {
    "duration": 3,
    "start_time": "2025-02-11T05:36:02.630Z"
   },
   {
    "duration": 19,
    "start_time": "2025-02-11T05:36:02.635Z"
   },
   {
    "duration": 33,
    "start_time": "2025-02-11T05:36:02.656Z"
   },
   {
    "duration": 14,
    "start_time": "2025-02-11T05:36:02.691Z"
   },
   {
    "duration": 5,
    "start_time": "2025-02-11T05:36:02.707Z"
   },
   {
    "duration": 6,
    "start_time": "2025-02-11T05:36:02.713Z"
   },
   {
    "duration": 5,
    "start_time": "2025-02-11T05:36:02.721Z"
   },
   {
    "duration": 6,
    "start_time": "2025-02-11T05:36:02.727Z"
   },
   {
    "duration": 803,
    "start_time": "2025-02-11T05:36:02.735Z"
   },
   {
    "duration": 855,
    "start_time": "2025-02-11T05:36:03.540Z"
   },
   {
    "duration": 5,
    "start_time": "2025-02-11T05:36:04.398Z"
   },
   {
    "duration": 82,
    "start_time": "2025-02-11T05:36:04.405Z"
   },
   {
    "duration": 9,
    "start_time": "2025-02-11T05:36:04.489Z"
   },
   {
    "duration": 66,
    "start_time": "2025-02-11T05:36:04.499Z"
   },
   {
    "duration": 21,
    "start_time": "2025-02-11T05:36:04.567Z"
   },
   {
    "duration": 8,
    "start_time": "2025-02-11T05:36:04.590Z"
   },
   {
    "duration": 3,
    "start_time": "2025-02-11T05:36:04.600Z"
   },
   {
    "duration": 12,
    "start_time": "2025-02-11T05:36:04.605Z"
   },
   {
    "duration": 6,
    "start_time": "2025-02-11T05:36:04.619Z"
   },
   {
    "duration": 59,
    "start_time": "2025-02-11T05:36:04.627Z"
   },
   {
    "duration": 8,
    "start_time": "2025-02-11T05:36:04.688Z"
   },
   {
    "duration": 7,
    "start_time": "2025-02-11T05:36:04.698Z"
   },
   {
    "duration": 39,
    "start_time": "2025-02-11T05:36:04.707Z"
   },
   {
    "duration": 16363,
    "start_time": "2025-02-11T05:36:04.748Z"
   },
   {
    "duration": 16306,
    "start_time": "2025-02-11T05:36:21.113Z"
   },
   {
    "duration": 230,
    "start_time": "2025-02-11T05:36:37.420Z"
   },
   {
    "duration": 158,
    "start_time": "2025-02-11T05:36:37.652Z"
   },
   {
    "duration": 250,
    "start_time": "2025-02-11T05:36:37.815Z"
   },
   {
    "duration": 4,
    "start_time": "2025-02-11T05:36:38.067Z"
   },
   {
    "duration": 145,
    "start_time": "2025-02-11T05:36:38.073Z"
   },
   {
    "duration": 139,
    "start_time": "2025-02-11T05:36:38.219Z"
   },
   {
    "duration": 230,
    "start_time": "2025-02-11T05:36:38.359Z"
   },
   {
    "duration": 199,
    "start_time": "2025-02-11T05:36:38.592Z"
   },
   {
    "duration": 126,
    "start_time": "2025-02-11T05:36:38.793Z"
   },
   {
    "duration": 217,
    "start_time": "2025-02-11T05:36:38.922Z"
   },
   {
    "duration": 532,
    "start_time": "2025-02-11T05:36:39.140Z"
   },
   {
    "duration": 14,
    "start_time": "2025-02-11T05:36:39.673Z"
   },
   {
    "duration": 195,
    "start_time": "2025-02-11T05:36:39.689Z"
   },
   {
    "duration": 198,
    "start_time": "2025-02-11T05:36:39.887Z"
   },
   {
    "duration": 1325,
    "start_time": "2025-02-11T05:36:40.087Z"
   },
   {
    "duration": 5,
    "start_time": "2025-02-11T05:36:41.413Z"
   },
   {
    "duration": 1109,
    "start_time": "2025-02-11T05:36:41.421Z"
   },
   {
    "duration": 5,
    "start_time": "2025-02-11T05:36:42.532Z"
   },
   {
    "duration": 1140,
    "start_time": "2025-02-11T05:36:42.538Z"
   },
   {
    "duration": 12,
    "start_time": "2025-02-11T05:36:47.816Z"
   },
   {
    "duration": 6,
    "start_time": "2025-02-11T05:40:38.055Z"
   },
   {
    "duration": 963,
    "start_time": "2025-02-11T05:41:45.718Z"
   },
   {
    "duration": 5,
    "start_time": "2025-02-11T05:42:10.970Z"
   },
   {
    "duration": 7,
    "start_time": "2025-02-11T05:43:27.426Z"
   },
   {
    "duration": 248,
    "start_time": "2025-02-11T16:31:21.446Z"
   },
   {
    "duration": 3204,
    "start_time": "2025-02-11T16:47:43.599Z"
   },
   {
    "duration": 74,
    "start_time": "2025-02-11T16:48:21.235Z"
   },
   {
    "duration": 6,
    "start_time": "2025-02-11T16:53:10.566Z"
   },
   {
    "duration": 6,
    "start_time": "2025-02-11T16:53:22.275Z"
   },
   {
    "duration": 853,
    "start_time": "2025-02-11T16:55:43.072Z"
   },
   {
    "duration": 68,
    "start_time": "2025-02-11T16:55:48.519Z"
   },
   {
    "duration": 82,
    "start_time": "2025-02-11T16:55:56.620Z"
   },
   {
    "duration": 15,
    "start_time": "2025-02-11T16:56:00.815Z"
   },
   {
    "duration": 99,
    "start_time": "2025-02-11T16:56:05.999Z"
   },
   {
    "duration": 90,
    "start_time": "2025-02-11T16:56:09.800Z"
   },
   {
    "duration": 31,
    "start_time": "2025-02-11T16:56:13.386Z"
   },
   {
    "duration": 14,
    "start_time": "2025-02-11T16:56:18.215Z"
   },
   {
    "duration": 4,
    "start_time": "2025-02-11T16:56:21.563Z"
   },
   {
    "duration": 20,
    "start_time": "2025-02-11T16:56:25.135Z"
   },
   {
    "duration": 18,
    "start_time": "2025-02-11T16:57:06.272Z"
   },
   {
    "duration": 28,
    "start_time": "2025-02-11T16:57:42.797Z"
   },
   {
    "duration": 7,
    "start_time": "2025-02-11T16:58:21.546Z"
   },
   {
    "duration": 7,
    "start_time": "2025-02-11T16:59:40.715Z"
   },
   {
    "duration": 6,
    "start_time": "2025-02-11T16:59:51.375Z"
   },
   {
    "duration": 801,
    "start_time": "2025-02-11T17:00:16.143Z"
   },
   {
    "duration": 962,
    "start_time": "2025-02-11T17:00:22.941Z"
   },
   {
    "duration": 8,
    "start_time": "2025-02-11T17:02:00.421Z"
   },
   {
    "duration": 8,
    "start_time": "2025-02-11T17:08:32.973Z"
   },
   {
    "duration": 10,
    "start_time": "2025-02-11T17:14:41.599Z"
   },
   {
    "duration": 11,
    "start_time": "2025-02-11T17:15:01.825Z"
   },
   {
    "duration": 14,
    "start_time": "2025-02-11T17:15:40.358Z"
   },
   {
    "duration": 8,
    "start_time": "2025-02-11T17:15:57.582Z"
   },
   {
    "duration": 30,
    "start_time": "2025-02-11T17:16:01.297Z"
   },
   {
    "duration": 285,
    "start_time": "2025-02-11T17:16:31.504Z"
   },
   {
    "duration": 11,
    "start_time": "2025-02-11T17:17:36.253Z"
   },
   {
    "duration": 22,
    "start_time": "2025-02-11T17:18:51.107Z"
   },
   {
    "duration": 16,
    "start_time": "2025-02-11T17:20:17.887Z"
   },
   {
    "duration": 6,
    "start_time": "2025-02-11T17:23:32.148Z"
   },
   {
    "duration": 208,
    "start_time": "2025-02-11T17:26:07.345Z"
   },
   {
    "duration": 62,
    "start_time": "2025-02-11T17:27:00.758Z"
   },
   {
    "duration": 61,
    "start_time": "2025-02-11T17:27:17.059Z"
   },
   {
    "duration": 65,
    "start_time": "2025-02-11T17:29:12.966Z"
   },
   {
    "duration": 73,
    "start_time": "2025-02-11T17:30:47.271Z"
   },
   {
    "duration": 68,
    "start_time": "2025-02-11T17:31:09.149Z"
   },
   {
    "duration": 14,
    "start_time": "2025-02-11T17:32:43.179Z"
   },
   {
    "duration": 545,
    "start_time": "2025-02-11T17:33:51.673Z"
   },
   {
    "duration": 71,
    "start_time": "2025-02-11T17:34:25.876Z"
   },
   {
    "duration": 76,
    "start_time": "2025-02-11T17:36:19.813Z"
   },
   {
    "duration": 29,
    "start_time": "2025-02-11T17:37:51.879Z"
   },
   {
    "duration": 13,
    "start_time": "2025-02-11T17:38:01.834Z"
   },
   {
    "duration": 13,
    "start_time": "2025-02-11T17:38:31.235Z"
   },
   {
    "duration": 16,
    "start_time": "2025-02-11T17:38:50.971Z"
   },
   {
    "duration": 12,
    "start_time": "2025-02-11T17:41:32.922Z"
   },
   {
    "duration": 13,
    "start_time": "2025-02-11T17:42:00.312Z"
   },
   {
    "duration": 65,
    "start_time": "2025-02-11T17:48:45.063Z"
   },
   {
    "duration": 35,
    "start_time": "2025-02-11T17:53:39.699Z"
   },
   {
    "duration": 15657,
    "start_time": "2025-02-11T17:54:37.374Z"
   },
   {
    "duration": 15807,
    "start_time": "2025-02-11T17:54:53.033Z"
   },
   {
    "duration": 319,
    "start_time": "2025-02-11T17:55:08.842Z"
   },
   {
    "duration": 157,
    "start_time": "2025-02-11T17:55:09.483Z"
   },
   {
    "duration": 228,
    "start_time": "2025-02-11T17:55:28.144Z"
   },
   {
    "duration": 4,
    "start_time": "2025-02-11T17:55:38.363Z"
   },
   {
    "duration": 133,
    "start_time": "2025-02-11T17:55:43.496Z"
   },
   {
    "duration": 125,
    "start_time": "2025-02-11T17:56:21.967Z"
   },
   {
    "duration": 179,
    "start_time": "2025-02-11T17:56:26.807Z"
   },
   {
    "duration": 199,
    "start_time": "2025-02-11T17:56:32.578Z"
   },
   {
    "duration": 109,
    "start_time": "2025-02-11T17:57:25.036Z"
   },
   {
    "duration": 222,
    "start_time": "2025-02-11T17:57:35.682Z"
   },
   {
    "duration": 517,
    "start_time": "2025-02-11T17:57:49.395Z"
   },
   {
    "duration": 6,
    "start_time": "2025-02-11T17:57:57.981Z"
   },
   {
    "duration": 176,
    "start_time": "2025-02-11T17:58:15.767Z"
   },
   {
    "duration": 201,
    "start_time": "2025-02-11T17:58:24.397Z"
   },
   {
    "duration": 1243,
    "start_time": "2025-02-11T17:58:35.885Z"
   },
   {
    "duration": 5,
    "start_time": "2025-02-11T17:58:43.139Z"
   },
   {
    "duration": 867,
    "start_time": "2025-02-11T18:00:35.224Z"
   },
   {
    "duration": 878,
    "start_time": "2025-02-11T18:05:15.023Z"
   },
   {
    "duration": 892,
    "start_time": "2025-02-11T18:05:32.241Z"
   },
   {
    "duration": 1048,
    "start_time": "2025-02-11T18:13:07.903Z"
   },
   {
    "duration": 1071,
    "start_time": "2025-02-11T18:17:25.912Z"
   }
  ],
  "kernelspec": {
   "display_name": "Python [conda env:base] *",
   "language": "python",
   "name": "conda-base-py"
  },
  "language_info": {
   "codemirror_mode": {
    "name": "ipython",
    "version": 3
   },
   "file_extension": ".py",
   "mimetype": "text/x-python",
   "name": "python",
   "nbconvert_exporter": "python",
   "pygments_lexer": "ipython3",
   "version": "3.12.7"
  },
  "toc": {
   "base_numbering": 1,
   "nav_menu": {},
   "number_sections": true,
   "sideBar": true,
   "skip_h1_title": true,
   "title_cell": "Table of Contents",
   "title_sidebar": "Contents",
   "toc_cell": false,
   "toc_position": {
    "height": "calc(100% - 180px)",
    "left": "10px",
    "top": "150px",
    "width": "217.6px"
   },
   "toc_section_display": true,
   "toc_window_display": true
  },
  "vscode": {
   "interpreter": {
    "hash": "01a7be9ec63e704a62cefc5fe7a4756944464ee731be31632bdf42a4cb4688cf"
   }
  }
 },
 "nbformat": 4,
 "nbformat_minor": 5
}
